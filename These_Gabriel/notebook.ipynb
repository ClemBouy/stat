{
 "cells": [
  {
   "cell_type": "markdown",
   "id": "815e26ca",
   "metadata": {},
   "source": [
    "# data.csv\n",
    "\n",
    "```\n",
    "SELECT period.name, internship.type, skill_entry_with_workflow.id, skill_main.code, skill_descriptor.code, skill_situation_family.code ,skill_entry_with_workflow.workflow_state, skill_entry_with_workflow.created_at, skill_entry_with_workflow.updated_at\n",
    "FROM skill_entry_with_workflow\n",
    "LEFT JOIN skill_descriptor ON skill_entry_with_workflow.skill_descriptor_id = skill_descriptor.id\n",
    "LEFT JOIN skill_main ON skill_descriptor.skill_main_id = skill_main.id\n",
    "LEFT JOIN skill_container_with_situation_family ON skill_entry_with_workflow.skill_container_id = skill_container_with_situation_family.id\n",
    "LEFT JOIN skill_situation_family ON skill_container_with_situation_family.situation_family_id = skill_situation_family.id\n",
    "LEFT JOIN scoreboard_entry_abstract ON skill_container_with_situation_family.id = scoreboard_entry_abstract.skill_container_id\n",
    "LEFT JOIN internship_assignment ON scoreboard_entry_abstract.internship_assignment_id = internship_assignment.id\n",
    "LEFT JOIN period ON internship_assignment.period_id = period.id\n",
    "LEFT JOIN internship ON internship_assignment.internship_id = internship.id\n",
    "\n",
    "WHERE (period.name = \"20222\" OR period.name = \"20231\" OR period.name = \"20232\" OR period.name = \"20241\") AND internship.type = \"internshipPractical\"\n",
    "```"
   ]
  },
  {
   "cell_type": "code",
   "execution_count": 2,
   "id": "baa64d21",
   "metadata": {},
   "outputs": [],
   "source": [
    "import pandas as pd\n",
    "import numpy as np\n",
    "from fanalysis.ca import CA\n",
    "import matplotlib.pyplot as plt"
   ]
  },
  {
   "cell_type": "code",
   "execution_count": 3,
   "id": "d544120a",
   "metadata": {},
   "outputs": [
    {
     "data": {
      "application/vnd.microsoft.datawrangler.viewer.v0+json": {
       "columns": [
        {
         "name": "index",
         "rawType": "int64",
         "type": "integer"
        },
        {
         "name": "name",
         "rawType": "int64",
         "type": "integer"
        },
        {
         "name": "type",
         "rawType": "object",
         "type": "string"
        },
        {
         "name": "id",
         "rawType": "object",
         "type": "string"
        },
        {
         "name": "code",
         "rawType": "object",
         "type": "string"
        },
        {
         "name": "code.1",
         "rawType": "object",
         "type": "string"
        },
        {
         "name": "code.2",
         "rawType": "object",
         "type": "string"
        },
        {
         "name": "workflow_state",
         "rawType": "object",
         "type": "string"
        },
        {
         "name": "created_at",
         "rawType": "object",
         "type": "string"
        },
        {
         "name": "updated_at",
         "rawType": "object",
         "type": "string"
        }
       ],
       "conversionMethod": "pd.DataFrame",
       "ref": "a23c8894-f715-48d4-833e-6172642aa3f9",
       "rows": [
        [
         "0",
         "20232",
         "internshipPractical",
         "018fb9a9-679e-7a4a-b7aa-39c1aa113192",
         "C1",
         "C1NnD5",
         "FS02",
         "certified",
         "2024-05-27 12:47:18",
         "2024-07-01 11:38:05"
        ],
        [
         "1",
         "20232",
         "internshipPractical",
         "018fb9a9-b74f-7747-b952-19298903556b",
         "C3",
         "C3NnD3",
         "FS02",
         "certified",
         "2024-05-27 12:47:38",
         "2024-07-01 11:38:30"
        ],
        [
         "2",
         "20232",
         "internshipPractical",
         "018fb9ae-2e81-7832-b25a-224b59a31ad0",
         "C1",
         "C1NnD1",
         "FS01",
         "certified",
         "2024-05-27 12:52:31",
         "2024-07-01 11:38:47"
        ],
        [
         "3",
         "20232",
         "internshipPractical",
         "018fb9ae-6869-76b8-a0cc-6b25e384dbf6",
         "C1",
         "C1NnD6",
         "FS01",
         "certified",
         "2024-05-27 12:52:46",
         "2024-07-01 11:38:59"
        ],
        [
         "4",
         "20232",
         "internshipPractical",
         "018fc3ff-7f2e-7a8e-b760-aa27fd7cdb33",
         "C1",
         "C1NiD6",
         "FS03",
         "certified",
         "2024-05-29 12:57:32",
         "2024-07-01 11:39:37"
        ],
        [
         "5",
         "20232",
         "internshipPractical",
         "018fc401-2c82-7b6a-a383-67d291c3c09c",
         "C4",
         "C4NnD1",
         "FS03",
         "certified",
         "2024-05-29 12:59:22",
         "2024-07-01 11:39:54"
        ],
        [
         "6",
         "20232",
         "internshipPractical",
         "018fc405-cd44-7565-82a9-f9d1afc7f8f1",
         "C5",
         "C5NnD1",
         "FS01",
         "certified",
         "2024-05-29 13:04:25",
         "2024-07-01 11:40:05"
        ],
        [
         "7",
         "20232",
         "internshipPractical",
         "018fc406-c947-7637-a067-bdfa67f58503",
         "C6",
         "C6NiD2",
         "FS01",
         "certified",
         "2024-05-29 13:05:30",
         "2024-07-01 11:40:15"
        ],
        [
         "8",
         "20232",
         "internshipPractical",
         "018fc40b-0969-792a-92de-638879a2926a",
         "C2",
         "C2NnD1",
         "FS01",
         "certified",
         "2024-05-29 13:10:08",
         "2024-07-01 11:40:54"
        ],
        [
         "9",
         "20232",
         "internshipPractical",
         "018fc40b-a557-7d50-9f2b-090cdaa3752d",
         "C5",
         "C5NnD2",
         "FS01",
         "certified",
         "2024-05-29 13:10:48",
         "2024-07-01 11:40:39"
        ],
        [
         "10",
         "20232",
         "internshipPractical",
         "018fc561-617c-798a-94ce-3767851a4994",
         "C3",
         "C3NnD2",
         "FS09",
         "certified",
         "2024-05-29 19:24:04",
         "2024-06-27 15:37:27"
        ],
        [
         "11",
         "20232",
         "internshipPractical",
         "018fc562-4ebd-72ec-aeee-f4845004f8f9",
         "C1",
         "C1NnD4",
         "FS09",
         "certified",
         "2024-05-29 19:25:05",
         "2024-06-27 15:37:31"
        ],
        [
         "12",
         "20232",
         "internshipPractical",
         "018fc566-e9ca-7959-bb8c-38293d070cb9",
         "C3",
         "C3NnD4",
         "FS01",
         "certified",
         "2024-05-29 19:30:07",
         "2024-06-27 15:37:21"
        ],
        [
         "13",
         "20232",
         "internshipPractical",
         "018fc56d-1e76-77eb-9105-2daef653f845",
         "C5",
         "C5NiD2",
         "FS01",
         "certified",
         "2024-05-29 19:36:53",
         "2024-06-27 15:37:09"
        ],
        [
         "14",
         "20232",
         "internshipPractical",
         "018fc56e-0956-765d-8ba5-ad246eb52de1",
         "C2",
         "C2NiD4",
         "FS01",
         "certified",
         "2024-05-29 19:37:54",
         "2024-06-27 15:37:14"
        ],
        [
         "15",
         "20232",
         "internshipPractical",
         "018fcdf6-d263-7e05-ae95-3137bb2dee47",
         "C1",
         "C1NiD2",
         "FS01",
         "certified",
         "2024-05-31 11:24:16",
         "2024-07-01 11:41:06"
        ],
        [
         "16",
         "20232",
         "internshipPractical",
         "018fce82-f3cb-7fbf-a623-5035dbea105e",
         "C6",
         "C6NnD2",
         "FS01",
         "certified",
         "2024-05-31 13:57:19",
         "2024-07-01 11:41:20"
        ],
        [
         "17",
         "20232",
         "internshipPractical",
         "018fce84-f7f0-7b89-8fc8-cfd84ec3b507",
         "C1",
         "C1NnD2",
         "FS07",
         "certified",
         "2024-05-31 13:59:31",
         "2024-07-01 11:41:49"
        ],
        [
         "18",
         "20232",
         "internshipPractical",
         "018fce85-56a7-7e8e-a9c6-c7c56d4025de",
         "C1",
         "C1NnD6",
         "FS07",
         "certified",
         "2024-05-31 13:59:56",
         "2024-07-01 11:42:18"
        ],
        [
         "19",
         "20232",
         "internshipPractical",
         "018fce89-ea01-768f-938a-a6b71ca81042",
         "C5",
         "C5NnD5",
         "FS01",
         "certified",
         "2024-05-31 14:04:55",
         "2024-07-01 11:46:50"
        ],
        [
         "20",
         "20232",
         "internshipPractical",
         "018fce8a-a906-7af4-b652-7be542784cd3",
         "C5",
         "C5NnD6",
         "FS01",
         "certified",
         "2024-05-31 14:05:44",
         "2024-07-01 11:47:03"
        ],
        [
         "21",
         "20232",
         "internshipPractical",
         "018fce8c-6dba-734d-9e1d-f3c790d2c614",
         "C1",
         "C1NnD2",
         "FS04",
         "certified",
         "2024-05-31 14:07:40",
         "2024-07-01 11:47:30"
        ],
        [
         "22",
         "20232",
         "internshipPractical",
         "018fce8c-f77a-7f40-90b5-5c040f92c53c",
         "C1",
         "C1NiD1",
         "FS04",
         "certified",
         "2024-05-31 14:08:15",
         "2024-07-01 11:47:38"
        ],
        [
         "23",
         "20232",
         "internshipPractical",
         "018fce8f-6b29-7424-bcdb-d22eb874a812",
         "C2",
         "C2NiD4",
         "FS03",
         "certified",
         "2024-05-31 14:10:56",
         "2024-07-01 11:48:08"
        ],
        [
         "24",
         "20232",
         "internshipPractical",
         "018fce91-d2e3-73e4-8647-1f3590f310d0",
         "C5",
         "C5NiD4",
         "FS03",
         "certified",
         "2024-05-31 14:13:34",
         "2024-07-01 11:48:18"
        ],
        [
         "25",
         "20232",
         "internshipPractical",
         "018fda10-07b2-79d5-9e1c-5cf524544c60",
         "C4",
         "C4NnD3",
         "FS02",
         "certified",
         "2024-06-02 19:47:14",
         "2024-06-28 16:32:16"
        ],
        [
         "26",
         "20232",
         "internshipPractical",
         "018fda10-9846-7ab0-bf18-841a542a5e38",
         "C4",
         "C4NiD5",
         "FS02",
         "certified",
         "2024-06-02 19:47:51",
         "2024-06-28 16:32:22"
        ],
        [
         "27",
         "20232",
         "internshipPractical",
         "018fda12-6dde-7df2-bf57-dade058aa74d",
         "C2",
         "C2NiD5",
         "FS02",
         "certified",
         "2024-06-02 19:49:51",
         "2024-06-28 16:32:03"
        ],
        [
         "28",
         "20232",
         "internshipPractical",
         "018fda12-c742-7c9e-99a6-25b5cc75c01f",
         "C3",
         "C3NnD1",
         "FS02",
         "certified",
         "2024-06-02 19:50:14",
         "2024-06-28 16:32:10"
        ],
        [
         "29",
         "20232",
         "internshipPractical",
         "018fdfb1-ed88-76ca-aa7c-338e5744316d",
         "C1",
         "C1NnD1",
         "FS03",
         "certified",
         "2024-06-03 22:02:10",
         "2024-07-01 12:03:43"
        ],
        [
         "30",
         "20232",
         "internshipPractical",
         "018fdfb2-7ed2-7579-a139-2d61ef1c0644",
         "C1",
         "C1NnD3",
         "FS03",
         "certified",
         "2024-06-03 22:02:48",
         "2024-07-01 12:04:07"
        ],
        [
         "31",
         "20232",
         "internshipPractical",
         "018fdfb4-3d38-78c4-ab16-5206a16c453f",
         "C1",
         "C1NnD7",
         "FS04",
         "certified",
         "2024-06-03 22:04:42",
         "2024-07-01 12:04:30"
        ],
        [
         "32",
         "20232",
         "internshipPractical",
         "018fdfb4-c158-7dcc-986b-3f4255eac6e6",
         "C1",
         "C1NiD3",
         "FS04",
         "certified",
         "2024-06-03 22:05:16",
         "2024-07-01 12:04:46"
        ],
        [
         "33",
         "20232",
         "internshipPractical",
         "018fe43c-2ee3-7baf-b109-4bb3773bc050",
         "C1",
         "C1NnD2",
         "FS02",
         "certified",
         "2024-06-04 19:11:40",
         "2024-06-28 16:31:52"
        ],
        [
         "34",
         "20232",
         "internshipPractical",
         "018fe43d-f52e-7bd4-b080-d43ed93ab340",
         "C4",
         "C4NiD2",
         "FS02",
         "certified",
         "2024-06-04 19:13:36",
         "2024-06-28 16:31:57"
        ],
        [
         "35",
         "20232",
         "internshipPractical",
         "018fe440-ac2c-7acd-8a32-0bea6c2e06a8",
         "C5",
         "C5NnD3",
         "FS01",
         "certified",
         "2024-06-04 19:16:34",
         "2024-06-28 16:31:40"
        ],
        [
         "36",
         "20232",
         "internshipPractical",
         "018fe441-f760-717b-96c3-05ec0f108fcc",
         "C5",
         "C5NiD1",
         "FS01",
         "certified",
         "2024-06-04 19:17:59",
         "2024-06-28 16:31:46"
        ],
        [
         "37",
         "20232",
         "internshipPractical",
         "018fe444-c43a-7637-a318-0e1936891ba6",
         "C6",
         "C6NiD2",
         "FS02",
         "certified",
         "2024-06-04 19:21:03",
         "2024-06-28 16:31:26"
        ],
        [
         "38",
         "20232",
         "internshipPractical",
         "018fe447-6aff-71f5-a389-8356ebfd8e75",
         "C1",
         "C1NiD3",
         "FS02",
         "certified",
         "2024-06-04 19:23:56",
         "2024-06-28 16:31:34"
        ],
        [
         "39",
         "20232",
         "internshipPractical",
         "018fe44a-0f83-7b90-bcfd-7489598141aa",
         "C1",
         "C1NnD7",
         "FS09",
         "certified",
         "2024-06-04 19:26:49",
         "2024-06-28 16:31:09"
        ],
        [
         "40",
         "20232",
         "internshipPractical",
         "018fe44a-e72d-78fa-874e-c988a62a1464",
         "C4",
         "C4NnD1",
         "FS09",
         "certified",
         "2024-06-04 19:27:45",
         "2024-06-28 16:31:14"
        ],
        [
         "41",
         "20232",
         "internshipPractical",
         "018fe44e-60d2-7aba-b9ca-6e62e32cb0e4",
         "C1",
         "C1NiD4",
         "FS02",
         "certified",
         "2024-06-04 19:31:32",
         "2024-06-28 16:30:58"
        ],
        [
         "42",
         "20232",
         "internshipPractical",
         "018fe450-6efb-7425-9b3c-fcf6991ab942",
         "C4",
         "C4NiD3",
         "FS02",
         "certified",
         "2024-06-04 19:33:47",
         "2024-06-28 16:31:04"
        ],
        [
         "43",
         "20232",
         "internshipPractical",
         "018fe453-6ae1-7fbf-bf6c-ff4961dbf1b8",
         "C3",
         "C3NnD2",
         "FS01",
         "certified",
         "2024-06-04 19:37:03",
         "2024-06-28 16:30:47"
        ],
        [
         "44",
         "20232",
         "internshipPractical",
         "018fe454-29f7-7018-bc6b-359e2de9e02a",
         "C1",
         "C1NnD2",
         "FS01",
         "certified",
         "2024-06-04 19:37:52",
         "2024-06-28 16:30:53"
        ],
        [
         "45",
         "20232",
         "internshipPractical",
         "01900201-4742-7148-a295-6b430a19a6c1",
         "C1",
         "C1NnD3",
         "FS01",
         "certified",
         "2024-06-10 13:55:56",
         "2024-07-01 12:05:03"
        ],
        [
         "46",
         "20232",
         "internshipPractical",
         "01900201-8f06-75d7-bdb5-2cb68ac578c0",
         "C1",
         "C1NnD5",
         "FS01",
         "certified",
         "2024-06-10 13:56:14",
         "2024-07-01 12:05:21"
        ],
        [
         "47",
         "20232",
         "internshipPractical",
         "01900204-6bd4-7862-99f9-b10e41638ac7",
         "C1",
         "C1NnD6",
         "FS04",
         "certified",
         "2024-06-10 13:59:22",
         "2024-07-01 12:05:39"
        ],
        [
         "48",
         "20232",
         "internshipPractical",
         "01900204-b507-723f-96ac-9ad9e195822f",
         "C1",
         "C1NnD8",
         "FS04",
         "certified",
         "2024-06-10 13:59:41",
         "2024-07-01 12:05:47"
        ],
        [
         "49",
         "20232",
         "internshipPractical",
         "01900209-7f9c-7711-9f27-495e20b41a5d",
         "C1",
         "C1NnD1",
         "FS05",
         "certified",
         "2024-06-10 14:04:55",
         "2024-07-01 12:06:05"
        ]
       ],
       "shape": {
        "columns": 9,
        "rows": 81639
       }
      },
      "text/html": [
       "<div>\n",
       "<style scoped>\n",
       "    .dataframe tbody tr th:only-of-type {\n",
       "        vertical-align: middle;\n",
       "    }\n",
       "\n",
       "    .dataframe tbody tr th {\n",
       "        vertical-align: top;\n",
       "    }\n",
       "\n",
       "    .dataframe thead th {\n",
       "        text-align: right;\n",
       "    }\n",
       "</style>\n",
       "<table border=\"1\" class=\"dataframe\">\n",
       "  <thead>\n",
       "    <tr style=\"text-align: right;\">\n",
       "      <th></th>\n",
       "      <th>name</th>\n",
       "      <th>type</th>\n",
       "      <th>id</th>\n",
       "      <th>code</th>\n",
       "      <th>code.1</th>\n",
       "      <th>code.2</th>\n",
       "      <th>workflow_state</th>\n",
       "      <th>created_at</th>\n",
       "      <th>updated_at</th>\n",
       "    </tr>\n",
       "  </thead>\n",
       "  <tbody>\n",
       "    <tr>\n",
       "      <th>0</th>\n",
       "      <td>20232</td>\n",
       "      <td>internshipPractical</td>\n",
       "      <td>018fb9a9-679e-7a4a-b7aa-39c1aa113192</td>\n",
       "      <td>C1</td>\n",
       "      <td>C1NnD5</td>\n",
       "      <td>FS02</td>\n",
       "      <td>certified</td>\n",
       "      <td>2024-05-27 12:47:18</td>\n",
       "      <td>2024-07-01 11:38:05</td>\n",
       "    </tr>\n",
       "    <tr>\n",
       "      <th>1</th>\n",
       "      <td>20232</td>\n",
       "      <td>internshipPractical</td>\n",
       "      <td>018fb9a9-b74f-7747-b952-19298903556b</td>\n",
       "      <td>C3</td>\n",
       "      <td>C3NnD3</td>\n",
       "      <td>FS02</td>\n",
       "      <td>certified</td>\n",
       "      <td>2024-05-27 12:47:38</td>\n",
       "      <td>2024-07-01 11:38:30</td>\n",
       "    </tr>\n",
       "    <tr>\n",
       "      <th>2</th>\n",
       "      <td>20232</td>\n",
       "      <td>internshipPractical</td>\n",
       "      <td>018fb9ae-2e81-7832-b25a-224b59a31ad0</td>\n",
       "      <td>C1</td>\n",
       "      <td>C1NnD1</td>\n",
       "      <td>FS01</td>\n",
       "      <td>certified</td>\n",
       "      <td>2024-05-27 12:52:31</td>\n",
       "      <td>2024-07-01 11:38:47</td>\n",
       "    </tr>\n",
       "    <tr>\n",
       "      <th>3</th>\n",
       "      <td>20232</td>\n",
       "      <td>internshipPractical</td>\n",
       "      <td>018fb9ae-6869-76b8-a0cc-6b25e384dbf6</td>\n",
       "      <td>C1</td>\n",
       "      <td>C1NnD6</td>\n",
       "      <td>FS01</td>\n",
       "      <td>certified</td>\n",
       "      <td>2024-05-27 12:52:46</td>\n",
       "      <td>2024-07-01 11:38:59</td>\n",
       "    </tr>\n",
       "    <tr>\n",
       "      <th>4</th>\n",
       "      <td>20232</td>\n",
       "      <td>internshipPractical</td>\n",
       "      <td>018fc3ff-7f2e-7a8e-b760-aa27fd7cdb33</td>\n",
       "      <td>C1</td>\n",
       "      <td>C1NiD6</td>\n",
       "      <td>FS03</td>\n",
       "      <td>certified</td>\n",
       "      <td>2024-05-29 12:57:32</td>\n",
       "      <td>2024-07-01 11:39:37</td>\n",
       "    </tr>\n",
       "    <tr>\n",
       "      <th>...</th>\n",
       "      <td>...</td>\n",
       "      <td>...</td>\n",
       "      <td>...</td>\n",
       "      <td>...</td>\n",
       "      <td>...</td>\n",
       "      <td>...</td>\n",
       "      <td>...</td>\n",
       "      <td>...</td>\n",
       "      <td>...</td>\n",
       "    </tr>\n",
       "    <tr>\n",
       "      <th>81634</th>\n",
       "      <td>20231</td>\n",
       "      <td>internshipPractical</td>\n",
       "      <td>1ee7d757-ded1-66d2-81c2-c3fe946aa90b</td>\n",
       "      <td>C4</td>\n",
       "      <td>C4NcD3</td>\n",
       "      <td>FS02</td>\n",
       "      <td>in_progress</td>\n",
       "      <td>2023-11-07 14:56:47</td>\n",
       "      <td>2023-11-07 14:56:47</td>\n",
       "    </tr>\n",
       "    <tr>\n",
       "      <th>81635</th>\n",
       "      <td>20231</td>\n",
       "      <td>internshipPractical</td>\n",
       "      <td>1ee7d759-4478-6548-87da-032039870491</td>\n",
       "      <td>C5</td>\n",
       "      <td>C5NcD2</td>\n",
       "      <td>FS09</td>\n",
       "      <td>in_progress</td>\n",
       "      <td>2023-11-07 14:57:24</td>\n",
       "      <td>2023-11-07 14:57:24</td>\n",
       "    </tr>\n",
       "    <tr>\n",
       "      <th>81636</th>\n",
       "      <td>20231</td>\n",
       "      <td>internshipPractical</td>\n",
       "      <td>1ee7d75a-668d-6754-a53d-932a1d23546b</td>\n",
       "      <td>C5</td>\n",
       "      <td>C5NcD6</td>\n",
       "      <td>FS01</td>\n",
       "      <td>in_progress</td>\n",
       "      <td>2023-11-07 14:57:55</td>\n",
       "      <td>2023-11-07 14:57:55</td>\n",
       "    </tr>\n",
       "    <tr>\n",
       "      <th>81637</th>\n",
       "      <td>20231</td>\n",
       "      <td>internshipPractical</td>\n",
       "      <td>1ee7d75c-e927-6758-b419-bf1c633e8370</td>\n",
       "      <td>C3</td>\n",
       "      <td>C3NcD1</td>\n",
       "      <td>FS10</td>\n",
       "      <td>in_progress</td>\n",
       "      <td>2023-11-07 14:59:02</td>\n",
       "      <td>2023-11-07 14:59:02</td>\n",
       "    </tr>\n",
       "    <tr>\n",
       "      <th>81638</th>\n",
       "      <td>20231</td>\n",
       "      <td>internshipPractical</td>\n",
       "      <td>1ee7d75e-4323-6a58-a27e-37f8d5a1cd73</td>\n",
       "      <td>C5</td>\n",
       "      <td>C5NcD6</td>\n",
       "      <td>FS04</td>\n",
       "      <td>in_progress</td>\n",
       "      <td>2023-11-07 14:59:38</td>\n",
       "      <td>2023-11-07 14:59:38</td>\n",
       "    </tr>\n",
       "  </tbody>\n",
       "</table>\n",
       "<p>81639 rows × 9 columns</p>\n",
       "</div>"
      ],
      "text/plain": [
       "        name                 type                                    id code  \\\n",
       "0      20232  internshipPractical  018fb9a9-679e-7a4a-b7aa-39c1aa113192   C1   \n",
       "1      20232  internshipPractical  018fb9a9-b74f-7747-b952-19298903556b   C3   \n",
       "2      20232  internshipPractical  018fb9ae-2e81-7832-b25a-224b59a31ad0   C1   \n",
       "3      20232  internshipPractical  018fb9ae-6869-76b8-a0cc-6b25e384dbf6   C1   \n",
       "4      20232  internshipPractical  018fc3ff-7f2e-7a8e-b760-aa27fd7cdb33   C1   \n",
       "...      ...                  ...                                   ...  ...   \n",
       "81634  20231  internshipPractical  1ee7d757-ded1-66d2-81c2-c3fe946aa90b   C4   \n",
       "81635  20231  internshipPractical  1ee7d759-4478-6548-87da-032039870491   C5   \n",
       "81636  20231  internshipPractical  1ee7d75a-668d-6754-a53d-932a1d23546b   C5   \n",
       "81637  20231  internshipPractical  1ee7d75c-e927-6758-b419-bf1c633e8370   C3   \n",
       "81638  20231  internshipPractical  1ee7d75e-4323-6a58-a27e-37f8d5a1cd73   C5   \n",
       "\n",
       "       code.1 code.2 workflow_state           created_at           updated_at  \n",
       "0      C1NnD5   FS02      certified  2024-05-27 12:47:18  2024-07-01 11:38:05  \n",
       "1      C3NnD3   FS02      certified  2024-05-27 12:47:38  2024-07-01 11:38:30  \n",
       "2      C1NnD1   FS01      certified  2024-05-27 12:52:31  2024-07-01 11:38:47  \n",
       "3      C1NnD6   FS01      certified  2024-05-27 12:52:46  2024-07-01 11:38:59  \n",
       "4      C1NiD6   FS03      certified  2024-05-29 12:57:32  2024-07-01 11:39:37  \n",
       "...       ...    ...            ...                  ...                  ...  \n",
       "81634  C4NcD3   FS02    in_progress  2023-11-07 14:56:47  2023-11-07 14:56:47  \n",
       "81635  C5NcD2   FS09    in_progress  2023-11-07 14:57:24  2023-11-07 14:57:24  \n",
       "81636  C5NcD6   FS01    in_progress  2023-11-07 14:57:55  2023-11-07 14:57:55  \n",
       "81637  C3NcD1   FS10    in_progress  2023-11-07 14:59:02  2023-11-07 14:59:02  \n",
       "81638  C5NcD6   FS04    in_progress  2023-11-07 14:59:38  2023-11-07 14:59:38  \n",
       "\n",
       "[81639 rows x 9 columns]"
      ]
     },
     "metadata": {},
     "output_type": "display_data"
    }
   ],
   "source": [
    "data = pd.read_csv('data/data.csv')\n",
    "display(data)"
   ]
  },
  {
   "cell_type": "code",
   "execution_count": 5,
   "id": "6141cb5b",
   "metadata": {},
   "outputs": [
    {
     "data": {
      "application/vnd.microsoft.datawrangler.viewer.v0+json": {
       "columns": [
        {
         "name": "code",
         "rawType": "object",
         "type": "string"
        },
        {
         "name": "FS01",
         "rawType": "int64",
         "type": "integer"
        },
        {
         "name": "FS02",
         "rawType": "int64",
         "type": "integer"
        },
        {
         "name": "FS03",
         "rawType": "int64",
         "type": "integer"
        },
        {
         "name": "FS04",
         "rawType": "int64",
         "type": "integer"
        },
        {
         "name": "FS05",
         "rawType": "int64",
         "type": "integer"
        },
        {
         "name": "FS06",
         "rawType": "int64",
         "type": "integer"
        },
        {
         "name": "FS07",
         "rawType": "int64",
         "type": "integer"
        },
        {
         "name": "FS08",
         "rawType": "int64",
         "type": "integer"
        },
        {
         "name": "FS09",
         "rawType": "int64",
         "type": "integer"
        },
        {
         "name": "FS10",
         "rawType": "int64",
         "type": "integer"
        },
        {
         "name": "FS11",
         "rawType": "int64",
         "type": "integer"
        }
       ],
       "conversionMethod": "pd.DataFrame",
       "ref": "edde35c3-6676-4b68-aee7-e9addb8cfc83",
       "rows": [
        [
         "C1",
         "3497",
         "3631",
         "2588",
         "2508",
         "998",
         "868",
         "1337",
         "553",
         "1700",
         "934",
         "659"
        ],
        [
         "C2",
         "2107",
         "2110",
         "1639",
         "1274",
         "672",
         "570",
         "924",
         "307",
         "1049",
         "555",
         "403"
        ],
        [
         "C3",
         "2554",
         "2193",
         "1189",
         "2131",
         "1044",
         "272",
         "405",
         "492",
         "769",
         "540",
         "540"
        ],
        [
         "C4",
         "1973",
         "3507",
         "3452",
         "2144",
         "796",
         "284",
         "512",
         "266",
         "905",
         "457",
         "411"
        ],
        [
         "C5",
         "3594",
         "3085",
         "2373",
         "1930",
         "937",
         "467",
         "953",
         "486",
         "1211",
         "718",
         "534"
        ],
        [
         "C6",
         "1278",
         "1383",
         "1074",
         "1108",
         "545",
         "252",
         "436",
         "384",
         "550",
         "348",
         "274"
        ]
       ],
       "shape": {
        "columns": 11,
        "rows": 6
       }
      },
      "text/html": [
       "<div>\n",
       "<style scoped>\n",
       "    .dataframe tbody tr th:only-of-type {\n",
       "        vertical-align: middle;\n",
       "    }\n",
       "\n",
       "    .dataframe tbody tr th {\n",
       "        vertical-align: top;\n",
       "    }\n",
       "\n",
       "    .dataframe thead th {\n",
       "        text-align: right;\n",
       "    }\n",
       "</style>\n",
       "<table border=\"1\" class=\"dataframe\">\n",
       "  <thead>\n",
       "    <tr style=\"text-align: right;\">\n",
       "      <th>code.2</th>\n",
       "      <th>FS01</th>\n",
       "      <th>FS02</th>\n",
       "      <th>FS03</th>\n",
       "      <th>FS04</th>\n",
       "      <th>FS05</th>\n",
       "      <th>FS06</th>\n",
       "      <th>FS07</th>\n",
       "      <th>FS08</th>\n",
       "      <th>FS09</th>\n",
       "      <th>FS10</th>\n",
       "      <th>FS11</th>\n",
       "    </tr>\n",
       "    <tr>\n",
       "      <th>code</th>\n",
       "      <th></th>\n",
       "      <th></th>\n",
       "      <th></th>\n",
       "      <th></th>\n",
       "      <th></th>\n",
       "      <th></th>\n",
       "      <th></th>\n",
       "      <th></th>\n",
       "      <th></th>\n",
       "      <th></th>\n",
       "      <th></th>\n",
       "    </tr>\n",
       "  </thead>\n",
       "  <tbody>\n",
       "    <tr>\n",
       "      <th>C1</th>\n",
       "      <td>3497</td>\n",
       "      <td>3631</td>\n",
       "      <td>2588</td>\n",
       "      <td>2508</td>\n",
       "      <td>998</td>\n",
       "      <td>868</td>\n",
       "      <td>1337</td>\n",
       "      <td>553</td>\n",
       "      <td>1700</td>\n",
       "      <td>934</td>\n",
       "      <td>659</td>\n",
       "    </tr>\n",
       "    <tr>\n",
       "      <th>C2</th>\n",
       "      <td>2107</td>\n",
       "      <td>2110</td>\n",
       "      <td>1639</td>\n",
       "      <td>1274</td>\n",
       "      <td>672</td>\n",
       "      <td>570</td>\n",
       "      <td>924</td>\n",
       "      <td>307</td>\n",
       "      <td>1049</td>\n",
       "      <td>555</td>\n",
       "      <td>403</td>\n",
       "    </tr>\n",
       "    <tr>\n",
       "      <th>C3</th>\n",
       "      <td>2554</td>\n",
       "      <td>2193</td>\n",
       "      <td>1189</td>\n",
       "      <td>2131</td>\n",
       "      <td>1044</td>\n",
       "      <td>272</td>\n",
       "      <td>405</td>\n",
       "      <td>492</td>\n",
       "      <td>769</td>\n",
       "      <td>540</td>\n",
       "      <td>540</td>\n",
       "    </tr>\n",
       "    <tr>\n",
       "      <th>C4</th>\n",
       "      <td>1973</td>\n",
       "      <td>3507</td>\n",
       "      <td>3452</td>\n",
       "      <td>2144</td>\n",
       "      <td>796</td>\n",
       "      <td>284</td>\n",
       "      <td>512</td>\n",
       "      <td>266</td>\n",
       "      <td>905</td>\n",
       "      <td>457</td>\n",
       "      <td>411</td>\n",
       "    </tr>\n",
       "    <tr>\n",
       "      <th>C5</th>\n",
       "      <td>3594</td>\n",
       "      <td>3085</td>\n",
       "      <td>2373</td>\n",
       "      <td>1930</td>\n",
       "      <td>937</td>\n",
       "      <td>467</td>\n",
       "      <td>953</td>\n",
       "      <td>486</td>\n",
       "      <td>1211</td>\n",
       "      <td>718</td>\n",
       "      <td>534</td>\n",
       "    </tr>\n",
       "    <tr>\n",
       "      <th>C6</th>\n",
       "      <td>1278</td>\n",
       "      <td>1383</td>\n",
       "      <td>1074</td>\n",
       "      <td>1108</td>\n",
       "      <td>545</td>\n",
       "      <td>252</td>\n",
       "      <td>436</td>\n",
       "      <td>384</td>\n",
       "      <td>550</td>\n",
       "      <td>348</td>\n",
       "      <td>274</td>\n",
       "    </tr>\n",
       "  </tbody>\n",
       "</table>\n",
       "</div>"
      ],
      "text/plain": [
       "code.2  FS01  FS02  FS03  FS04  FS05  FS06  FS07  FS08  FS09  FS10  FS11\n",
       "code                                                                    \n",
       "C1      3497  3631  2588  2508   998   868  1337   553  1700   934   659\n",
       "C2      2107  2110  1639  1274   672   570   924   307  1049   555   403\n",
       "C3      2554  2193  1189  2131  1044   272   405   492   769   540   540\n",
       "C4      1973  3507  3452  2144   796   284   512   266   905   457   411\n",
       "C5      3594  3085  2373  1930   937   467   953   486  1211   718   534\n",
       "C6      1278  1383  1074  1108   545   252   436   384   550   348   274"
      ]
     },
     "metadata": {},
     "output_type": "display_data"
    }
   ],
   "source": [
    "# data_pt = pd.pivot_table(data, values=\"name\", index=[data['id']], columns=data['record'], aggfunc=\"count\", fill_value=0, dropna=False)\n",
    "\n",
    "\n",
    "data_pt = pd.pivot_table(data, values=\"id\", index=[data['code']], columns=data['code.2'], aggfunc=\"count\")\n",
    "display(data_pt)"
   ]
  },
  {
   "cell_type": "code",
   "execution_count": 13,
   "id": "a1b4ec74",
   "metadata": {},
   "outputs": [],
   "source": [
    "col_names = list(data_pt.columns)[0:]\n",
    "row_names = list(data_pt.index)"
   ]
  },
  {
   "cell_type": "code",
   "execution_count": 16,
   "id": "68be935c",
   "metadata": {},
   "outputs": [],
   "source": [
    "X = data_pt[col_names].values "
   ]
  },
  {
   "cell_type": "code",
   "execution_count": 18,
   "id": "bf61f53e",
   "metadata": {},
   "outputs": [
    {
     "name": "stdout",
     "output_type": "stream",
     "text": [
      "Profil ligne:\n"
     ]
    },
    {
     "data": {
      "application/vnd.microsoft.datawrangler.viewer.v0+json": {
       "columns": [
        {
         "name": "index",
         "rawType": "object",
         "type": "string"
        },
        {
         "name": "FS01",
         "rawType": "float64",
         "type": "float"
        },
        {
         "name": "FS02",
         "rawType": "float64",
         "type": "float"
        },
        {
         "name": "FS03",
         "rawType": "float64",
         "type": "float"
        },
        {
         "name": "FS04",
         "rawType": "float64",
         "type": "float"
        },
        {
         "name": "FS05",
         "rawType": "float64",
         "type": "float"
        },
        {
         "name": "FS06",
         "rawType": "float64",
         "type": "float"
        },
        {
         "name": "FS07",
         "rawType": "float64",
         "type": "float"
        },
        {
         "name": "FS08",
         "rawType": "float64",
         "type": "float"
        },
        {
         "name": "FS09",
         "rawType": "float64",
         "type": "float"
        },
        {
         "name": "FS10",
         "rawType": "float64",
         "type": "float"
        },
        {
         "name": "FS11",
         "rawType": "float64",
         "type": "float"
        }
       ],
       "conversionMethod": "pd.DataFrame",
       "ref": "1c11a184-ca73-40a6-a791-284ee0487bf5",
       "rows": [
        [
         "C1",
         "0.18144554558190215",
         "0.1883982773828672",
         "0.13428111866341513",
         "0.13013023400612256",
         "0.051782286099725",
         "0.045037098531624555",
         "0.06937165983500233",
         "0.028692990193535",
         "0.08820629896746744",
         "0.04846157837389094",
         "0.03419291236444767"
        ],
        [
         "C2",
         "0.1814814814814815",
         "0.181739879414298",
         "0.14117140396210165",
         "0.10973298880275624",
         "0.05788113695090439",
         "0.04909560723514212",
         "0.07958656330749354",
         "0.026442721791559",
         "0.09035314384151594",
         "0.04780361757105943",
         "0.0347114556416882"
        ],
        [
         "C3",
         "0.21056970896199192",
         "0.18080633193173387",
         "0.09802951603594691",
         "0.17569461620908566",
         "0.08607469700717289",
         "0.022425591557424355",
         "0.03339104625278259",
         "0.04056393767004699",
         "0.0634017643663946",
         "0.044521395003710114",
         "0.044521395003710114"
        ],
        [
         "C4",
         "0.13415380431087237",
         "0.23845787720133269",
         "0.2347181614197321",
         "0.1457809206500306",
         "0.05412388658461957",
         "0.019310532399537634",
         "0.034813354185081934",
         "0.018086625416468348",
         "0.06153532331542803",
         "0.031073638403481336",
         "0.02794587611341538"
        ],
        [
         "C5",
         "0.2206532416502947",
         "0.1894032416502947",
         "0.14569007858546168",
         "0.11849214145383104",
         "0.057527013752455794",
         "0.028671414538310413",
         "0.05850933202357564",
         "0.029837917485265226",
         "0.0743492141453831",
         "0.04408153241650295",
         "0.032784872298624756"
        ],
        [
         "C6",
         "0.16745283018867924",
         "0.18121069182389937",
         "0.14072327044025157",
         "0.14517819706498952",
         "0.0714098532494759",
         "0.0330188679245283",
         "0.05712788259958071",
         "0.050314465408805034",
         "0.0720649895178197",
         "0.04559748427672956",
         "0.03590146750524109"
        ]
       ],
       "shape": {
        "columns": 11,
        "rows": 6
       }
      },
      "text/html": [
       "<div>\n",
       "<style scoped>\n",
       "    .dataframe tbody tr th:only-of-type {\n",
       "        vertical-align: middle;\n",
       "    }\n",
       "\n",
       "    .dataframe tbody tr th {\n",
       "        vertical-align: top;\n",
       "    }\n",
       "\n",
       "    .dataframe thead th {\n",
       "        text-align: right;\n",
       "    }\n",
       "</style>\n",
       "<table border=\"1\" class=\"dataframe\">\n",
       "  <thead>\n",
       "    <tr style=\"text-align: right;\">\n",
       "      <th></th>\n",
       "      <th>FS01</th>\n",
       "      <th>FS02</th>\n",
       "      <th>FS03</th>\n",
       "      <th>FS04</th>\n",
       "      <th>FS05</th>\n",
       "      <th>FS06</th>\n",
       "      <th>FS07</th>\n",
       "      <th>FS08</th>\n",
       "      <th>FS09</th>\n",
       "      <th>FS10</th>\n",
       "      <th>FS11</th>\n",
       "    </tr>\n",
       "  </thead>\n",
       "  <tbody>\n",
       "    <tr>\n",
       "      <th>C1</th>\n",
       "      <td>0.181446</td>\n",
       "      <td>0.188398</td>\n",
       "      <td>0.134281</td>\n",
       "      <td>0.130130</td>\n",
       "      <td>0.051782</td>\n",
       "      <td>0.045037</td>\n",
       "      <td>0.069372</td>\n",
       "      <td>0.028693</td>\n",
       "      <td>0.088206</td>\n",
       "      <td>0.048462</td>\n",
       "      <td>0.034193</td>\n",
       "    </tr>\n",
       "    <tr>\n",
       "      <th>C2</th>\n",
       "      <td>0.181481</td>\n",
       "      <td>0.181740</td>\n",
       "      <td>0.141171</td>\n",
       "      <td>0.109733</td>\n",
       "      <td>0.057881</td>\n",
       "      <td>0.049096</td>\n",
       "      <td>0.079587</td>\n",
       "      <td>0.026443</td>\n",
       "      <td>0.090353</td>\n",
       "      <td>0.047804</td>\n",
       "      <td>0.034711</td>\n",
       "    </tr>\n",
       "    <tr>\n",
       "      <th>C3</th>\n",
       "      <td>0.210570</td>\n",
       "      <td>0.180806</td>\n",
       "      <td>0.098030</td>\n",
       "      <td>0.175695</td>\n",
       "      <td>0.086075</td>\n",
       "      <td>0.022426</td>\n",
       "      <td>0.033391</td>\n",
       "      <td>0.040564</td>\n",
       "      <td>0.063402</td>\n",
       "      <td>0.044521</td>\n",
       "      <td>0.044521</td>\n",
       "    </tr>\n",
       "    <tr>\n",
       "      <th>C4</th>\n",
       "      <td>0.134154</td>\n",
       "      <td>0.238458</td>\n",
       "      <td>0.234718</td>\n",
       "      <td>0.145781</td>\n",
       "      <td>0.054124</td>\n",
       "      <td>0.019311</td>\n",
       "      <td>0.034813</td>\n",
       "      <td>0.018087</td>\n",
       "      <td>0.061535</td>\n",
       "      <td>0.031074</td>\n",
       "      <td>0.027946</td>\n",
       "    </tr>\n",
       "    <tr>\n",
       "      <th>C5</th>\n",
       "      <td>0.220653</td>\n",
       "      <td>0.189403</td>\n",
       "      <td>0.145690</td>\n",
       "      <td>0.118492</td>\n",
       "      <td>0.057527</td>\n",
       "      <td>0.028671</td>\n",
       "      <td>0.058509</td>\n",
       "      <td>0.029838</td>\n",
       "      <td>0.074349</td>\n",
       "      <td>0.044082</td>\n",
       "      <td>0.032785</td>\n",
       "    </tr>\n",
       "    <tr>\n",
       "      <th>C6</th>\n",
       "      <td>0.167453</td>\n",
       "      <td>0.181211</td>\n",
       "      <td>0.140723</td>\n",
       "      <td>0.145178</td>\n",
       "      <td>0.071410</td>\n",
       "      <td>0.033019</td>\n",
       "      <td>0.057128</td>\n",
       "      <td>0.050314</td>\n",
       "      <td>0.072065</td>\n",
       "      <td>0.045597</td>\n",
       "      <td>0.035901</td>\n",
       "    </tr>\n",
       "  </tbody>\n",
       "</table>\n",
       "</div>"
      ],
      "text/plain": [
       "        FS01      FS02      FS03      FS04      FS05      FS06      FS07  \\\n",
       "C1  0.181446  0.188398  0.134281  0.130130  0.051782  0.045037  0.069372   \n",
       "C2  0.181481  0.181740  0.141171  0.109733  0.057881  0.049096  0.079587   \n",
       "C3  0.210570  0.180806  0.098030  0.175695  0.086075  0.022426  0.033391   \n",
       "C4  0.134154  0.238458  0.234718  0.145781  0.054124  0.019311  0.034813   \n",
       "C5  0.220653  0.189403  0.145690  0.118492  0.057527  0.028671  0.058509   \n",
       "C6  0.167453  0.181211  0.140723  0.145178  0.071410  0.033019  0.057128   \n",
       "\n",
       "        FS08      FS09      FS10      FS11  \n",
       "C1  0.028693  0.088206  0.048462  0.034193  \n",
       "C2  0.026443  0.090353  0.047804  0.034711  \n",
       "C3  0.040564  0.063402  0.044521  0.044521  \n",
       "C4  0.018087  0.061535  0.031074  0.027946  \n",
       "C5  0.029838  0.074349  0.044082  0.032785  \n",
       "C6  0.050314  0.072065  0.045597  0.035901  "
      ]
     },
     "metadata": {},
     "output_type": "display_data"
    }
   ],
   "source": [
    "row_sum = np.sum(X, axis=1)\n",
    "row_profile = X / row_sum[:, np.newaxis]\n",
    "\n",
    "print(\"Profil ligne:\")\n",
    "display(pd.DataFrame(row_profile, index=row_names, columns=col_names))"
   ]
  },
  {
   "cell_type": "code",
   "execution_count": 19,
   "id": "a8a3395b",
   "metadata": {},
   "outputs": [
    {
     "name": "stdout",
     "output_type": "stream",
     "text": [
      "Profil colonne:\n"
     ]
    },
    {
     "data": {
      "application/vnd.microsoft.datawrangler.viewer.v0+json": {
       "columns": [
        {
         "name": "index",
         "rawType": "object",
         "type": "string"
        },
        {
         "name": "FS01",
         "rawType": "float64",
         "type": "float"
        },
        {
         "name": "FS02",
         "rawType": "float64",
         "type": "float"
        },
        {
         "name": "FS03",
         "rawType": "float64",
         "type": "float"
        },
        {
         "name": "FS04",
         "rawType": "float64",
         "type": "float"
        },
        {
         "name": "FS05",
         "rawType": "float64",
         "type": "float"
        },
        {
         "name": "FS06",
         "rawType": "float64",
         "type": "float"
        },
        {
         "name": "FS07",
         "rawType": "float64",
         "type": "float"
        },
        {
         "name": "FS08",
         "rawType": "float64",
         "type": "float"
        },
        {
         "name": "FS09",
         "rawType": "float64",
         "type": "float"
        },
        {
         "name": "FS10",
         "rawType": "float64",
         "type": "float"
        },
        {
         "name": "FS11",
         "rawType": "float64",
         "type": "float"
        }
       ],
       "conversionMethod": "pd.DataFrame",
       "ref": "816ad8c9-23da-40ba-91f6-60726a95b60a",
       "rows": [
        [
         "C1",
         "0.2330867159901353",
         "0.22823558991765666",
         "0.2101502233049127",
         "0.22604776926543488",
         "0.1999198717948718",
         "0.31994102469590857",
         "0.2927523538427852",
         "0.2222668810289389",
         "0.27490297542043984",
         "0.26295045045045046",
         "0.2336051045728465"
        ],
        [
         "C2",
         "0.1404385789508765",
         "0.1326293293104532",
         "0.13308972797401541",
         "0.11482649842271293",
         "0.1346153846153846",
         "0.21009952082565425",
         "0.20232099846726517",
         "0.12339228295819936",
         "0.16963130659767142",
         "0.15625",
         "0.14285714285714285"
        ],
        [
         "C3",
         "0.17023262014263815",
         "0.1378465019800113",
         "0.09654892407632967",
         "0.19206849932401984",
         "0.2091346153846154",
         "0.10025801695539993",
         "0.08867965841909349",
         "0.1977491961414791",
         "0.12435316946959897",
         "0.15202702702702703",
         "0.1914214817440624"
        ],
        [
         "C4",
         "0.13150703192694793",
         "0.22044125966434094",
         "0.2803085667884693",
         "0.1932401982875169",
         "0.1594551282051282",
         "0.10468116476225581",
         "0.11210860521129845",
         "0.10691318327974277",
         "0.14634540750323416",
         "0.12865990990990991",
         "0.1456930166607586"
        ],
        [
         "C5",
         "0.23955208958208357",
         "0.19391539380225029",
         "0.19269183922046285",
         "0.17395223073456512",
         "0.1877003205128205",
         "0.17213416881680796",
         "0.20867089993431137",
         "0.19533762057877813",
         "0.19582794307891332",
         "0.20213963963963963",
         "0.18929457639135058"
        ],
        [
         "C6",
         "0.08518296340731854",
         "0.08693192532528757",
         "0.08721071863581",
         "0.09986480396575034",
         "0.10917467948717949",
         "0.09288610394397347",
         "0.09546748412524633",
         "0.15434083601286175",
         "0.08893919793014231",
         "0.09797297297297297",
         "0.09712867777383906"
        ]
       ],
       "shape": {
        "columns": 11,
        "rows": 6
       }
      },
      "text/html": [
       "<div>\n",
       "<style scoped>\n",
       "    .dataframe tbody tr th:only-of-type {\n",
       "        vertical-align: middle;\n",
       "    }\n",
       "\n",
       "    .dataframe tbody tr th {\n",
       "        vertical-align: top;\n",
       "    }\n",
       "\n",
       "    .dataframe thead th {\n",
       "        text-align: right;\n",
       "    }\n",
       "</style>\n",
       "<table border=\"1\" class=\"dataframe\">\n",
       "  <thead>\n",
       "    <tr style=\"text-align: right;\">\n",
       "      <th></th>\n",
       "      <th>FS01</th>\n",
       "      <th>FS02</th>\n",
       "      <th>FS03</th>\n",
       "      <th>FS04</th>\n",
       "      <th>FS05</th>\n",
       "      <th>FS06</th>\n",
       "      <th>FS07</th>\n",
       "      <th>FS08</th>\n",
       "      <th>FS09</th>\n",
       "      <th>FS10</th>\n",
       "      <th>FS11</th>\n",
       "    </tr>\n",
       "  </thead>\n",
       "  <tbody>\n",
       "    <tr>\n",
       "      <th>C1</th>\n",
       "      <td>0.233087</td>\n",
       "      <td>0.228236</td>\n",
       "      <td>0.210150</td>\n",
       "      <td>0.226048</td>\n",
       "      <td>0.199920</td>\n",
       "      <td>0.319941</td>\n",
       "      <td>0.292752</td>\n",
       "      <td>0.222267</td>\n",
       "      <td>0.274903</td>\n",
       "      <td>0.262950</td>\n",
       "      <td>0.233605</td>\n",
       "    </tr>\n",
       "    <tr>\n",
       "      <th>C2</th>\n",
       "      <td>0.140439</td>\n",
       "      <td>0.132629</td>\n",
       "      <td>0.133090</td>\n",
       "      <td>0.114826</td>\n",
       "      <td>0.134615</td>\n",
       "      <td>0.210100</td>\n",
       "      <td>0.202321</td>\n",
       "      <td>0.123392</td>\n",
       "      <td>0.169631</td>\n",
       "      <td>0.156250</td>\n",
       "      <td>0.142857</td>\n",
       "    </tr>\n",
       "    <tr>\n",
       "      <th>C3</th>\n",
       "      <td>0.170233</td>\n",
       "      <td>0.137847</td>\n",
       "      <td>0.096549</td>\n",
       "      <td>0.192068</td>\n",
       "      <td>0.209135</td>\n",
       "      <td>0.100258</td>\n",
       "      <td>0.088680</td>\n",
       "      <td>0.197749</td>\n",
       "      <td>0.124353</td>\n",
       "      <td>0.152027</td>\n",
       "      <td>0.191421</td>\n",
       "    </tr>\n",
       "    <tr>\n",
       "      <th>C4</th>\n",
       "      <td>0.131507</td>\n",
       "      <td>0.220441</td>\n",
       "      <td>0.280309</td>\n",
       "      <td>0.193240</td>\n",
       "      <td>0.159455</td>\n",
       "      <td>0.104681</td>\n",
       "      <td>0.112109</td>\n",
       "      <td>0.106913</td>\n",
       "      <td>0.146345</td>\n",
       "      <td>0.128660</td>\n",
       "      <td>0.145693</td>\n",
       "    </tr>\n",
       "    <tr>\n",
       "      <th>C5</th>\n",
       "      <td>0.239552</td>\n",
       "      <td>0.193915</td>\n",
       "      <td>0.192692</td>\n",
       "      <td>0.173952</td>\n",
       "      <td>0.187700</td>\n",
       "      <td>0.172134</td>\n",
       "      <td>0.208671</td>\n",
       "      <td>0.195338</td>\n",
       "      <td>0.195828</td>\n",
       "      <td>0.202140</td>\n",
       "      <td>0.189295</td>\n",
       "    </tr>\n",
       "    <tr>\n",
       "      <th>C6</th>\n",
       "      <td>0.085183</td>\n",
       "      <td>0.086932</td>\n",
       "      <td>0.087211</td>\n",
       "      <td>0.099865</td>\n",
       "      <td>0.109175</td>\n",
       "      <td>0.092886</td>\n",
       "      <td>0.095467</td>\n",
       "      <td>0.154341</td>\n",
       "      <td>0.088939</td>\n",
       "      <td>0.097973</td>\n",
       "      <td>0.097129</td>\n",
       "    </tr>\n",
       "  </tbody>\n",
       "</table>\n",
       "</div>"
      ],
      "text/plain": [
       "        FS01      FS02      FS03      FS04      FS05      FS06      FS07  \\\n",
       "C1  0.233087  0.228236  0.210150  0.226048  0.199920  0.319941  0.292752   \n",
       "C2  0.140439  0.132629  0.133090  0.114826  0.134615  0.210100  0.202321   \n",
       "C3  0.170233  0.137847  0.096549  0.192068  0.209135  0.100258  0.088680   \n",
       "C4  0.131507  0.220441  0.280309  0.193240  0.159455  0.104681  0.112109   \n",
       "C5  0.239552  0.193915  0.192692  0.173952  0.187700  0.172134  0.208671   \n",
       "C6  0.085183  0.086932  0.087211  0.099865  0.109175  0.092886  0.095467   \n",
       "\n",
       "        FS08      FS09      FS10      FS11  \n",
       "C1  0.222267  0.274903  0.262950  0.233605  \n",
       "C2  0.123392  0.169631  0.156250  0.142857  \n",
       "C3  0.197749  0.124353  0.152027  0.191421  \n",
       "C4  0.106913  0.146345  0.128660  0.145693  \n",
       "C5  0.195338  0.195828  0.202140  0.189295  \n",
       "C6  0.154341  0.088939  0.097973  0.097129  "
      ]
     },
     "metadata": {},
     "output_type": "display_data"
    }
   ],
   "source": [
    "col_sum = np.sum(X, axis=0)\n",
    "col_profile = X / col_sum[np.newaxis, :]\n",
    "\n",
    "print(\"Profil colonne:\")\n",
    "display(pd.DataFrame(col_profile, index=row_names, columns=col_names))"
   ]
  },
  {
   "cell_type": "code",
   "execution_count": 20,
   "id": "0a9d1540",
   "metadata": {},
   "outputs": [
    {
     "data": {
      "image/png": "[encoded data removed]",
      "text/plain": [
       "<Figure size 1000x600 with 1 Axes>"
      ]
     },
     "metadata": {},
     "output_type": "display_data"
    }
   ],
   "source": [
    "total_FS = data_pt[col_names].sum()\n",
    "\n",
    "prop_FS = total_FS\n",
    "prop_FS = prop_FS.sort_values(ascending=False)\n",
    "\n",
    "fig, ax = plt.subplots(figsize=(10,6))\n",
    "ax.bar(prop_FS.index, prop_FS)\n",
    "\n",
    "plt.show()"
   ]
  },
  {
   "cell_type": "code",
   "execution_count": 21,
   "id": "0c1763f2",
   "metadata": {},
   "outputs": [
    {
     "data": {
      "image/png": "[encoded data removed]",
      "text/plain": [
       "<Figure size 1000x600 with 1 Axes>"
      ]
     },
     "metadata": {},
     "output_type": "display_data"
    }
   ],
   "source": [
    "total_skill = data_pt[col_names].sum()\n",
    "\n",
    "prop_FS = total_FS / total_FS.sum()\n",
    "prop_FS = prop_FS.sort_values(ascending=False)\n",
    "\n",
    "fig, ax = plt.subplots(figsize=(10,6))\n",
    "ax.bar(prop_FS.index, prop_FS)\n",
    "\n",
    "plt.show()"
   ]
  },
  {
   "cell_type": "code",
   "execution_count": 22,
   "id": "414647cf",
   "metadata": {},
   "outputs": [
    {
     "data": {
      "application/vnd.microsoft.datawrangler.viewer.v0+json": {
       "columns": [
        {
         "name": "code",
         "rawType": "object",
         "type": "string"
        },
        {
         "name": "FS01",
         "rawType": "int64",
         "type": "integer"
        },
        {
         "name": "FS02",
         "rawType": "int64",
         "type": "integer"
        },
        {
         "name": "FS03",
         "rawType": "int64",
         "type": "integer"
        },
        {
         "name": "FS04",
         "rawType": "int64",
         "type": "integer"
        },
        {
         "name": "FS05",
         "rawType": "int64",
         "type": "integer"
        },
        {
         "name": "FS06",
         "rawType": "int64",
         "type": "integer"
        },
        {
         "name": "FS07",
         "rawType": "int64",
         "type": "integer"
        },
        {
         "name": "FS08",
         "rawType": "int64",
         "type": "integer"
        },
        {
         "name": "FS09",
         "rawType": "int64",
         "type": "integer"
        },
        {
         "name": "FS10",
         "rawType": "int64",
         "type": "integer"
        },
        {
         "name": "FS11",
         "rawType": "int64",
         "type": "integer"
        }
       ],
       "conversionMethod": "pd.DataFrame",
       "ref": "157962f5-8f53-4bab-ba03-e64267e63d1b",
       "rows": [
        [
         "C1",
         "3497",
         "3631",
         "2588",
         "2508",
         "998",
         "868",
         "1337",
         "553",
         "1700",
         "934",
         "659"
        ],
        [
         "C2",
         "2107",
         "2110",
         "1639",
         "1274",
         "672",
         "570",
         "924",
         "307",
         "1049",
         "555",
         "403"
        ],
        [
         "C3",
         "2554",
         "2193",
         "1189",
         "2131",
         "1044",
         "272",
         "405",
         "492",
         "769",
         "540",
         "540"
        ],
        [
         "C4",
         "1973",
         "3507",
         "3452",
         "2144",
         "796",
         "284",
         "512",
         "266",
         "905",
         "457",
         "411"
        ],
        [
         "C5",
         "3594",
         "3085",
         "2373",
         "1930",
         "937",
         "467",
         "953",
         "486",
         "1211",
         "718",
         "534"
        ],
        [
         "C6",
         "1278",
         "1383",
         "1074",
         "1108",
         "545",
         "252",
         "436",
         "384",
         "550",
         "348",
         "274"
        ]
       ],
       "shape": {
        "columns": 11,
        "rows": 6
       }
      },
      "text/html": [
       "<div>\n",
       "<style scoped>\n",
       "    .dataframe tbody tr th:only-of-type {\n",
       "        vertical-align: middle;\n",
       "    }\n",
       "\n",
       "    .dataframe tbody tr th {\n",
       "        vertical-align: top;\n",
       "    }\n",
       "\n",
       "    .dataframe thead th {\n",
       "        text-align: right;\n",
       "    }\n",
       "</style>\n",
       "<table border=\"1\" class=\"dataframe\">\n",
       "  <thead>\n",
       "    <tr style=\"text-align: right;\">\n",
       "      <th>code.2</th>\n",
       "      <th>FS01</th>\n",
       "      <th>FS02</th>\n",
       "      <th>FS03</th>\n",
       "      <th>FS04</th>\n",
       "      <th>FS05</th>\n",
       "      <th>FS06</th>\n",
       "      <th>FS07</th>\n",
       "      <th>FS08</th>\n",
       "      <th>FS09</th>\n",
       "      <th>FS10</th>\n",
       "      <th>FS11</th>\n",
       "    </tr>\n",
       "    <tr>\n",
       "      <th>code</th>\n",
       "      <th></th>\n",
       "      <th></th>\n",
       "      <th></th>\n",
       "      <th></th>\n",
       "      <th></th>\n",
       "      <th></th>\n",
       "      <th></th>\n",
       "      <th></th>\n",
       "      <th></th>\n",
       "      <th></th>\n",
       "      <th></th>\n",
       "    </tr>\n",
       "  </thead>\n",
       "  <tbody>\n",
       "    <tr>\n",
       "      <th>C1</th>\n",
       "      <td>3497</td>\n",
       "      <td>3631</td>\n",
       "      <td>2588</td>\n",
       "      <td>2508</td>\n",
       "      <td>998</td>\n",
       "      <td>868</td>\n",
       "      <td>1337</td>\n",
       "      <td>553</td>\n",
       "      <td>1700</td>\n",
       "      <td>934</td>\n",
       "      <td>659</td>\n",
       "    </tr>\n",
       "    <tr>\n",
       "      <th>C2</th>\n",
       "      <td>2107</td>\n",
       "      <td>2110</td>\n",
       "      <td>1639</td>\n",
       "      <td>1274</td>\n",
       "      <td>672</td>\n",
       "      <td>570</td>\n",
       "      <td>924</td>\n",
       "      <td>307</td>\n",
       "      <td>1049</td>\n",
       "      <td>555</td>\n",
       "      <td>403</td>\n",
       "    </tr>\n",
       "    <tr>\n",
       "      <th>C3</th>\n",
       "      <td>2554</td>\n",
       "      <td>2193</td>\n",
       "      <td>1189</td>\n",
       "      <td>2131</td>\n",
       "      <td>1044</td>\n",
       "      <td>272</td>\n",
       "      <td>405</td>\n",
       "      <td>492</td>\n",
       "      <td>769</td>\n",
       "      <td>540</td>\n",
       "      <td>540</td>\n",
       "    </tr>\n",
       "    <tr>\n",
       "      <th>C4</th>\n",
       "      <td>1973</td>\n",
       "      <td>3507</td>\n",
       "      <td>3452</td>\n",
       "      <td>2144</td>\n",
       "      <td>796</td>\n",
       "      <td>284</td>\n",
       "      <td>512</td>\n",
       "      <td>266</td>\n",
       "      <td>905</td>\n",
       "      <td>457</td>\n",
       "      <td>411</td>\n",
       "    </tr>\n",
       "    <tr>\n",
       "      <th>C5</th>\n",
       "      <td>3594</td>\n",
       "      <td>3085</td>\n",
       "      <td>2373</td>\n",
       "      <td>1930</td>\n",
       "      <td>937</td>\n",
       "      <td>467</td>\n",
       "      <td>953</td>\n",
       "      <td>486</td>\n",
       "      <td>1211</td>\n",
       "      <td>718</td>\n",
       "      <td>534</td>\n",
       "    </tr>\n",
       "    <tr>\n",
       "      <th>C6</th>\n",
       "      <td>1278</td>\n",
       "      <td>1383</td>\n",
       "      <td>1074</td>\n",
       "      <td>1108</td>\n",
       "      <td>545</td>\n",
       "      <td>252</td>\n",
       "      <td>436</td>\n",
       "      <td>384</td>\n",
       "      <td>550</td>\n",
       "      <td>348</td>\n",
       "      <td>274</td>\n",
       "    </tr>\n",
       "  </tbody>\n",
       "</table>\n",
       "</div>"
      ],
      "text/plain": [
       "code.2  FS01  FS02  FS03  FS04  FS05  FS06  FS07  FS08  FS09  FS10  FS11\n",
       "code                                                                    \n",
       "C1      3497  3631  2588  2508   998   868  1337   553  1700   934   659\n",
       "C2      2107  2110  1639  1274   672   570   924   307  1049   555   403\n",
       "C3      2554  2193  1189  2131  1044   272   405   492   769   540   540\n",
       "C4      1973  3507  3452  2144   796   284   512   266   905   457   411\n",
       "C5      3594  3085  2373  1930   937   467   953   486  1211   718   534\n",
       "C6      1278  1383  1074  1108   545   252   436   384   550   348   274"
      ]
     },
     "execution_count": 22,
     "metadata": {},
     "output_type": "execute_result"
    }
   ],
   "source": [
    "data_pt"
   ]
  },
  {
   "cell_type": "code",
   "execution_count": 24,
   "id": "9ca2f3d0",
   "metadata": {},
   "outputs": [],
   "source": [
    "my_ca = CA(row_labels=data_pt.index.values, col_labels=data_pt.columns.values,stats=True)"
   ]
  },
  {
   "cell_type": "code",
   "execution_count": 26,
   "id": "4b480922",
   "metadata": {},
   "outputs": [
    {
     "data": {
      "text/html": [
       "<style>#sk-container-id-1 {color: black;background-color: white;}#sk-container-id-1 pre{padding: 0;}#sk-container-id-1 div.sk-toggleable {background-color: white;}#sk-container-id-1 label.sk-toggleable__label {cursor: pointer;display: block;width: 100%;margin-bottom: 0;padding: 0.3em;box-sizing: border-box;text-align: center;}#sk-container-id-1 label.sk-toggleable__label-arrow:before {content: \"▸\";float: left;margin-right: 0.25em;color: #696969;}#sk-container-id-1 label.sk-toggleable__label-arrow:hover:before {color: black;}#sk-container-id-1 div.sk-estimator:hover label.sk-toggleable__label-arrow:before {color: black;}#sk-container-id-1 div.sk-toggleable__content {max-height: 0;max-width: 0;overflow: hidden;text-align: left;background-color: #f0f8ff;}#sk-container-id-1 div.sk-toggleable__content pre {margin: 0.2em;color: black;border-radius: 0.25em;background-color: #f0f8ff;}#sk-container-id-1 input.sk-toggleable__control:checked~div.sk-toggleable__content {max-height: 200px;max-width: 100%;overflow: auto;}#sk-container-id-1 input.sk-toggleable__control:checked~label.sk-toggleable__label-arrow:before {content: \"▾\";}#sk-container-id-1 div.sk-estimator input.sk-toggleable__control:checked~label.sk-toggleable__label {background-color: #d4ebff;}#sk-container-id-1 div.sk-label input.sk-toggleable__control:checked~label.sk-toggleable__label {background-color: #d4ebff;}#sk-container-id-1 input.sk-hidden--visually {border: 0;clip: rect(1px 1px 1px 1px);clip: rect(1px, 1px, 1px, 1px);height: 1px;margin: -1px;overflow: hidden;padding: 0;position: absolute;width: 1px;}#sk-container-id-1 div.sk-estimator {font-family: monospace;background-color: #f0f8ff;border: 1px dotted black;border-radius: 0.25em;box-sizing: border-box;margin-bottom: 0.5em;}#sk-container-id-1 div.sk-estimator:hover {background-color: #d4ebff;}#sk-container-id-1 div.sk-parallel-item::after {content: \"\";width: 100%;border-bottom: 1px solid gray;flex-grow: 1;}#sk-container-id-1 div.sk-label:hover label.sk-toggleable__label {background-color: #d4ebff;}#sk-container-id-1 div.sk-serial::before {content: \"\";position: absolute;border-left: 1px solid gray;box-sizing: border-box;top: 0;bottom: 0;left: 50%;z-index: 0;}#sk-container-id-1 div.sk-serial {display: flex;flex-direction: column;align-items: center;background-color: white;padding-right: 0.2em;padding-left: 0.2em;position: relative;}#sk-container-id-1 div.sk-item {position: relative;z-index: 1;}#sk-container-id-1 div.sk-parallel {display: flex;align-items: stretch;justify-content: center;background-color: white;position: relative;}#sk-container-id-1 div.sk-item::before, #sk-container-id-1 div.sk-parallel-item::before {content: \"\";position: absolute;border-left: 1px solid gray;box-sizing: border-box;top: 0;bottom: 0;left: 50%;z-index: -1;}#sk-container-id-1 div.sk-parallel-item {display: flex;flex-direction: column;z-index: 1;position: relative;background-color: white;}#sk-container-id-1 div.sk-parallel-item:first-child::after {align-self: flex-end;width: 50%;}#sk-container-id-1 div.sk-parallel-item:last-child::after {align-self: flex-start;width: 50%;}#sk-container-id-1 div.sk-parallel-item:only-child::after {width: 0;}#sk-container-id-1 div.sk-dashed-wrapped {border: 1px dashed gray;margin: 0 0.4em 0.5em 0.4em;box-sizing: border-box;padding-bottom: 0.4em;background-color: white;}#sk-container-id-1 div.sk-label label {font-family: monospace;font-weight: bold;display: inline-block;line-height: 1.2em;}#sk-container-id-1 div.sk-label-container {text-align: center;}#sk-container-id-1 div.sk-container {/* jupyter's `normalize.less` sets `[hidden] { display: none; }` but bootstrap.min.css set `[hidden] { display: none !important; }` so we also need the `!important` here to be able to override the default hidden behavior on the sphinx rendered scikit-learn.org. See: https://github.com/scikit-learn/scikit-learn/issues/21755 */display: inline-block !important;position: relative;}#sk-container-id-1 div.sk-text-repr-fallback {display: none;}</style><div id=\"sk-container-id-1\" class=\"sk-top-container\"><div class=\"sk-text-repr-fallback\"><pre>CA(col_labels=array([&#x27;FS01&#x27;, &#x27;FS02&#x27;, &#x27;FS03&#x27;, &#x27;FS04&#x27;, &#x27;FS05&#x27;, &#x27;FS06&#x27;, &#x27;FS07&#x27;, &#x27;FS08&#x27;,\n",
       "       &#x27;FS09&#x27;, &#x27;FS10&#x27;, &#x27;FS11&#x27;], dtype=object),\n",
       "   row_labels=array([&#x27;C1&#x27;, &#x27;C2&#x27;, &#x27;C3&#x27;, &#x27;C4&#x27;, &#x27;C5&#x27;, &#x27;C6&#x27;], dtype=object))</pre><b>In a Jupyter environment, please rerun this cell to show the HTML representation or trust the notebook. <br />On GitHub, the HTML representation is unable to render, please try loading this page with nbviewer.org.</b></div><div class=\"sk-container\" hidden><div class=\"sk-item\"><div class=\"sk-estimator sk-toggleable\"><input class=\"sk-toggleable__control sk-hidden--visually\" id=\"sk-estimator-id-1\" type=\"checkbox\" checked><label for=\"sk-estimator-id-1\" class=\"sk-toggleable__label sk-toggleable__label-arrow\">CA</label><div class=\"sk-toggleable__content\"><pre>CA(col_labels=array([&#x27;FS01&#x27;, &#x27;FS02&#x27;, &#x27;FS03&#x27;, &#x27;FS04&#x27;, &#x27;FS05&#x27;, &#x27;FS06&#x27;, &#x27;FS07&#x27;, &#x27;FS08&#x27;,\n",
       "       &#x27;FS09&#x27;, &#x27;FS10&#x27;, &#x27;FS11&#x27;], dtype=object),\n",
       "   row_labels=array([&#x27;C1&#x27;, &#x27;C2&#x27;, &#x27;C3&#x27;, &#x27;C4&#x27;, &#x27;C5&#x27;, &#x27;C6&#x27;], dtype=object))</pre></div></div></div></div></div>"
      ],
      "text/plain": [
       "CA(col_labels=array(['FS01', 'FS02', 'FS03', 'FS04', 'FS05', 'FS06', 'FS07', 'FS08',\n",
       "       'FS09', 'FS10', 'FS11'], dtype=object),\n",
       "   row_labels=array(['C1', 'C2', 'C3', 'C4', 'C5', 'C6'], dtype=object))"
      ]
     },
     "execution_count": 26,
     "metadata": {},
     "output_type": "execute_result"
    }
   ],
   "source": [
    "my_ca.fit(data_pt.values)\n"
   ]
  },
  {
   "cell_type": "code",
   "execution_count": 27,
   "id": "dacb9ccf",
   "metadata": {},
   "outputs": [
    {
     "data": {
      "text/plain": [
       "array([[2.18803940e-02, 1.28282236e-02, 2.64096323e-03, 1.00832534e-03,\n",
       "        2.76238723e-04],\n",
       "       [5.66348604e+01, 3.32043678e+01, 6.83582680e+00, 2.60993312e+00,\n",
       "        7.15011872e-01],\n",
       "       [5.66348604e+01, 8.98392282e+01, 9.66750550e+01, 9.92849881e+01,\n",
       "        1.00000000e+02]])"
      ]
     },
     "execution_count": 27,
     "metadata": {},
     "output_type": "execute_result"
    }
   ],
   "source": [
    "my_ca.eig_"
   ]
  },
  {
   "cell_type": "code",
   "execution_count": 28,
   "id": "8ea9f53c",
   "metadata": {},
   "outputs": [
    {
     "data": {
      "image/png": "[encoded data removed]",
      "text/plain": [
       "<Figure size 640x480 with 1 Axes>"
      ]
     },
     "metadata": {},
     "output_type": "display_data"
    }
   ],
   "source": [
    "# Graphique des valeurs propres\n",
    "my_ca.plot_eigenvalues()"
   ]
  },
  {
   "cell_type": "code",
   "execution_count": 29,
   "id": "a0c85a3b",
   "metadata": {},
   "outputs": [
    {
     "name": "stdout",
     "output_type": "stream",
     "text": [
      "Premier axe factoriel\n"
     ]
    },
    {
     "data": {
      "image/png": "[encoded data removed]",
      "text/plain": [
       "<Figure size 640x480 with 1 Axes>"
      ]
     },
     "metadata": {},
     "output_type": "display_data"
    },
    {
     "name": "stdout",
     "output_type": "stream",
     "text": [
      "Second axe factoriel\n"
     ]
    },
    {
     "data": {
      "image/png": "[encoded data removed]",
      "text/plain": [
       "<Figure size 640x480 with 1 Axes>"
      ]
     },
     "metadata": {},
     "output_type": "display_data"
    }
   ],
   "source": [
    "# Classement des points colonnes en fonction de leur contribution au 1er axe\n",
    "print(\"Premier axe factoriel\")\n",
    "my_ca.plot_row_cos2(num_axis=1)\n",
    "print(\"Second axe factoriel\")\n",
    "my_ca.plot_row_cos2(num_axis=2)"
   ]
  },
  {
   "cell_type": "code",
   "execution_count": 30,
   "id": "6dc2b22c",
   "metadata": {},
   "outputs": [
    {
     "name": "stdout",
     "output_type": "stream",
     "text": [
      "Premier axe factoriel\n"
     ]
    },
    {
     "data": {
      "image/png": "[encoded data removed]",
      "text/plain": [
       "<Figure size 640x480 with 1 Axes>"
      ]
     },
     "metadata": {},
     "output_type": "display_data"
    },
    {
     "name": "stdout",
     "output_type": "stream",
     "text": [
      "Second axe factoriel\n"
     ]
    },
    {
     "data": {
      "image/png": "[encoded data removed]",
      "text/plain": [
       "<Figure size 640x480 with 1 Axes>"
      ]
     },
     "metadata": {},
     "output_type": "display_data"
    }
   ],
   "source": [
    "#### Profil colonne (les Candidats)\n",
    "\n",
    "print(\"Premier axe factoriel\")\n",
    "my_ca.plot_col_cos2(num_axis=1)\n",
    "print(\"Second axe factoriel\")\n",
    "my_ca.plot_col_cos2(num_axis=2)"
   ]
  },
  {
   "cell_type": "code",
   "execution_count": 31,
   "id": "8fdc9537",
   "metadata": {},
   "outputs": [
    {
     "name": "stdout",
     "output_type": "stream",
     "text": [
      "Premier axe\n"
     ]
    },
    {
     "data": {
      "image/png": "[encoded data removed]",
      "text/plain": [
       "<Figure size 640x480 with 1 Axes>"
      ]
     },
     "metadata": {},
     "output_type": "display_data"
    },
    {
     "name": "stdout",
     "output_type": "stream",
     "text": [
      "Second axe\n"
     ]
    },
    {
     "data": {
      "image/png": "[encoded data removed]",
      "text/plain": [
       "<Figure size 640x480 with 1 Axes>"
      ]
     },
     "metadata": {},
     "output_type": "display_data"
    }
   ],
   "source": [
    "# Analyse  du premier plan factoriel - les départements\n",
    "print(\"Premier axe\")\n",
    "my_ca.plot_row_contrib(num_axis=1)\n",
    "print(\"Second axe\")\n",
    "my_ca.plot_row_contrib(num_axis=2)"
   ]
  },
  {
   "cell_type": "code",
   "execution_count": 32,
   "id": "d9f1c5d7",
   "metadata": {},
   "outputs": [
    {
     "name": "stdout",
     "output_type": "stream",
     "text": [
      "Premier axe\n"
     ]
    },
    {
     "data": {
      "image/png": "[encoded data removed]",
      "text/plain": [
       "<Figure size 640x480 with 1 Axes>"
      ]
     },
     "metadata": {},
     "output_type": "display_data"
    },
    {
     "name": "stdout",
     "output_type": "stream",
     "text": [
      "Second axe\n"
     ]
    },
    {
     "data": {
      "image/png": "[encoded data removed]",
      "text/plain": [
       "<Figure size 640x480 with 1 Axes>"
      ]
     },
     "metadata": {},
     "output_type": "display_data"
    }
   ],
   "source": [
    "# Analyse  du premier plan factoriel - les départements\n",
    "print(\"Premier axe\")\n",
    "my_ca.plot_col_contrib(num_axis=1)\n",
    "print(\"Second axe\")\n",
    "my_ca.plot_col_contrib(num_axis=2)"
   ]
  },
  {
   "cell_type": "code",
   "execution_count": 34,
   "id": "bbe077b1",
   "metadata": {},
   "outputs": [
    {
     "data": {
      "application/vnd.microsoft.datawrangler.viewer.v0+json": {
       "columns": [
        {
         "name": "index",
         "rawType": "object",
         "type": "string"
        },
        {
         "name": "row_coord_dim1",
         "rawType": "float64",
         "type": "float"
        },
        {
         "name": "row_coord_dim2",
         "rawType": "float64",
         "type": "float"
        },
        {
         "name": "row_coord_dim3",
         "rawType": "float64",
         "type": "float"
        },
        {
         "name": "row_coord_dim4",
         "rawType": "float64",
         "type": "float"
        },
        {
         "name": "row_coord_dim5",
         "rawType": "float64",
         "type": "float"
        },
        {
         "name": "row_contrib_dim1",
         "rawType": "float64",
         "type": "float"
        },
        {
         "name": "row_contrib_dim2",
         "rawType": "float64",
         "type": "float"
        },
        {
         "name": "row_contrib_dim3",
         "rawType": "float64",
         "type": "float"
        },
        {
         "name": "row_contrib_dim4",
         "rawType": "float64",
         "type": "float"
        },
        {
         "name": "row_contrib_dim5",
         "rawType": "float64",
         "type": "float"
        },
        {
         "name": "row_cos2_dim1",
         "rawType": "float64",
         "type": "float"
        },
        {
         "name": "row_cos2_dim2",
         "rawType": "float64",
         "type": "float"
        },
        {
         "name": "row_cos2_dim3",
         "rawType": "float64",
         "type": "float"
        },
        {
         "name": "row_cos2_dim4",
         "rawType": "float64",
         "type": "float"
        },
        {
         "name": "row_cos2_dim5",
         "rawType": "float64",
         "type": "float"
        }
       ],
       "conversionMethod": "pd.DataFrame",
       "ref": "6aa0120d-6392-4741-be40-9274266bac4f",
       "rows": [
        [
         "C1",
         "-0.06779695087230467",
         "-0.08646256243752051",
         "-0.0264457986304155",
         "-0.02647426588402964",
         "0.020241306667715345",
         "4.959259467301782",
         "13.757557255869624",
         "6.25176527294837",
         "16.409630957578187",
         "35.0141975363863",
         "0.3311026766863817",
         "0.5385159512353636",
         "0.05037971899090744",
         "0.05048823862051525",
         "0.02951341446683162"
        ],
        [
         "C2",
         "-0.0797081944132181",
         "-0.1425109978487552",
         "-0.01748357740689257",
         "-0.002446588593144939",
         "-0.0333923999046908",
         "4.129384733790803",
         "22.514628462513084",
         "1.6460112153380657",
         "0.0844220226656129",
         "57.40440925966227",
         "0.2261840730828626",
         "0.7230242100841663",
         "0.010882199390105483",
         "0.00021309731163619017",
         "0.03969642013122867"
        ],
        [
         "C3",
         "-0.11213112256092875",
         "0.22932826117374086",
         "-0.008099098094340937",
         "-0.027957279029585",
         "-0.008419030436205373",
         "8.537378209943828",
         "60.90822665967034",
         "0.36901012543237355",
         "11.516391978021613",
         "3.8121231485648783",
         "0.19026683003738923",
         "0.7958402480756966",
         "0.0009926223757098867",
         "0.011827706650693088",
         "0.0010725928605103186"
        ],
        [
         "C4",
         "0.3118154440548385",
         "0.017621827288840618",
         "-0.006522805960192547",
         "-0.007014899488339066",
         "-0.002245779025977543",
         "80.05095571859887",
         "0.43607558910349203",
         "0.29022377053092224",
         "0.8791614530705542",
         "0.3289091096275801",
         "0.9958281033485101",
         "0.003180467892800297",
         "0.0004357707275206016",
         "0.0005040017451762613",
         "5.165628599339108e-05"
        ],
        [
         "C5",
         "-0.03952035261818638",
         "-0.008890689026651704",
         "0.09437913263151924",
         "0.022067860014603046",
         "0.004668899203712612",
         "1.4241527335200248",
         "0.12293467674374375",
         "67.29142001456812",
         "9.635845806089522",
         "1.57439797867207",
         "0.14125372155349203",
         "0.007148733662614015",
         "0.805582902927673",
         "0.04404318501861187",
         "0.001971456837608174"
        ],
        [
         "C6",
         "-0.04586754132974273",
         "0.05569582023522044",
         "-0.08260065953372007",
         "0.08142873167666428",
         "0.0074254614193260396",
         "0.8988691368446917",
         "2.2605773560996774",
         "24.151569601182164",
         "61.47454778257452",
         "1.8659629670868507",
         "0.11241717864756197",
         "0.1657551260464921",
         "0.36457659931282665",
         "0.35430485239729104",
         "0.002946243595828368"
        ]
       ],
       "shape": {
        "columns": 15,
        "rows": 6
       }
      },
      "text/html": [
       "<div>\n",
       "<style scoped>\n",
       "    .dataframe tbody tr th:only-of-type {\n",
       "        vertical-align: middle;\n",
       "    }\n",
       "\n",
       "    .dataframe tbody tr th {\n",
       "        vertical-align: top;\n",
       "    }\n",
       "\n",
       "    .dataframe thead th {\n",
       "        text-align: right;\n",
       "    }\n",
       "</style>\n",
       "<table border=\"1\" class=\"dataframe\">\n",
       "  <thead>\n",
       "    <tr style=\"text-align: right;\">\n",
       "      <th></th>\n",
       "      <th>row_coord_dim1</th>\n",
       "      <th>row_coord_dim2</th>\n",
       "      <th>row_coord_dim3</th>\n",
       "      <th>row_coord_dim4</th>\n",
       "      <th>row_coord_dim5</th>\n",
       "      <th>row_contrib_dim1</th>\n",
       "      <th>row_contrib_dim2</th>\n",
       "      <th>row_contrib_dim3</th>\n",
       "      <th>row_contrib_dim4</th>\n",
       "      <th>row_contrib_dim5</th>\n",
       "      <th>row_cos2_dim1</th>\n",
       "      <th>row_cos2_dim2</th>\n",
       "      <th>row_cos2_dim3</th>\n",
       "      <th>row_cos2_dim4</th>\n",
       "      <th>row_cos2_dim5</th>\n",
       "    </tr>\n",
       "  </thead>\n",
       "  <tbody>\n",
       "    <tr>\n",
       "      <th>C1</th>\n",
       "      <td>-0.067797</td>\n",
       "      <td>-0.086463</td>\n",
       "      <td>-0.026446</td>\n",
       "      <td>-0.026474</td>\n",
       "      <td>0.020241</td>\n",
       "      <td>4.959259</td>\n",
       "      <td>13.757557</td>\n",
       "      <td>6.251765</td>\n",
       "      <td>16.409631</td>\n",
       "      <td>35.014198</td>\n",
       "      <td>0.331103</td>\n",
       "      <td>0.538516</td>\n",
       "      <td>0.050380</td>\n",
       "      <td>0.050488</td>\n",
       "      <td>0.029513</td>\n",
       "    </tr>\n",
       "    <tr>\n",
       "      <th>C2</th>\n",
       "      <td>-0.079708</td>\n",
       "      <td>-0.142511</td>\n",
       "      <td>-0.017484</td>\n",
       "      <td>-0.002447</td>\n",
       "      <td>-0.033392</td>\n",
       "      <td>4.129385</td>\n",
       "      <td>22.514628</td>\n",
       "      <td>1.646011</td>\n",
       "      <td>0.084422</td>\n",
       "      <td>57.404409</td>\n",
       "      <td>0.226184</td>\n",
       "      <td>0.723024</td>\n",
       "      <td>0.010882</td>\n",
       "      <td>0.000213</td>\n",
       "      <td>0.039696</td>\n",
       "    </tr>\n",
       "    <tr>\n",
       "      <th>C3</th>\n",
       "      <td>-0.112131</td>\n",
       "      <td>0.229328</td>\n",
       "      <td>-0.008099</td>\n",
       "      <td>-0.027957</td>\n",
       "      <td>-0.008419</td>\n",
       "      <td>8.537378</td>\n",
       "      <td>60.908227</td>\n",
       "      <td>0.369010</td>\n",
       "      <td>11.516392</td>\n",
       "      <td>3.812123</td>\n",
       "      <td>0.190267</td>\n",
       "      <td>0.795840</td>\n",
       "      <td>0.000993</td>\n",
       "      <td>0.011828</td>\n",
       "      <td>0.001073</td>\n",
       "    </tr>\n",
       "    <tr>\n",
       "      <th>C4</th>\n",
       "      <td>0.311815</td>\n",
       "      <td>0.017622</td>\n",
       "      <td>-0.006523</td>\n",
       "      <td>-0.007015</td>\n",
       "      <td>-0.002246</td>\n",
       "      <td>80.050956</td>\n",
       "      <td>0.436076</td>\n",
       "      <td>0.290224</td>\n",
       "      <td>0.879161</td>\n",
       "      <td>0.328909</td>\n",
       "      <td>0.995828</td>\n",
       "      <td>0.003180</td>\n",
       "      <td>0.000436</td>\n",
       "      <td>0.000504</td>\n",
       "      <td>0.000052</td>\n",
       "    </tr>\n",
       "    <tr>\n",
       "      <th>C5</th>\n",
       "      <td>-0.039520</td>\n",
       "      <td>-0.008891</td>\n",
       "      <td>0.094379</td>\n",
       "      <td>0.022068</td>\n",
       "      <td>0.004669</td>\n",
       "      <td>1.424153</td>\n",
       "      <td>0.122935</td>\n",
       "      <td>67.291420</td>\n",
       "      <td>9.635846</td>\n",
       "      <td>1.574398</td>\n",
       "      <td>0.141254</td>\n",
       "      <td>0.007149</td>\n",
       "      <td>0.805583</td>\n",
       "      <td>0.044043</td>\n",
       "      <td>0.001971</td>\n",
       "    </tr>\n",
       "    <tr>\n",
       "      <th>C6</th>\n",
       "      <td>-0.045868</td>\n",
       "      <td>0.055696</td>\n",
       "      <td>-0.082601</td>\n",
       "      <td>0.081429</td>\n",
       "      <td>0.007425</td>\n",
       "      <td>0.898869</td>\n",
       "      <td>2.260577</td>\n",
       "      <td>24.151570</td>\n",
       "      <td>61.474548</td>\n",
       "      <td>1.865963</td>\n",
       "      <td>0.112417</td>\n",
       "      <td>0.165755</td>\n",
       "      <td>0.364577</td>\n",
       "      <td>0.354305</td>\n",
       "      <td>0.002946</td>\n",
       "    </tr>\n",
       "  </tbody>\n",
       "</table>\n",
       "</div>"
      ],
      "text/plain": [
       "    row_coord_dim1  row_coord_dim2  row_coord_dim3  row_coord_dim4  \\\n",
       "C1       -0.067797       -0.086463       -0.026446       -0.026474   \n",
       "C2       -0.079708       -0.142511       -0.017484       -0.002447   \n",
       "C3       -0.112131        0.229328       -0.008099       -0.027957   \n",
       "C4        0.311815        0.017622       -0.006523       -0.007015   \n",
       "C5       -0.039520       -0.008891        0.094379        0.022068   \n",
       "C6       -0.045868        0.055696       -0.082601        0.081429   \n",
       "\n",
       "    row_coord_dim5  row_contrib_dim1  row_contrib_dim2  row_contrib_dim3  \\\n",
       "C1        0.020241          4.959259         13.757557          6.251765   \n",
       "C2       -0.033392          4.129385         22.514628          1.646011   \n",
       "C3       -0.008419          8.537378         60.908227          0.369010   \n",
       "C4       -0.002246         80.050956          0.436076          0.290224   \n",
       "C5        0.004669          1.424153          0.122935         67.291420   \n",
       "C6        0.007425          0.898869          2.260577         24.151570   \n",
       "\n",
       "    row_contrib_dim4  row_contrib_dim5  row_cos2_dim1  row_cos2_dim2  \\\n",
       "C1         16.409631         35.014198       0.331103       0.538516   \n",
       "C2          0.084422         57.404409       0.226184       0.723024   \n",
       "C3         11.516392          3.812123       0.190267       0.795840   \n",
       "C4          0.879161          0.328909       0.995828       0.003180   \n",
       "C5          9.635846          1.574398       0.141254       0.007149   \n",
       "C6         61.474548          1.865963       0.112417       0.165755   \n",
       "\n",
       "    row_cos2_dim3  row_cos2_dim4  row_cos2_dim5  \n",
       "C1       0.050380       0.050488       0.029513  \n",
       "C2       0.010882       0.000213       0.039696  \n",
       "C3       0.000993       0.011828       0.001073  \n",
       "C4       0.000436       0.000504       0.000052  \n",
       "C5       0.805583       0.044043       0.001971  \n",
       "C6       0.364577       0.354305       0.002946  "
      ]
     },
     "execution_count": 34,
     "metadata": {},
     "output_type": "execute_result"
    }
   ],
   "source": [
    "info_skill=my_ca.row_topandas()\n",
    "info_skill"
   ]
  },
  {
   "cell_type": "code",
   "execution_count": 35,
   "id": "c49bf58e",
   "metadata": {},
   "outputs": [
    {
     "data": {
      "application/vnd.microsoft.datawrangler.viewer.v0+json": {
       "columns": [
        {
         "name": "index",
         "rawType": "object",
         "type": "string"
        },
        {
         "name": "col_coord_dim1",
         "rawType": "float64",
         "type": "float"
        },
        {
         "name": "col_coord_dim2",
         "rawType": "float64",
         "type": "float"
        },
        {
         "name": "col_coord_dim3",
         "rawType": "float64",
         "type": "float"
        },
        {
         "name": "col_coord_dim4",
         "rawType": "float64",
         "type": "float"
        },
        {
         "name": "col_coord_dim5",
         "rawType": "float64",
         "type": "float"
        },
        {
         "name": "col_contrib_dim1",
         "rawType": "float64",
         "type": "float"
        },
        {
         "name": "col_contrib_dim2",
         "rawType": "float64",
         "type": "float"
        },
        {
         "name": "col_contrib_dim3",
         "rawType": "float64",
         "type": "float"
        },
        {
         "name": "col_contrib_dim4",
         "rawType": "float64",
         "type": "float"
        },
        {
         "name": "col_contrib_dim5",
         "rawType": "float64",
         "type": "float"
        },
        {
         "name": "col_cos2_dim1",
         "rawType": "float64",
         "type": "float"
        },
        {
         "name": "col_cos2_dim2",
         "rawType": "float64",
         "type": "float"
        },
        {
         "name": "col_cos2_dim3",
         "rawType": "float64",
         "type": "float"
        },
        {
         "name": "col_cos2_dim4",
         "rawType": "float64",
         "type": "float"
        },
        {
         "name": "col_cos2_dim5",
         "rawType": "float64",
         "type": "float"
        }
       ],
       "conversionMethod": "pd.DataFrame",
       "ref": "87950af7-c066-4570-b8ea-dad7699b8df5",
       "rows": [
        [
         "FS01",
         "-0.1247526572340431",
         "0.03358397839665888",
         "0.09177783647931637",
         "0.0008376249506807694",
         "0.003058677172975104",
         "13.071484261854971",
         "1.6157649982247606",
         "58.61296747273575",
         "0.0127873031254374",
         "0.6223907933869803",
         "0.619448194321492",
         "0.04489207350205279",
         "0.33525943817413423",
         "2.7925733703280312e-05",
         "0.0003723682686183384"
        ],
        [
         "FS02",
         "0.1053529091633086",
         "-0.0001818104802957041",
         "0.004123283811674502",
         "-0.01287993694146055",
         "0.005189985592723377",
         "9.885147003928735",
         "5.021303973615253e-05",
         "0.12544960802751257",
         "3.206062583701899",
         "1.9001721695465983",
         "0.9814429729801764",
         "2.9228722433753836e-06",
         "0.0015033443259298929",
         "0.014668965204739566",
         "0.0023817946169127054"
        ],
        [
         "FS03",
         "0.2711402249161496",
         "-0.061025205249396745",
         "0.009488037622030496",
         "0.02516158321691158",
         "-0.0051497541393433835",
         "50.683839322051085",
         "4.379138859984242",
         "0.5141942091181333",
         "9.471352169425955",
         "1.4481887637339808",
         "0.9426377610332506",
         "0.047750225485705934",
         "0.0011542761583554014",
         "0.00811769739127938",
         "0.00034003993141036104"
        ],
        [
         "FS04",
         "0.018829425424720932",
         "0.1373700245856055",
         "-0.05123689805857806",
         "-0.03212297270298861",
         "0.014673038303930807",
         "0.22021587713898522",
         "19.991577341032986",
         "13.509302728477296",
         "13.907863006775795",
         "10.592175691241364",
         "0.015350044805298568",
         "0.81699512247592",
         "0.11365830371731608",
         "0.04467524770293114",
         "0.009321281298533666"
        ],
        [
         "FS05",
         "-0.0705744686550136",
         "0.1652137610203417",
         "-0.03264045521336244",
         "0.014002057474151659",
         "-0.052963533626028014",
         "1.3919287211315425",
         "13.010764476862363",
         "2.4667603520679435",
         "1.1889399739243163",
         "62.09351550938666",
         "0.13704879882371243",
         "0.7510561989482101",
         "0.029315169738188915",
         "0.005394655439786971",
         "0.07718517705010217"
        ],
        [
         "FS06",
         "-0.18997928840611603",
         "-0.25714565760782887",
         "-0.0983800678730951",
         "-0.036507671460796545",
         "-0.0075491194650008486",
         "5.481627150511737",
         "17.12947238995112",
         "12.178785973851621",
         "4.39258021644413",
         "0.6855831840657143",
         "0.31859737166916374",
         "0.5836978116428442",
         "0.08543659096872068",
         "0.011765162840515674",
         "0.0005030628787554355"
        ],
        [
         "FS07",
         "-0.15945432287868608",
         "-0.25048937019021245",
         "-0.01790904366553425",
         "0.027323805078877106",
         "-0.00875476081136443",
         "6.500560315550931",
         "27.361847378240682",
         "0.6793847141810938",
         "4.142046870615694",
         "1.5521630788989607",
         "0.2846756074727242",
         "0.7025160687201049",
         "0.003591058263582515",
         "0.008359109567474592",
         "0.0008581559761127377"
        ],
        [
         "FS08",
         "-0.1929424874702163",
         "0.15265892683523807",
         "-0.0904292674182407",
         "0.13899619325404736",
         "0.03199142946244968",
         "5.185054288527166",
         "5.536439889269352",
         "9.436444067997545",
         "58.39260209850018",
         "11.291078702154108",
         "0.4180325816722687",
         "0.2616970311500811",
         "0.09182742599277094",
         "0.2169502715754262",
         "0.011492689609453174"
        ],
        [
         "FS09",
         "-0.08307384842448953",
         "-0.12037670985137597",
         "-0.020663178841260676",
         "-0.019913540904300933",
         "0.005963861520782947",
         "2.3891604991291935",
         "8.556383109839658",
         "1.2246266859781707",
         "2.9789835305545624",
         "0.9753092630238589",
         "0.310156632071371",
         "0.65123442606469",
         "0.019188749866863385",
         "0.017821710866508276",
         "0.001598481130566784"
        ],
        [
         "FS10",
         "-0.13313167391517738",
         "-0.0371870674662898",
         "-0.015005114689344224",
         "-0.0018231878147064238",
         "0.012472628482256082",
         "3.5243816194273596",
         "0.4690213618996967",
         "0.37092966261856625",
         "0.014342914732166565",
         "2.4502291171795307",
         "0.9093466141144979",
         "0.07094969490855221",
         "0.011551684192730723",
         "0.00017054126812970696",
         "0.007981465516089511"
        ],
        [
         "FS11",
         "-0.10272843585188055",
         "0.08507395606000386",
         "-0.025951024658524682",
         "-0.025864051857167097",
         "-0.02260021662452048",
         "1.6666009407483806",
         "1.9495399816553678",
         "0.8811545249462966",
         "2.292439332199875",
         "6.3891937273822945",
         "0.5372222435358213",
         "0.36843925225062646",
         "0.0342832239567257",
         "0.0340538140134001",
         "0.026001466243426256"
        ]
       ],
       "shape": {
        "columns": 15,
        "rows": 11
       }
      },
      "text/html": [
       "<div>\n",
       "<style scoped>\n",
       "    .dataframe tbody tr th:only-of-type {\n",
       "        vertical-align: middle;\n",
       "    }\n",
       "\n",
       "    .dataframe tbody tr th {\n",
       "        vertical-align: top;\n",
       "    }\n",
       "\n",
       "    .dataframe thead th {\n",
       "        text-align: right;\n",
       "    }\n",
       "</style>\n",
       "<table border=\"1\" class=\"dataframe\">\n",
       "  <thead>\n",
       "    <tr style=\"text-align: right;\">\n",
       "      <th></th>\n",
       "      <th>col_coord_dim1</th>\n",
       "      <th>col_coord_dim2</th>\n",
       "      <th>col_coord_dim3</th>\n",
       "      <th>col_coord_dim4</th>\n",
       "      <th>col_coord_dim5</th>\n",
       "      <th>col_contrib_dim1</th>\n",
       "      <th>col_contrib_dim2</th>\n",
       "      <th>col_contrib_dim3</th>\n",
       "      <th>col_contrib_dim4</th>\n",
       "      <th>col_contrib_dim5</th>\n",
       "      <th>col_cos2_dim1</th>\n",
       "      <th>col_cos2_dim2</th>\n",
       "      <th>col_cos2_dim3</th>\n",
       "      <th>col_cos2_dim4</th>\n",
       "      <th>col_cos2_dim5</th>\n",
       "    </tr>\n",
       "  </thead>\n",
       "  <tbody>\n",
       "    <tr>\n",
       "      <th>FS01</th>\n",
       "      <td>-0.124753</td>\n",
       "      <td>0.033584</td>\n",
       "      <td>0.091778</td>\n",
       "      <td>0.000838</td>\n",
       "      <td>0.003059</td>\n",
       "      <td>13.071484</td>\n",
       "      <td>1.615765</td>\n",
       "      <td>58.612967</td>\n",
       "      <td>0.012787</td>\n",
       "      <td>0.622391</td>\n",
       "      <td>0.619448</td>\n",
       "      <td>0.044892</td>\n",
       "      <td>0.335259</td>\n",
       "      <td>0.000028</td>\n",
       "      <td>0.000372</td>\n",
       "    </tr>\n",
       "    <tr>\n",
       "      <th>FS02</th>\n",
       "      <td>0.105353</td>\n",
       "      <td>-0.000182</td>\n",
       "      <td>0.004123</td>\n",
       "      <td>-0.012880</td>\n",
       "      <td>0.005190</td>\n",
       "      <td>9.885147</td>\n",
       "      <td>0.000050</td>\n",
       "      <td>0.125450</td>\n",
       "      <td>3.206063</td>\n",
       "      <td>1.900172</td>\n",
       "      <td>0.981443</td>\n",
       "      <td>0.000003</td>\n",
       "      <td>0.001503</td>\n",
       "      <td>0.014669</td>\n",
       "      <td>0.002382</td>\n",
       "    </tr>\n",
       "    <tr>\n",
       "      <th>FS03</th>\n",
       "      <td>0.271140</td>\n",
       "      <td>-0.061025</td>\n",
       "      <td>0.009488</td>\n",
       "      <td>0.025162</td>\n",
       "      <td>-0.005150</td>\n",
       "      <td>50.683839</td>\n",
       "      <td>4.379139</td>\n",
       "      <td>0.514194</td>\n",
       "      <td>9.471352</td>\n",
       "      <td>1.448189</td>\n",
       "      <td>0.942638</td>\n",
       "      <td>0.047750</td>\n",
       "      <td>0.001154</td>\n",
       "      <td>0.008118</td>\n",
       "      <td>0.000340</td>\n",
       "    </tr>\n",
       "    <tr>\n",
       "      <th>FS04</th>\n",
       "      <td>0.018829</td>\n",
       "      <td>0.137370</td>\n",
       "      <td>-0.051237</td>\n",
       "      <td>-0.032123</td>\n",
       "      <td>0.014673</td>\n",
       "      <td>0.220216</td>\n",
       "      <td>19.991577</td>\n",
       "      <td>13.509303</td>\n",
       "      <td>13.907863</td>\n",
       "      <td>10.592176</td>\n",
       "      <td>0.015350</td>\n",
       "      <td>0.816995</td>\n",
       "      <td>0.113658</td>\n",
       "      <td>0.044675</td>\n",
       "      <td>0.009321</td>\n",
       "    </tr>\n",
       "    <tr>\n",
       "      <th>FS05</th>\n",
       "      <td>-0.070574</td>\n",
       "      <td>0.165214</td>\n",
       "      <td>-0.032640</td>\n",
       "      <td>0.014002</td>\n",
       "      <td>-0.052964</td>\n",
       "      <td>1.391929</td>\n",
       "      <td>13.010764</td>\n",
       "      <td>2.466760</td>\n",
       "      <td>1.188940</td>\n",
       "      <td>62.093516</td>\n",
       "      <td>0.137049</td>\n",
       "      <td>0.751056</td>\n",
       "      <td>0.029315</td>\n",
       "      <td>0.005395</td>\n",
       "      <td>0.077185</td>\n",
       "    </tr>\n",
       "    <tr>\n",
       "      <th>FS06</th>\n",
       "      <td>-0.189979</td>\n",
       "      <td>-0.257146</td>\n",
       "      <td>-0.098380</td>\n",
       "      <td>-0.036508</td>\n",
       "      <td>-0.007549</td>\n",
       "      <td>5.481627</td>\n",
       "      <td>17.129472</td>\n",
       "      <td>12.178786</td>\n",
       "      <td>4.392580</td>\n",
       "      <td>0.685583</td>\n",
       "      <td>0.318597</td>\n",
       "      <td>0.583698</td>\n",
       "      <td>0.085437</td>\n",
       "      <td>0.011765</td>\n",
       "      <td>0.000503</td>\n",
       "    </tr>\n",
       "    <tr>\n",
       "      <th>FS07</th>\n",
       "      <td>-0.159454</td>\n",
       "      <td>-0.250489</td>\n",
       "      <td>-0.017909</td>\n",
       "      <td>0.027324</td>\n",
       "      <td>-0.008755</td>\n",
       "      <td>6.500560</td>\n",
       "      <td>27.361847</td>\n",
       "      <td>0.679385</td>\n",
       "      <td>4.142047</td>\n",
       "      <td>1.552163</td>\n",
       "      <td>0.284676</td>\n",
       "      <td>0.702516</td>\n",
       "      <td>0.003591</td>\n",
       "      <td>0.008359</td>\n",
       "      <td>0.000858</td>\n",
       "    </tr>\n",
       "    <tr>\n",
       "      <th>FS08</th>\n",
       "      <td>-0.192942</td>\n",
       "      <td>0.152659</td>\n",
       "      <td>-0.090429</td>\n",
       "      <td>0.138996</td>\n",
       "      <td>0.031991</td>\n",
       "      <td>5.185054</td>\n",
       "      <td>5.536440</td>\n",
       "      <td>9.436444</td>\n",
       "      <td>58.392602</td>\n",
       "      <td>11.291079</td>\n",
       "      <td>0.418033</td>\n",
       "      <td>0.261697</td>\n",
       "      <td>0.091827</td>\n",
       "      <td>0.216950</td>\n",
       "      <td>0.011493</td>\n",
       "    </tr>\n",
       "    <tr>\n",
       "      <th>FS09</th>\n",
       "      <td>-0.083074</td>\n",
       "      <td>-0.120377</td>\n",
       "      <td>-0.020663</td>\n",
       "      <td>-0.019914</td>\n",
       "      <td>0.005964</td>\n",
       "      <td>2.389160</td>\n",
       "      <td>8.556383</td>\n",
       "      <td>1.224627</td>\n",
       "      <td>2.978984</td>\n",
       "      <td>0.975309</td>\n",
       "      <td>0.310157</td>\n",
       "      <td>0.651234</td>\n",
       "      <td>0.019189</td>\n",
       "      <td>0.017822</td>\n",
       "      <td>0.001598</td>\n",
       "    </tr>\n",
       "    <tr>\n",
       "      <th>FS10</th>\n",
       "      <td>-0.133132</td>\n",
       "      <td>-0.037187</td>\n",
       "      <td>-0.015005</td>\n",
       "      <td>-0.001823</td>\n",
       "      <td>0.012473</td>\n",
       "      <td>3.524382</td>\n",
       "      <td>0.469021</td>\n",
       "      <td>0.370930</td>\n",
       "      <td>0.014343</td>\n",
       "      <td>2.450229</td>\n",
       "      <td>0.909347</td>\n",
       "      <td>0.070950</td>\n",
       "      <td>0.011552</td>\n",
       "      <td>0.000171</td>\n",
       "      <td>0.007981</td>\n",
       "    </tr>\n",
       "    <tr>\n",
       "      <th>FS11</th>\n",
       "      <td>-0.102728</td>\n",
       "      <td>0.085074</td>\n",
       "      <td>-0.025951</td>\n",
       "      <td>-0.025864</td>\n",
       "      <td>-0.022600</td>\n",
       "      <td>1.666601</td>\n",
       "      <td>1.949540</td>\n",
       "      <td>0.881155</td>\n",
       "      <td>2.292439</td>\n",
       "      <td>6.389194</td>\n",
       "      <td>0.537222</td>\n",
       "      <td>0.368439</td>\n",
       "      <td>0.034283</td>\n",
       "      <td>0.034054</td>\n",
       "      <td>0.026001</td>\n",
       "    </tr>\n",
       "  </tbody>\n",
       "</table>\n",
       "</div>"
      ],
      "text/plain": [
       "      col_coord_dim1  col_coord_dim2  col_coord_dim3  col_coord_dim4  \\\n",
       "FS01       -0.124753        0.033584        0.091778        0.000838   \n",
       "FS02        0.105353       -0.000182        0.004123       -0.012880   \n",
       "FS03        0.271140       -0.061025        0.009488        0.025162   \n",
       "FS04        0.018829        0.137370       -0.051237       -0.032123   \n",
       "FS05       -0.070574        0.165214       -0.032640        0.014002   \n",
       "FS06       -0.189979       -0.257146       -0.098380       -0.036508   \n",
       "FS07       -0.159454       -0.250489       -0.017909        0.027324   \n",
       "FS08       -0.192942        0.152659       -0.090429        0.138996   \n",
       "FS09       -0.083074       -0.120377       -0.020663       -0.019914   \n",
       "FS10       -0.133132       -0.037187       -0.015005       -0.001823   \n",
       "FS11       -0.102728        0.085074       -0.025951       -0.025864   \n",
       "\n",
       "      col_coord_dim5  col_contrib_dim1  col_contrib_dim2  col_contrib_dim3  \\\n",
       "FS01        0.003059         13.071484          1.615765         58.612967   \n",
       "FS02        0.005190          9.885147          0.000050          0.125450   \n",
       "FS03       -0.005150         50.683839          4.379139          0.514194   \n",
       "FS04        0.014673          0.220216         19.991577         13.509303   \n",
       "FS05       -0.052964          1.391929         13.010764          2.466760   \n",
       "FS06       -0.007549          5.481627         17.129472         12.178786   \n",
       "FS07       -0.008755          6.500560         27.361847          0.679385   \n",
       "FS08        0.031991          5.185054          5.536440          9.436444   \n",
       "FS09        0.005964          2.389160          8.556383          1.224627   \n",
       "FS10        0.012473          3.524382          0.469021          0.370930   \n",
       "FS11       -0.022600          1.666601          1.949540          0.881155   \n",
       "\n",
       "      col_contrib_dim4  col_contrib_dim5  col_cos2_dim1  col_cos2_dim2  \\\n",
       "FS01          0.012787          0.622391       0.619448       0.044892   \n",
       "FS02          3.206063          1.900172       0.981443       0.000003   \n",
       "FS03          9.471352          1.448189       0.942638       0.047750   \n",
       "FS04         13.907863         10.592176       0.015350       0.816995   \n",
       "FS05          1.188940         62.093516       0.137049       0.751056   \n",
       "FS06          4.392580          0.685583       0.318597       0.583698   \n",
       "FS07          4.142047          1.552163       0.284676       0.702516   \n",
       "FS08         58.392602         11.291079       0.418033       0.261697   \n",
       "FS09          2.978984          0.975309       0.310157       0.651234   \n",
       "FS10          0.014343          2.450229       0.909347       0.070950   \n",
       "FS11          2.292439          6.389194       0.537222       0.368439   \n",
       "\n",
       "      col_cos2_dim3  col_cos2_dim4  col_cos2_dim5  \n",
       "FS01       0.335259       0.000028       0.000372  \n",
       "FS02       0.001503       0.014669       0.002382  \n",
       "FS03       0.001154       0.008118       0.000340  \n",
       "FS04       0.113658       0.044675       0.009321  \n",
       "FS05       0.029315       0.005395       0.077185  \n",
       "FS06       0.085437       0.011765       0.000503  \n",
       "FS07       0.003591       0.008359       0.000858  \n",
       "FS08       0.091827       0.216950       0.011493  \n",
       "FS09       0.019189       0.017822       0.001598  \n",
       "FS10       0.011552       0.000171       0.007981  \n",
       "FS11       0.034283       0.034054       0.026001  "
      ]
     },
     "execution_count": 35,
     "metadata": {},
     "output_type": "execute_result"
    }
   ],
   "source": [
    "info_FS=my_ca.col_topandas()\n",
    "info_FS"
   ]
  },
  {
   "cell_type": "code",
   "execution_count": null,
   "id": "0ca80edd",
   "metadata": {},
   "outputs": [
    {
     "data": {
      "image/png": "[encoded data removed]",
      "text/plain": [
       "<Figure size 640x480 with 1 Axes>"
      ]
     },
     "metadata": {},
     "output_type": "display_data"
    }
   ],
   "source": [
    "# Graphique des compétences (en ligne)\n",
    "my_ca.mapping_row(num_x_axis=1,num_y_axis=2)"
   ]
  },
  {
   "cell_type": "code",
   "execution_count": 37,
   "id": "0a5a28de",
   "metadata": {},
   "outputs": [
    {
     "data": {
      "image/png": "[encoded data removed]",
      "text/plain": [
       "<Figure size 640x480 with 1 Axes>"
      ]
     },
     "metadata": {},
     "output_type": "display_data"
    }
   ],
   "source": [
    "# Graphique des familles de situation (en colonne)\n",
    "my_ca.mapping_col(num_x_axis=1,num_y_axis=2)"
   ]
  },
  {
   "cell_type": "code",
   "execution_count": 38,
   "id": "ec01cff8",
   "metadata": {},
   "outputs": [
    {
     "data": {
      "image/png": "[encoded data removed]",
      "text/plain": [
       "<Figure size 1000x800 with 1 Axes>"
      ]
     },
     "metadata": {},
     "output_type": "display_data"
    }
   ],
   "source": [
    "# Graphique profil ligne profil colonne\n",
    "\n",
    "my_ca.mapping(1, 2, figsize=(10, 8))"
   ]
  }
 ],
 "metadata": {
  "kernelspec": {
   "display_name": "Python 3",
   "language": "python",
   "name": "python3"
  },
  "language_info": {
   "codemirror_mode": {
    "name": "ipython",
    "version": 3
   },
   "file_extension": ".py",
   "mimetype": "text/x-python",
   "name": "python",
   "nbconvert_exporter": "python",
   "pygments_lexer": "ipython3",
   "version": "3.9.13"
  }
 },
 "nbformat": 4,
 "nbformat_minor": 5
}
