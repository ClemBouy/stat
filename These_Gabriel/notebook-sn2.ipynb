{
 "cells": [
  {
   "cell_type": "markdown",
   "id": "815e26ca",
   "metadata": {},
   "source": [
    "# data-SN2.csv\n",
    "\n",
    "```\n",
    "SELECT tag.name as \"tag\", period.name, internship.type, skill_entry_with_workflow.id, skill_main.code, skill_descriptor.code, skill_situation_family.code ,skill_entry_with_workflow.workflow_state, skill_entry_with_workflow.created_at, skill_entry_with_workflow.updated_at\n",
    "FROM skill_entry_with_workflow\n",
    "LEFT JOIN skill_descriptor ON skill_entry_with_workflow.skill_descriptor_id = skill_descriptor.id\n",
    "LEFT JOIN skill_main ON skill_descriptor.skill_main_id = skill_main.id\n",
    "LEFT JOIN skill_container_with_situation_family ON skill_entry_with_workflow.skill_container_id = skill_container_with_situation_family.id\n",
    "LEFT JOIN skill_situation_family ON skill_container_with_situation_family.situation_family_id = skill_situation_family.id\n",
    "LEFT JOIN scoreboard_entry_abstract ON skill_container_with_situation_family.id = scoreboard_entry_abstract.skill_container_id\n",
    "LEFT JOIN internship_assignment ON scoreboard_entry_abstract.internship_assignment_id = internship_assignment.id\n",
    "LEFT JOIN period ON internship_assignment.period_id = period.id\n",
    "LEFT JOIN internship ON internship_assignment.internship_id = internship.id\n",
    "LEFT JOIN internship_tag_for_internship ON internship.id = internship_tag_for_internship.internship_id\n",
    "LEFT JOIN tag ON tag.id = internship_tag_for_internship.tag_for_internship_id\n",
    "\n",
    "WHERE (period.name = \"20222\" OR period.name = \"20231\" OR period.name = \"20232\" OR period.name = \"20241\") AND internship.type = \"internshipPractical\" AND tag.name = \"SN2\"\n",
    "```"
   ]
  },
  {
   "cell_type": "code",
   "execution_count": 1,
   "id": "baa64d21",
   "metadata": {},
   "outputs": [],
   "source": [
    "import pandas as pd\n",
    "import numpy as np\n",
    "from fanalysis.ca import CA\n",
    "import matplotlib.pyplot as plt"
   ]
  },
  {
   "cell_type": "code",
   "execution_count": 2,
   "id": "d544120a",
   "metadata": {},
   "outputs": [
    {
     "data": {
      "application/vnd.microsoft.datawrangler.viewer.v0+json": {
       "columns": [
        {
         "name": "index",
         "rawType": "int64",
         "type": "integer"
        },
        {
         "name": "tag",
         "rawType": "object",
         "type": "string"
        },
        {
         "name": "name",
         "rawType": "int64",
         "type": "integer"
        },
        {
         "name": "type",
         "rawType": "object",
         "type": "string"
        },
        {
         "name": "id",
         "rawType": "object",
         "type": "string"
        },
        {
         "name": "code",
         "rawType": "object",
         "type": "string"
        },
        {
         "name": "code.1",
         "rawType": "object",
         "type": "string"
        },
        {
         "name": "code.2",
         "rawType": "object",
         "type": "string"
        },
        {
         "name": "workflow_state",
         "rawType": "object",
         "type": "string"
        },
        {
         "name": "created_at",
         "rawType": "object",
         "type": "string"
        },
        {
         "name": "updated_at",
         "rawType": "object",
         "type": "string"
        }
       ],
       "conversionMethod": "pd.DataFrame",
       "ref": "df2debdc-c8eb-4aa7-88c9-f67fad0e1c12",
       "rows": [
        [
         "0",
         "SN2",
         "20232",
         "internshipPractical",
         "018f62b3-b99f-765f-842a-4902be999a30",
         "C1",
         "C1NiD1",
         "FS03",
         "certified",
         "2024-05-10 15:31:36",
         "2024-07-15 20:34:14"
        ],
        [
         "1",
         "SN2",
         "20232",
         "internshipPractical",
         "018f62b3-b9a1-759e-9862-0de0a6391bf1",
         "C1",
         "C1NiD2",
         "FS03",
         "certified",
         "2024-05-10 15:31:36",
         "2024-07-15 20:34:21"
        ],
        [
         "2",
         "SN2",
         "20232",
         "internshipPractical",
         "018f62b5-320d-79f8-adaa-d45d228fbf5c",
         "C1",
         "C1NnD3",
         "FS03",
         "certified",
         "2024-05-10 15:33:13",
         "2024-07-15 20:33:53"
        ],
        [
         "3",
         "SN2",
         "20232",
         "internshipPractical",
         "018f62b5-3210-7302-a9b6-5de76a87285a",
         "C1",
         "C1NnD4",
         "FS03",
         "certified",
         "2024-05-10 15:33:13",
         "2024-07-15 20:34:01"
        ],
        [
         "4",
         "SN2",
         "20232",
         "internshipPractical",
         "018f62b7-5026-793a-873e-0efb624b8a57",
         "C4",
         "C4NcD2",
         "FS03",
         "certified",
         "2024-05-10 15:35:31",
         "2024-07-15 20:31:06"
        ],
        [
         "5",
         "SN2",
         "20232",
         "internshipPractical",
         "018f62b7-502a-7528-b695-142f7617aa08",
         "C4",
         "C4NcD3",
         "FS03",
         "certified",
         "2024-05-10 15:35:31",
         "2024-07-15 20:31:17"
        ],
        [
         "6",
         "SN2",
         "20232",
         "internshipPractical",
         "018f62b7-502c-7a9b-b5d6-9c41783a8217",
         "C4",
         "C4NcD5",
         "FS03",
         "certified",
         "2024-05-10 15:35:31",
         "2024-07-15 20:31:25"
        ],
        [
         "7",
         "SN2",
         "20232",
         "internshipPractical",
         "018f62b7-502d-74a9-afc7-11f380484bc9",
         "C4",
         "C4NcD8",
         "FS03",
         "certified",
         "2024-05-10 15:35:31",
         "2024-07-15 20:31:32"
        ],
        [
         "8",
         "SN2",
         "20232",
         "internshipPractical",
         "018f62c6-110b-7199-9033-26aed8bc53c0",
         "C2",
         "C2NcD4",
         "FS05",
         "certified",
         "2024-05-10 15:51:38",
         "2024-07-15 20:33:45"
        ],
        [
         "9",
         "SN2",
         "20232",
         "internshipPractical",
         "018f62c5-ddae-7efb-9640-21bfe614841f",
         "C2",
         "C2NcD3",
         "FS05",
         "certified",
         "2024-05-10 15:51:25",
         "2024-07-15 20:33:37"
        ],
        [
         "10",
         "SN2",
         "20232",
         "internshipPractical",
         "018f62c5-a754-7097-954f-3bc889772ac6",
         "C2",
         "C2NcD2",
         "FS03",
         "certified",
         "2024-05-10 15:51:11",
         "2024-07-15 20:33:31"
        ],
        [
         "11",
         "SN2",
         "20232",
         "internshipPractical",
         "018f62c5-7ff0-76bd-aca0-e629995dc49d",
         "C2",
         "C2NcD1",
         "FS03",
         "certified",
         "2024-05-10 15:51:01",
         "2024-07-15 20:33:25"
        ],
        [
         "12",
         "SN2",
         "20232",
         "internshipPractical",
         "018f62c5-1a96-752a-8cff-027e98026bed",
         "C1",
         "C1NcD5",
         "FS01",
         "certified",
         "2024-05-10 15:50:35",
         "2024-07-15 20:33:20"
        ],
        [
         "13",
         "SN2",
         "20232",
         "internshipPractical",
         "018f62c4-efc2-7e8c-a05a-8f920e46a598",
         "C1",
         "C1NcD4",
         "FS02",
         "certified",
         "2024-05-10 15:50:24",
         "2024-07-15 20:33:09"
        ],
        [
         "14",
         "SN2",
         "20232",
         "internshipPractical",
         "018f62c4-b4c5-75cd-b780-de77d82a2519",
         "C1",
         "C1NcD3",
         "FS08",
         "certified",
         "2024-05-10 15:50:09",
         "2024-07-15 20:32:53"
        ],
        [
         "15",
         "SN2",
         "20232",
         "internshipPractical",
         "018f62c4-83c1-7c3b-b2c4-da9b07f9550c",
         "C1",
         "C1NcD2",
         "FS07",
         "certified",
         "2024-05-10 15:49:57",
         "2024-07-15 20:32:44"
        ],
        [
         "16",
         "SN2",
         "20232",
         "internshipPractical",
         "018f62c4-56af-7ef7-babb-bb9b8b0038b3",
         "C1",
         "C1NcD1",
         "FS02",
         "certified",
         "2024-05-10 15:49:45",
         "2024-07-15 20:32:34"
        ],
        [
         "17",
         "SN2",
         "20232",
         "internshipPractical",
         "018f62c4-0da7-7836-b47d-86a555b947c2",
         "C1",
         "C1NiD3",
         "FS01",
         "certified",
         "2024-05-10 15:49:26",
         "2024-07-15 20:32:18"
        ],
        [
         "18",
         "SN2",
         "20232",
         "internshipPractical",
         "018f62c3-bea3-799b-a976-d7a7b9c0396d",
         "C1",
         "C1NiD1",
         "FS02",
         "certified",
         "2024-05-10 15:49:06",
         "2024-07-15 20:32:11"
        ],
        [
         "19",
         "SN2",
         "20232",
         "internshipPractical",
         "018f62c2-eff0-7a3c-9816-3274d2521493",
         "C1",
         "C1NnD9",
         "FS03",
         "certified",
         "2024-05-10 15:48:13",
         "2024-07-15 20:32:04"
        ],
        [
         "20",
         "SN2",
         "20232",
         "internshipPractical",
         "018f62c2-7ddc-7d8a-ad54-58d47597bda3",
         "C1",
         "C1NnD8",
         "FS05",
         "certified",
         "2024-05-10 15:47:44",
         "2024-07-15 20:31:59"
        ],
        [
         "21",
         "SN2",
         "20232",
         "internshipPractical",
         "018f62c2-1d7b-7bc1-9703-8b2a551ef5ac",
         "C6",
         "C6NcD1",
         "FS05",
         "certified",
         "2024-05-10 15:47:19",
         "2024-07-15 20:31:52"
        ],
        [
         "22",
         "SN2",
         "20232",
         "internshipPractical",
         "018f62c1-6b62-7ec6-9fe7-0b55e6dba274",
         "C6",
         "C6NnD1",
         "FS08",
         "certified",
         "2024-05-10 15:46:34",
         "2024-07-15 20:31:46"
        ],
        [
         "23",
         "SN2",
         "20232",
         "internshipPractical",
         "018f728f-4a02-78ed-89fd-2317d3a7dfc5",
         "C4",
         "C4NcD7",
         "FS03",
         "certified",
         "2024-05-13 17:25:44",
         "2024-08-30 14:07:35"
        ],
        [
         "24",
         "SN2",
         "20232",
         "internshipPractical",
         "018f7290-469f-72c7-bb2a-aae0a1f9ba54",
         "C4",
         "C4NcD4",
         "FS03",
         "certified",
         "2024-05-13 17:26:48",
         "2024-08-30 14:07:31"
        ],
        [
         "25",
         "SN2",
         "20232",
         "internshipPractical",
         "018f7292-1c0b-7584-b821-b6a7eba619f0",
         "C3",
         "C3NcD2",
         "FS01",
         "certified",
         "2024-05-13 17:28:49",
         "2024-08-30 14:07:27"
        ],
        [
         "26",
         "SN2",
         "20232",
         "internshipPractical",
         "018f7292-ed3f-76a4-a0eb-9f23c310a670",
         "C4",
         "C4NiD1",
         "FS03",
         "certified",
         "2024-05-13 17:29:42",
         "2024-08-30 14:07:23"
        ],
        [
         "27",
         "SN2",
         "20232",
         "internshipPractical",
         "018f7293-cf4a-7b15-860a-387be48e619c",
         "C4",
         "C4NcD6",
         "FS01",
         "certified",
         "2024-05-13 17:30:40",
         "2024-08-30 14:07:19"
        ],
        [
         "28",
         "SN2",
         "20232",
         "internshipPractical",
         "018f7294-ae83-7c2d-94b8-d167d4f6414c",
         "C4",
         "C4NcD7",
         "FS03",
         "certified",
         "2024-05-13 17:31:37",
         "2024-08-30 14:07:15"
        ],
        [
         "29",
         "SN2",
         "20232",
         "internshipPractical",
         "018f7295-7284-70cb-8f95-0adb44c6aeba",
         "C4",
         "C4NcD7",
         "FS10",
         "certified",
         "2024-05-13 17:32:27",
         "2024-08-30 14:07:11"
        ],
        [
         "30",
         "SN2",
         "20232",
         "internshipPractical",
         "018f7296-4b80-71e0-a9e6-005b1390a16b",
         "C4",
         "C4NcD6",
         "FS04",
         "certified",
         "2024-05-13 17:33:23",
         "2024-08-30 14:07:07"
        ],
        [
         "31",
         "SN2",
         "20232",
         "internshipPractical",
         "018f7297-0494-7730-bcdd-4b7630ef5740",
         "C4",
         "C4NcD5",
         "FS05",
         "certified",
         "2024-05-13 17:34:10",
         "2024-08-30 14:07:03"
        ],
        [
         "32",
         "SN2",
         "20232",
         "internshipPractical",
         "018f7298-0540-78b7-9be5-a663e1f48a8e",
         "C4",
         "C4NcD5",
         "FS09",
         "certified",
         "2024-05-13 17:35:16",
         "2024-08-30 14:06:59"
        ],
        [
         "33",
         "SN2",
         "20232",
         "internshipPractical",
         "018f7299-199a-7e82-9f00-c9e6a2aa6215",
         "C4",
         "C4NcD1",
         "FS03",
         "certified",
         "2024-05-13 17:36:27",
         "2024-08-30 14:08:16"
        ],
        [
         "34",
         "SN2",
         "20232",
         "internshipPractical",
         "018f7299-efe8-76c6-a39c-51daf85323d4",
         "C4",
         "C4NcD1",
         "FS02",
         "certified",
         "2024-05-13 17:37:22",
         "2024-08-30 14:08:13"
        ],
        [
         "35",
         "SN2",
         "20232",
         "internshipPractical",
         "018f729b-4858-7049-8d01-15fd5154f568",
         "C2",
         "C2NcD3",
         "FS07",
         "certified",
         "2024-05-13 17:38:50",
         "2024-08-30 14:08:09"
        ],
        [
         "36",
         "SN2",
         "20232",
         "internshipPractical",
         "018f729c-1e6a-7319-a0bd-7f0db5a77e75",
         "C2",
         "C2NcD2",
         "FS03",
         "certified",
         "2024-05-13 17:39:45",
         "2024-08-30 14:08:06"
        ],
        [
         "37",
         "SN2",
         "20232",
         "internshipPractical",
         "018fbe7e-d53a-7919-a79a-3bd5cd28927b",
         "C3",
         "C3NnD2",
         "FS03",
         "certified",
         "2024-05-28 11:18:54",
         "2024-08-30 14:08:01"
        ],
        [
         "38",
         "SN2",
         "20232",
         "internshipPractical",
         "018fbe7e-e902-7ca8-b1c9-b28ccfd63d32",
         "C3",
         "C3NnD2",
         "FS01",
         "certified",
         "2024-05-28 11:18:59",
         "2024-08-30 14:07:57"
        ],
        [
         "39",
         "SN2",
         "20232",
         "internshipPractical",
         "018fbe81-2a43-7b66-9819-fa365e7032b2",
         "C4",
         "C4NcD6",
         "FS02",
         "certified",
         "2024-05-28 11:21:27",
         "2024-08-30 14:07:54"
        ],
        [
         "40",
         "SN2",
         "20232",
         "internshipPractical",
         "018fbe7f-6391-76eb-82a6-b8fe7a67e1fe",
         "C3",
         "C3NiD1",
         "FS04",
         "certified",
         "2024-05-28 11:19:30",
         "2024-08-30 14:07:50"
        ],
        [
         "41",
         "SN2",
         "20232",
         "internshipPractical",
         "018fbe7f-b97a-7576-a832-f372f41d108d",
         "C3",
         "C3NiD2",
         "FS05",
         "certified",
         "2024-05-28 11:19:52",
         "2024-08-30 14:07:45"
        ],
        [
         "42",
         "SN2",
         "20232",
         "internshipPractical",
         "018fbe80-1a0a-7a3c-81c9-2aaf6d70bbe2",
         "C3",
         "C3NiD4",
         "FS09",
         "certified",
         "2024-05-28 11:20:17",
         "2024-08-30 14:07:40"
        ],
        [
         "43",
         "SN2",
         "20232",
         "internshipPractical",
         "018fbe80-c8cb-79cb-94b0-a15c53e6367e",
         "C4",
         "C4NcD3",
         "FS01",
         "certified",
         "2024-05-28 11:21:02",
         "2024-08-30 14:08:55"
        ],
        [
         "44",
         "SN2",
         "20232",
         "internshipPractical",
         "018fbe7b-e619-7f0d-8b85-2bf9d4ef3899",
         "C1",
         "C1NiD3",
         "FS02",
         "certified",
         "2024-05-28 11:15:41",
         "2024-07-15 20:30:58"
        ],
        [
         "45",
         "SN2",
         "20232",
         "internshipPractical",
         "018fbe7c-2a37-77a8-b97b-8aa17f35a987",
         "C1",
         "C1NiD4",
         "FS03",
         "certified",
         "2024-05-28 11:15:59",
         "2024-07-15 20:30:42"
        ],
        [
         "46",
         "SN2",
         "20232",
         "internshipPractical",
         "018fbe7c-503d-7edb-90cb-5bfcb0d0a098",
         "C1",
         "C1NiD5",
         "FS09",
         "certified",
         "2024-05-28 11:16:09",
         "2024-07-15 20:30:28"
        ],
        [
         "47",
         "SN2",
         "20232",
         "internshipPractical",
         "018fbe7c-6693-7dbd-aa4f-78f9085b0896",
         "C1",
         "C1NiD5",
         "FS01",
         "certified",
         "2024-05-28 11:16:14",
         "2024-07-15 20:30:16"
        ],
        [
         "48",
         "SN2",
         "20232",
         "internshipPractical",
         "018fbe7c-8bd3-7019-8e00-67946825b3d1",
         "C1",
         "C1NiD6",
         "FS02",
         "certified",
         "2024-05-28 11:16:24",
         "2024-07-15 20:30:08"
        ],
        [
         "49",
         "SN2",
         "20232",
         "internshipPractical",
         "018fbe7c-a0e9-73fd-b1db-cfc95fe3d3c5",
         "C1",
         "C1NiD6",
         "FS01",
         "certified",
         "2024-05-28 11:16:29",
         "2024-07-15 20:29:58"
        ]
       ],
       "shape": {
        "columns": 10,
        "rows": 34189
       }
      },
      "text/html": [
       "<div>\n",
       "<style scoped>\n",
       "    .dataframe tbody tr th:only-of-type {\n",
       "        vertical-align: middle;\n",
       "    }\n",
       "\n",
       "    .dataframe tbody tr th {\n",
       "        vertical-align: top;\n",
       "    }\n",
       "\n",
       "    .dataframe thead th {\n",
       "        text-align: right;\n",
       "    }\n",
       "</style>\n",
       "<table border=\"1\" class=\"dataframe\">\n",
       "  <thead>\n",
       "    <tr style=\"text-align: right;\">\n",
       "      <th></th>\n",
       "      <th>tag</th>\n",
       "      <th>name</th>\n",
       "      <th>type</th>\n",
       "      <th>id</th>\n",
       "      <th>code</th>\n",
       "      <th>code.1</th>\n",
       "      <th>code.2</th>\n",
       "      <th>workflow_state</th>\n",
       "      <th>created_at</th>\n",
       "      <th>updated_at</th>\n",
       "    </tr>\n",
       "  </thead>\n",
       "  <tbody>\n",
       "    <tr>\n",
       "      <th>0</th>\n",
       "      <td>SN2</td>\n",
       "      <td>20232</td>\n",
       "      <td>internshipPractical</td>\n",
       "      <td>018f62b3-b99f-765f-842a-4902be999a30</td>\n",
       "      <td>C1</td>\n",
       "      <td>C1NiD1</td>\n",
       "      <td>FS03</td>\n",
       "      <td>certified</td>\n",
       "      <td>2024-05-10 15:31:36</td>\n",
       "      <td>2024-07-15 20:34:14</td>\n",
       "    </tr>\n",
       "    <tr>\n",
       "      <th>1</th>\n",
       "      <td>SN2</td>\n",
       "      <td>20232</td>\n",
       "      <td>internshipPractical</td>\n",
       "      <td>018f62b3-b9a1-759e-9862-0de0a6391bf1</td>\n",
       "      <td>C1</td>\n",
       "      <td>C1NiD2</td>\n",
       "      <td>FS03</td>\n",
       "      <td>certified</td>\n",
       "      <td>2024-05-10 15:31:36</td>\n",
       "      <td>2024-07-15 20:34:21</td>\n",
       "    </tr>\n",
       "    <tr>\n",
       "      <th>2</th>\n",
       "      <td>SN2</td>\n",
       "      <td>20232</td>\n",
       "      <td>internshipPractical</td>\n",
       "      <td>018f62b5-320d-79f8-adaa-d45d228fbf5c</td>\n",
       "      <td>C1</td>\n",
       "      <td>C1NnD3</td>\n",
       "      <td>FS03</td>\n",
       "      <td>certified</td>\n",
       "      <td>2024-05-10 15:33:13</td>\n",
       "      <td>2024-07-15 20:33:53</td>\n",
       "    </tr>\n",
       "    <tr>\n",
       "      <th>3</th>\n",
       "      <td>SN2</td>\n",
       "      <td>20232</td>\n",
       "      <td>internshipPractical</td>\n",
       "      <td>018f62b5-3210-7302-a9b6-5de76a87285a</td>\n",
       "      <td>C1</td>\n",
       "      <td>C1NnD4</td>\n",
       "      <td>FS03</td>\n",
       "      <td>certified</td>\n",
       "      <td>2024-05-10 15:33:13</td>\n",
       "      <td>2024-07-15 20:34:01</td>\n",
       "    </tr>\n",
       "    <tr>\n",
       "      <th>4</th>\n",
       "      <td>SN2</td>\n",
       "      <td>20232</td>\n",
       "      <td>internshipPractical</td>\n",
       "      <td>018f62b7-5026-793a-873e-0efb624b8a57</td>\n",
       "      <td>C4</td>\n",
       "      <td>C4NcD2</td>\n",
       "      <td>FS03</td>\n",
       "      <td>certified</td>\n",
       "      <td>2024-05-10 15:35:31</td>\n",
       "      <td>2024-07-15 20:31:06</td>\n",
       "    </tr>\n",
       "    <tr>\n",
       "      <th>...</th>\n",
       "      <td>...</td>\n",
       "      <td>...</td>\n",
       "      <td>...</td>\n",
       "      <td>...</td>\n",
       "      <td>...</td>\n",
       "      <td>...</td>\n",
       "      <td>...</td>\n",
       "      <td>...</td>\n",
       "      <td>...</td>\n",
       "      <td>...</td>\n",
       "    </tr>\n",
       "    <tr>\n",
       "      <th>34184</th>\n",
       "      <td>SN2</td>\n",
       "      <td>20231</td>\n",
       "      <td>internshipPractical</td>\n",
       "      <td>1ee8dd39-6021-6024-9aad-bd4a3338bc57</td>\n",
       "      <td>C6</td>\n",
       "      <td>C6NnD2</td>\n",
       "      <td>FS01</td>\n",
       "      <td>certified</td>\n",
       "      <td>2023-11-28 10:50:38</td>\n",
       "      <td>2023-12-03 17:37:24</td>\n",
       "    </tr>\n",
       "    <tr>\n",
       "      <th>34185</th>\n",
       "      <td>SN2</td>\n",
       "      <td>20231</td>\n",
       "      <td>internshipPractical</td>\n",
       "      <td>1ee8dd35-61a7-6f82-aad2-a1e13111ddb8</td>\n",
       "      <td>C6</td>\n",
       "      <td>C6NnD1</td>\n",
       "      <td>FS02</td>\n",
       "      <td>certified</td>\n",
       "      <td>2023-11-28 10:48:51</td>\n",
       "      <td>2023-12-03 17:37:03</td>\n",
       "    </tr>\n",
       "    <tr>\n",
       "      <th>34186</th>\n",
       "      <td>SN2</td>\n",
       "      <td>20231</td>\n",
       "      <td>internshipPractical</td>\n",
       "      <td>1ee8e0f7-6b29-64d2-bf4e-ebf29846bb0b</td>\n",
       "      <td>C1</td>\n",
       "      <td>C1NnD9</td>\n",
       "      <td>FS08</td>\n",
       "      <td>certified</td>\n",
       "      <td>2023-11-28 17:59:16</td>\n",
       "      <td>2023-12-03 17:35:52</td>\n",
       "    </tr>\n",
       "    <tr>\n",
       "      <th>34187</th>\n",
       "      <td>SN2</td>\n",
       "      <td>20231</td>\n",
       "      <td>internshipPractical</td>\n",
       "      <td>1ee8e02e-7369-6896-a1c9-e5c8cbae5ac1</td>\n",
       "      <td>C1</td>\n",
       "      <td>C1NiD3</td>\n",
       "      <td>FS03</td>\n",
       "      <td>certified</td>\n",
       "      <td>2023-11-28 16:29:21</td>\n",
       "      <td>2023-12-03 17:35:38</td>\n",
       "    </tr>\n",
       "    <tr>\n",
       "      <th>34188</th>\n",
       "      <td>SN2</td>\n",
       "      <td>20231</td>\n",
       "      <td>internshipPractical</td>\n",
       "      <td>1ee8e022-c02d-658a-a357-37c292521a8c</td>\n",
       "      <td>C1</td>\n",
       "      <td>C1NnD9</td>\n",
       "      <td>FS10</td>\n",
       "      <td>certified</td>\n",
       "      <td>2023-11-28 16:24:07</td>\n",
       "      <td>2023-12-03 17:35:04</td>\n",
       "    </tr>\n",
       "  </tbody>\n",
       "</table>\n",
       "<p>34189 rows × 10 columns</p>\n",
       "</div>"
      ],
      "text/plain": [
       "       tag   name                 type                                    id  \\\n",
       "0      SN2  20232  internshipPractical  018f62b3-b99f-765f-842a-4902be999a30   \n",
       "1      SN2  20232  internshipPractical  018f62b3-b9a1-759e-9862-0de0a6391bf1   \n",
       "2      SN2  20232  internshipPractical  018f62b5-320d-79f8-adaa-d45d228fbf5c   \n",
       "3      SN2  20232  internshipPractical  018f62b5-3210-7302-a9b6-5de76a87285a   \n",
       "4      SN2  20232  internshipPractical  018f62b7-5026-793a-873e-0efb624b8a57   \n",
       "...    ...    ...                  ...                                   ...   \n",
       "34184  SN2  20231  internshipPractical  1ee8dd39-6021-6024-9aad-bd4a3338bc57   \n",
       "34185  SN2  20231  internshipPractical  1ee8dd35-61a7-6f82-aad2-a1e13111ddb8   \n",
       "34186  SN2  20231  internshipPractical  1ee8e0f7-6b29-64d2-bf4e-ebf29846bb0b   \n",
       "34187  SN2  20231  internshipPractical  1ee8e02e-7369-6896-a1c9-e5c8cbae5ac1   \n",
       "34188  SN2  20231  internshipPractical  1ee8e022-c02d-658a-a357-37c292521a8c   \n",
       "\n",
       "      code  code.1 code.2 workflow_state           created_at  \\\n",
       "0       C1  C1NiD1   FS03      certified  2024-05-10 15:31:36   \n",
       "1       C1  C1NiD2   FS03      certified  2024-05-10 15:31:36   \n",
       "2       C1  C1NnD3   FS03      certified  2024-05-10 15:33:13   \n",
       "3       C1  C1NnD4   FS03      certified  2024-05-10 15:33:13   \n",
       "4       C4  C4NcD2   FS03      certified  2024-05-10 15:35:31   \n",
       "...    ...     ...    ...            ...                  ...   \n",
       "34184   C6  C6NnD2   FS01      certified  2023-11-28 10:50:38   \n",
       "34185   C6  C6NnD1   FS02      certified  2023-11-28 10:48:51   \n",
       "34186   C1  C1NnD9   FS08      certified  2023-11-28 17:59:16   \n",
       "34187   C1  C1NiD3   FS03      certified  2023-11-28 16:29:21   \n",
       "34188   C1  C1NnD9   FS10      certified  2023-11-28 16:24:07   \n",
       "\n",
       "                updated_at  \n",
       "0      2024-07-15 20:34:14  \n",
       "1      2024-07-15 20:34:21  \n",
       "2      2024-07-15 20:33:53  \n",
       "3      2024-07-15 20:34:01  \n",
       "4      2024-07-15 20:31:06  \n",
       "...                    ...  \n",
       "34184  2023-12-03 17:37:24  \n",
       "34185  2023-12-03 17:37:03  \n",
       "34186  2023-12-03 17:35:52  \n",
       "34187  2023-12-03 17:35:38  \n",
       "34188  2023-12-03 17:35:04  \n",
       "\n",
       "[34189 rows x 10 columns]"
      ]
     },
     "metadata": {},
     "output_type": "display_data"
    }
   ],
   "source": [
    "data = pd.read_csv('data/data-SN2.csv')\n",
    "display(data)"
   ]
  },
  {
   "cell_type": "code",
   "execution_count": 3,
   "id": "6141cb5b",
   "metadata": {},
   "outputs": [
    {
     "data": {
      "application/vnd.microsoft.datawrangler.viewer.v0+json": {
       "columns": [
        {
         "name": "code",
         "rawType": "object",
         "type": "string"
        },
        {
         "name": "FS01",
         "rawType": "int64",
         "type": "integer"
        },
        {
         "name": "FS02",
         "rawType": "int64",
         "type": "integer"
        },
        {
         "name": "FS03",
         "rawType": "int64",
         "type": "integer"
        },
        {
         "name": "FS04",
         "rawType": "int64",
         "type": "integer"
        },
        {
         "name": "FS05",
         "rawType": "int64",
         "type": "integer"
        },
        {
         "name": "FS06",
         "rawType": "int64",
         "type": "integer"
        },
        {
         "name": "FS07",
         "rawType": "int64",
         "type": "integer"
        },
        {
         "name": "FS08",
         "rawType": "int64",
         "type": "integer"
        },
        {
         "name": "FS09",
         "rawType": "int64",
         "type": "integer"
        },
        {
         "name": "FS10",
         "rawType": "int64",
         "type": "integer"
        },
        {
         "name": "FS11",
         "rawType": "int64",
         "type": "integer"
        }
       ],
       "conversionMethod": "pd.DataFrame",
       "ref": "bf4e4cca-aa3d-41f6-a78d-63062d039b67",
       "rows": [
        [
         "C1",
         "1004",
         "836",
         "748",
         "628",
         "318",
         "418",
         "607",
         "267",
         "716",
         "276",
         "289"
        ],
        [
         "C2",
         "962",
         "841",
         "737",
         "478",
         "299",
         "321",
         "557",
         "152",
         "555",
         "223",
         "212"
        ],
        [
         "C3",
         "944",
         "806",
         "571",
         "710",
         "370",
         "173",
         "256",
         "273",
         "384",
         "234",
         "257"
        ],
        [
         "C4",
         "938",
         "1405",
         "1485",
         "987",
         "399",
         "186",
         "338",
         "160",
         "559",
         "212",
         "258"
        ],
        [
         "C5",
         "1416",
         "1071",
         "985",
         "728",
         "362",
         "302",
         "569",
         "260",
         "688",
         "316",
         "307"
        ],
        [
         "C6",
         "643",
         "593",
         "534",
         "455",
         "235",
         "168",
         "276",
         "213",
         "354",
         "182",
         "183"
        ]
       ],
       "shape": {
        "columns": 11,
        "rows": 6
       }
      },
      "text/html": [
       "<div>\n",
       "<style scoped>\n",
       "    .dataframe tbody tr th:only-of-type {\n",
       "        vertical-align: middle;\n",
       "    }\n",
       "\n",
       "    .dataframe tbody tr th {\n",
       "        vertical-align: top;\n",
       "    }\n",
       "\n",
       "    .dataframe thead th {\n",
       "        text-align: right;\n",
       "    }\n",
       "</style>\n",
       "<table border=\"1\" class=\"dataframe\">\n",
       "  <thead>\n",
       "    <tr style=\"text-align: right;\">\n",
       "      <th>code.2</th>\n",
       "      <th>FS01</th>\n",
       "      <th>FS02</th>\n",
       "      <th>FS03</th>\n",
       "      <th>FS04</th>\n",
       "      <th>FS05</th>\n",
       "      <th>FS06</th>\n",
       "      <th>FS07</th>\n",
       "      <th>FS08</th>\n",
       "      <th>FS09</th>\n",
       "      <th>FS10</th>\n",
       "      <th>FS11</th>\n",
       "    </tr>\n",
       "    <tr>\n",
       "      <th>code</th>\n",
       "      <th></th>\n",
       "      <th></th>\n",
       "      <th></th>\n",
       "      <th></th>\n",
       "      <th></th>\n",
       "      <th></th>\n",
       "      <th></th>\n",
       "      <th></th>\n",
       "      <th></th>\n",
       "      <th></th>\n",
       "      <th></th>\n",
       "    </tr>\n",
       "  </thead>\n",
       "  <tbody>\n",
       "    <tr>\n",
       "      <th>C1</th>\n",
       "      <td>1004</td>\n",
       "      <td>836</td>\n",
       "      <td>748</td>\n",
       "      <td>628</td>\n",
       "      <td>318</td>\n",
       "      <td>418</td>\n",
       "      <td>607</td>\n",
       "      <td>267</td>\n",
       "      <td>716</td>\n",
       "      <td>276</td>\n",
       "      <td>289</td>\n",
       "    </tr>\n",
       "    <tr>\n",
       "      <th>C2</th>\n",
       "      <td>962</td>\n",
       "      <td>841</td>\n",
       "      <td>737</td>\n",
       "      <td>478</td>\n",
       "      <td>299</td>\n",
       "      <td>321</td>\n",
       "      <td>557</td>\n",
       "      <td>152</td>\n",
       "      <td>555</td>\n",
       "      <td>223</td>\n",
       "      <td>212</td>\n",
       "    </tr>\n",
       "    <tr>\n",
       "      <th>C3</th>\n",
       "      <td>944</td>\n",
       "      <td>806</td>\n",
       "      <td>571</td>\n",
       "      <td>710</td>\n",
       "      <td>370</td>\n",
       "      <td>173</td>\n",
       "      <td>256</td>\n",
       "      <td>273</td>\n",
       "      <td>384</td>\n",
       "      <td>234</td>\n",
       "      <td>257</td>\n",
       "    </tr>\n",
       "    <tr>\n",
       "      <th>C4</th>\n",
       "      <td>938</td>\n",
       "      <td>1405</td>\n",
       "      <td>1485</td>\n",
       "      <td>987</td>\n",
       "      <td>399</td>\n",
       "      <td>186</td>\n",
       "      <td>338</td>\n",
       "      <td>160</td>\n",
       "      <td>559</td>\n",
       "      <td>212</td>\n",
       "      <td>258</td>\n",
       "    </tr>\n",
       "    <tr>\n",
       "      <th>C5</th>\n",
       "      <td>1416</td>\n",
       "      <td>1071</td>\n",
       "      <td>985</td>\n",
       "      <td>728</td>\n",
       "      <td>362</td>\n",
       "      <td>302</td>\n",
       "      <td>569</td>\n",
       "      <td>260</td>\n",
       "      <td>688</td>\n",
       "      <td>316</td>\n",
       "      <td>307</td>\n",
       "    </tr>\n",
       "    <tr>\n",
       "      <th>C6</th>\n",
       "      <td>643</td>\n",
       "      <td>593</td>\n",
       "      <td>534</td>\n",
       "      <td>455</td>\n",
       "      <td>235</td>\n",
       "      <td>168</td>\n",
       "      <td>276</td>\n",
       "      <td>213</td>\n",
       "      <td>354</td>\n",
       "      <td>182</td>\n",
       "      <td>183</td>\n",
       "    </tr>\n",
       "  </tbody>\n",
       "</table>\n",
       "</div>"
      ],
      "text/plain": [
       "code.2  FS01  FS02  FS03  FS04  FS05  FS06  FS07  FS08  FS09  FS10  FS11\n",
       "code                                                                    \n",
       "C1      1004   836   748   628   318   418   607   267   716   276   289\n",
       "C2       962   841   737   478   299   321   557   152   555   223   212\n",
       "C3       944   806   571   710   370   173   256   273   384   234   257\n",
       "C4       938  1405  1485   987   399   186   338   160   559   212   258\n",
       "C5      1416  1071   985   728   362   302   569   260   688   316   307\n",
       "C6       643   593   534   455   235   168   276   213   354   182   183"
      ]
     },
     "metadata": {},
     "output_type": "display_data"
    }
   ],
   "source": [
    "# data_pt = pd.pivot_table(data, values=\"name\", index=[data['id']], columns=data['record'], aggfunc=\"count\", fill_value=0, dropna=False)\n",
    "\n",
    "\n",
    "data_pt = pd.pivot_table(data, values=\"id\", index=[data['code']], columns=data['code.2'], aggfunc=\"count\")\n",
    "display(data_pt)"
   ]
  },
  {
   "cell_type": "code",
   "execution_count": 4,
   "id": "a1b4ec74",
   "metadata": {},
   "outputs": [],
   "source": [
    "col_names = list(data_pt.columns)[0:]\n",
    "row_names = list(data_pt.index)"
   ]
  },
  {
   "cell_type": "code",
   "execution_count": 5,
   "id": "68be935c",
   "metadata": {},
   "outputs": [],
   "source": [
    "X = data_pt[col_names].values "
   ]
  },
  {
   "cell_type": "code",
   "execution_count": 6,
   "id": "bf61f53e",
   "metadata": {},
   "outputs": [
    {
     "name": "stdout",
     "output_type": "stream",
     "text": [
      "Profil ligne:\n"
     ]
    },
    {
     "data": {
      "application/vnd.microsoft.datawrangler.viewer.v0+json": {
       "columns": [
        {
         "name": "index",
         "rawType": "object",
         "type": "string"
        },
        {
         "name": "FS01",
         "rawType": "float64",
         "type": "float"
        },
        {
         "name": "FS02",
         "rawType": "float64",
         "type": "float"
        },
        {
         "name": "FS03",
         "rawType": "float64",
         "type": "float"
        },
        {
         "name": "FS04",
         "rawType": "float64",
         "type": "float"
        },
        {
         "name": "FS05",
         "rawType": "float64",
         "type": "float"
        },
        {
         "name": "FS06",
         "rawType": "float64",
         "type": "float"
        },
        {
         "name": "FS07",
         "rawType": "float64",
         "type": "float"
        },
        {
         "name": "FS08",
         "rawType": "float64",
         "type": "float"
        },
        {
         "name": "FS09",
         "rawType": "float64",
         "type": "float"
        },
        {
         "name": "FS10",
         "rawType": "float64",
         "type": "float"
        },
        {
         "name": "FS11",
         "rawType": "float64",
         "type": "float"
        }
       ],
       "conversionMethod": "pd.DataFrame",
       "ref": "b8b2a65a-1a6e-40b9-a631-8e3bd1e20252",
       "rows": [
        [
         "C1",
         "0.16440150646798757",
         "0.13689209104306532",
         "0.12248239724905846",
         "0.10283281480268544",
         "0.05207139348288849",
         "0.06844604552153266",
         "0.09939413787457016",
         "0.04372032094317996",
         "0.11724250859669232",
         "0.04519403962665793",
         "0.04732274439168168"
        ],
        [
         "C2",
         "0.1802510773842983",
         "0.1575791643245269",
         "0.1380925613640622",
         "0.08956342514521266",
         "0.05602398351133596",
         "0.060146149522203485",
         "0.10436574854787334",
         "0.02848041971144838",
         "0.10399100618324901",
         "0.04178377365561177",
         "0.039722690650178"
        ],
        [
         "C3",
         "0.189634391321816",
         "0.16191241462434713",
         "0.11470470068300523",
         "0.14262756126958617",
         "0.07432703897147448",
         "0.034752912816392124",
         "0.05142627561269586",
         "0.054841301727601446",
         "0.07713941341904379",
         "0.04700683005222981",
         "0.051627159501807955"
        ],
        [
         "C4",
         "0.1354121553341995",
         "0.2028295077234012",
         "0.21437851883932438",
         "0.14248592464270246",
         "0.057600692940666956",
         "0.026851450844521438",
         "0.04879457196477552",
         "0.0230980222318464",
         "0.08069871517251336",
         "0.030604879457196477",
         "0.03724556084885232"
        ],
        [
         "C5",
         "0.202170188463735",
         "0.1529126213592233",
         "0.14063392347230155",
         "0.10394060536836093",
         "0.05168475157053112",
         "0.043118218161050825",
         "0.08123929183323815",
         "0.03712164477441462",
         "0.09822958309537407",
         "0.04511707595659623",
         "0.04383209594517418"
        ],
        [
         "C6",
         "0.1676225234619395",
         "0.1545881126173097",
         "0.1392075078206465",
         "0.11861313868613138",
         "0.06126173096976017",
         "0.043795620437956206",
         "0.07194994786235662",
         "0.055526590198123046",
         "0.09228362877997914",
         "0.04744525547445255",
         "0.04770594369134515"
        ]
       ],
       "shape": {
        "columns": 11,
        "rows": 6
       }
      },
      "text/html": [
       "<div>\n",
       "<style scoped>\n",
       "    .dataframe tbody tr th:only-of-type {\n",
       "        vertical-align: middle;\n",
       "    }\n",
       "\n",
       "    .dataframe tbody tr th {\n",
       "        vertical-align: top;\n",
       "    }\n",
       "\n",
       "    .dataframe thead th {\n",
       "        text-align: right;\n",
       "    }\n",
       "</style>\n",
       "<table border=\"1\" class=\"dataframe\">\n",
       "  <thead>\n",
       "    <tr style=\"text-align: right;\">\n",
       "      <th></th>\n",
       "      <th>FS01</th>\n",
       "      <th>FS02</th>\n",
       "      <th>FS03</th>\n",
       "      <th>FS04</th>\n",
       "      <th>FS05</th>\n",
       "      <th>FS06</th>\n",
       "      <th>FS07</th>\n",
       "      <th>FS08</th>\n",
       "      <th>FS09</th>\n",
       "      <th>FS10</th>\n",
       "      <th>FS11</th>\n",
       "    </tr>\n",
       "  </thead>\n",
       "  <tbody>\n",
       "    <tr>\n",
       "      <th>C1</th>\n",
       "      <td>0.164402</td>\n",
       "      <td>0.136892</td>\n",
       "      <td>0.122482</td>\n",
       "      <td>0.102833</td>\n",
       "      <td>0.052071</td>\n",
       "      <td>0.068446</td>\n",
       "      <td>0.099394</td>\n",
       "      <td>0.043720</td>\n",
       "      <td>0.117243</td>\n",
       "      <td>0.045194</td>\n",
       "      <td>0.047323</td>\n",
       "    </tr>\n",
       "    <tr>\n",
       "      <th>C2</th>\n",
       "      <td>0.180251</td>\n",
       "      <td>0.157579</td>\n",
       "      <td>0.138093</td>\n",
       "      <td>0.089563</td>\n",
       "      <td>0.056024</td>\n",
       "      <td>0.060146</td>\n",
       "      <td>0.104366</td>\n",
       "      <td>0.028480</td>\n",
       "      <td>0.103991</td>\n",
       "      <td>0.041784</td>\n",
       "      <td>0.039723</td>\n",
       "    </tr>\n",
       "    <tr>\n",
       "      <th>C3</th>\n",
       "      <td>0.189634</td>\n",
       "      <td>0.161912</td>\n",
       "      <td>0.114705</td>\n",
       "      <td>0.142628</td>\n",
       "      <td>0.074327</td>\n",
       "      <td>0.034753</td>\n",
       "      <td>0.051426</td>\n",
       "      <td>0.054841</td>\n",
       "      <td>0.077139</td>\n",
       "      <td>0.047007</td>\n",
       "      <td>0.051627</td>\n",
       "    </tr>\n",
       "    <tr>\n",
       "      <th>C4</th>\n",
       "      <td>0.135412</td>\n",
       "      <td>0.202830</td>\n",
       "      <td>0.214379</td>\n",
       "      <td>0.142486</td>\n",
       "      <td>0.057601</td>\n",
       "      <td>0.026851</td>\n",
       "      <td>0.048795</td>\n",
       "      <td>0.023098</td>\n",
       "      <td>0.080699</td>\n",
       "      <td>0.030605</td>\n",
       "      <td>0.037246</td>\n",
       "    </tr>\n",
       "    <tr>\n",
       "      <th>C5</th>\n",
       "      <td>0.202170</td>\n",
       "      <td>0.152913</td>\n",
       "      <td>0.140634</td>\n",
       "      <td>0.103941</td>\n",
       "      <td>0.051685</td>\n",
       "      <td>0.043118</td>\n",
       "      <td>0.081239</td>\n",
       "      <td>0.037122</td>\n",
       "      <td>0.098230</td>\n",
       "      <td>0.045117</td>\n",
       "      <td>0.043832</td>\n",
       "    </tr>\n",
       "    <tr>\n",
       "      <th>C6</th>\n",
       "      <td>0.167623</td>\n",
       "      <td>0.154588</td>\n",
       "      <td>0.139208</td>\n",
       "      <td>0.118613</td>\n",
       "      <td>0.061262</td>\n",
       "      <td>0.043796</td>\n",
       "      <td>0.071950</td>\n",
       "      <td>0.055527</td>\n",
       "      <td>0.092284</td>\n",
       "      <td>0.047445</td>\n",
       "      <td>0.047706</td>\n",
       "    </tr>\n",
       "  </tbody>\n",
       "</table>\n",
       "</div>"
      ],
      "text/plain": [
       "        FS01      FS02      FS03      FS04      FS05      FS06      FS07  \\\n",
       "C1  0.164402  0.136892  0.122482  0.102833  0.052071  0.068446  0.099394   \n",
       "C2  0.180251  0.157579  0.138093  0.089563  0.056024  0.060146  0.104366   \n",
       "C3  0.189634  0.161912  0.114705  0.142628  0.074327  0.034753  0.051426   \n",
       "C4  0.135412  0.202830  0.214379  0.142486  0.057601  0.026851  0.048795   \n",
       "C5  0.202170  0.152913  0.140634  0.103941  0.051685  0.043118  0.081239   \n",
       "C6  0.167623  0.154588  0.139208  0.118613  0.061262  0.043796  0.071950   \n",
       "\n",
       "        FS08      FS09      FS10      FS11  \n",
       "C1  0.043720  0.117243  0.045194  0.047323  \n",
       "C2  0.028480  0.103991  0.041784  0.039723  \n",
       "C3  0.054841  0.077139  0.047007  0.051627  \n",
       "C4  0.023098  0.080699  0.030605  0.037246  \n",
       "C5  0.037122  0.098230  0.045117  0.043832  \n",
       "C6  0.055527  0.092284  0.047445  0.047706  "
      ]
     },
     "metadata": {},
     "output_type": "display_data"
    }
   ],
   "source": [
    "row_sum = np.sum(X, axis=1)\n",
    "row_profile = X / row_sum[:, np.newaxis]\n",
    "\n",
    "print(\"Profil ligne:\")\n",
    "display(pd.DataFrame(row_profile, index=row_names, columns=col_names))"
   ]
  },
  {
   "cell_type": "code",
   "execution_count": 7,
   "id": "a8a3395b",
   "metadata": {},
   "outputs": [
    {
     "name": "stdout",
     "output_type": "stream",
     "text": [
      "Profil colonne:\n"
     ]
    },
    {
     "data": {
      "application/vnd.microsoft.datawrangler.viewer.v0+json": {
       "columns": [
        {
         "name": "index",
         "rawType": "object",
         "type": "string"
        },
        {
         "name": "FS01",
         "rawType": "float64",
         "type": "float"
        },
        {
         "name": "FS02",
         "rawType": "float64",
         "type": "float"
        },
        {
         "name": "FS03",
         "rawType": "float64",
         "type": "float"
        },
        {
         "name": "FS04",
         "rawType": "float64",
         "type": "float"
        },
        {
         "name": "FS05",
         "rawType": "float64",
         "type": "float"
        },
        {
         "name": "FS06",
         "rawType": "float64",
         "type": "float"
        },
        {
         "name": "FS07",
         "rawType": "float64",
         "type": "float"
        },
        {
         "name": "FS08",
         "rawType": "float64",
         "type": "float"
        },
        {
         "name": "FS09",
         "rawType": "float64",
         "type": "float"
        },
        {
         "name": "FS10",
         "rawType": "float64",
         "type": "float"
        },
        {
         "name": "FS11",
         "rawType": "float64",
         "type": "float"
        }
       ],
       "conversionMethod": "pd.DataFrame",
       "ref": "41b15dec-36ed-4a5f-8ab5-7d8f3680602a",
       "rows": [
        [
         "C1",
         "0.16996783477230404",
         "0.1505763688760807",
         "0.14782608695652175",
         "0.15755143000501756",
         "0.16036308623298035",
         "0.26658163265306123",
         "0.23319247022666154",
         "0.20150943396226415",
         "0.2199017199017199",
         "0.19126819126819128",
         "0.19189907038512616"
        ],
        [
         "C2",
         "0.1628576265447774",
         "0.15147694524495678",
         "0.14565217391304347",
         "0.11991971901655796",
         "0.1507816439737771",
         "0.20471938775510204",
         "0.2139838647714176",
         "0.11471698113207547",
         "0.17045454545454544",
         "0.15453915453915454",
         "0.1407702523240372"
        ],
        [
         "C3",
         "0.15981039444726597",
         "0.1451729106628242",
         "0.11284584980237154",
         "0.17812343201204214",
         "0.18658598083711547",
         "0.11033163265306123",
         "0.09834805993084902",
         "0.2060377358490566",
         "0.11793611793611794",
         "0.16216216216216217",
         "0.17065073041168657"
        ],
        [
         "C4",
         "0.15879465041476215",
         "0.25306195965417866",
         "0.29347826086956524",
         "0.24761665830406424",
         "0.20121028744326777",
         "0.11862244897959184",
         "0.1298501728774491",
         "0.12075471698113208",
         "0.17168304668304668",
         "0.1469161469161469",
         "0.17131474103585656"
        ],
        [
         "C5",
         "0.23971559167089893",
         "0.1929034582132565",
         "0.19466403162055335",
         "0.1826392373306573",
         "0.18255168935955624",
         "0.19260204081632654",
         "0.21859393008067615",
         "0.19622641509433963",
         "0.2113022113022113",
         "0.218988218988219",
         "0.20385126162018594"
        ],
        [
         "C6",
         "0.10885390214999154",
         "0.10680835734870317",
         "0.10553359683794467",
         "0.11414952333166081",
         "0.11850731215330308",
         "0.10714285714285714",
         "0.1060315021129466",
         "0.16075471698113208",
         "0.10872235872235872",
         "0.12612612612612611",
         "0.12151394422310757"
        ]
       ],
       "shape": {
        "columns": 11,
        "rows": 6
       }
      },
      "text/html": [
       "<div>\n",
       "<style scoped>\n",
       "    .dataframe tbody tr th:only-of-type {\n",
       "        vertical-align: middle;\n",
       "    }\n",
       "\n",
       "    .dataframe tbody tr th {\n",
       "        vertical-align: top;\n",
       "    }\n",
       "\n",
       "    .dataframe thead th {\n",
       "        text-align: right;\n",
       "    }\n",
       "</style>\n",
       "<table border=\"1\" class=\"dataframe\">\n",
       "  <thead>\n",
       "    <tr style=\"text-align: right;\">\n",
       "      <th></th>\n",
       "      <th>FS01</th>\n",
       "      <th>FS02</th>\n",
       "      <th>FS03</th>\n",
       "      <th>FS04</th>\n",
       "      <th>FS05</th>\n",
       "      <th>FS06</th>\n",
       "      <th>FS07</th>\n",
       "      <th>FS08</th>\n",
       "      <th>FS09</th>\n",
       "      <th>FS10</th>\n",
       "      <th>FS11</th>\n",
       "    </tr>\n",
       "  </thead>\n",
       "  <tbody>\n",
       "    <tr>\n",
       "      <th>C1</th>\n",
       "      <td>0.169968</td>\n",
       "      <td>0.150576</td>\n",
       "      <td>0.147826</td>\n",
       "      <td>0.157551</td>\n",
       "      <td>0.160363</td>\n",
       "      <td>0.266582</td>\n",
       "      <td>0.233192</td>\n",
       "      <td>0.201509</td>\n",
       "      <td>0.219902</td>\n",
       "      <td>0.191268</td>\n",
       "      <td>0.191899</td>\n",
       "    </tr>\n",
       "    <tr>\n",
       "      <th>C2</th>\n",
       "      <td>0.162858</td>\n",
       "      <td>0.151477</td>\n",
       "      <td>0.145652</td>\n",
       "      <td>0.119920</td>\n",
       "      <td>0.150782</td>\n",
       "      <td>0.204719</td>\n",
       "      <td>0.213984</td>\n",
       "      <td>0.114717</td>\n",
       "      <td>0.170455</td>\n",
       "      <td>0.154539</td>\n",
       "      <td>0.140770</td>\n",
       "    </tr>\n",
       "    <tr>\n",
       "      <th>C3</th>\n",
       "      <td>0.159810</td>\n",
       "      <td>0.145173</td>\n",
       "      <td>0.112846</td>\n",
       "      <td>0.178123</td>\n",
       "      <td>0.186586</td>\n",
       "      <td>0.110332</td>\n",
       "      <td>0.098348</td>\n",
       "      <td>0.206038</td>\n",
       "      <td>0.117936</td>\n",
       "      <td>0.162162</td>\n",
       "      <td>0.170651</td>\n",
       "    </tr>\n",
       "    <tr>\n",
       "      <th>C4</th>\n",
       "      <td>0.158795</td>\n",
       "      <td>0.253062</td>\n",
       "      <td>0.293478</td>\n",
       "      <td>0.247617</td>\n",
       "      <td>0.201210</td>\n",
       "      <td>0.118622</td>\n",
       "      <td>0.129850</td>\n",
       "      <td>0.120755</td>\n",
       "      <td>0.171683</td>\n",
       "      <td>0.146916</td>\n",
       "      <td>0.171315</td>\n",
       "    </tr>\n",
       "    <tr>\n",
       "      <th>C5</th>\n",
       "      <td>0.239716</td>\n",
       "      <td>0.192903</td>\n",
       "      <td>0.194664</td>\n",
       "      <td>0.182639</td>\n",
       "      <td>0.182552</td>\n",
       "      <td>0.192602</td>\n",
       "      <td>0.218594</td>\n",
       "      <td>0.196226</td>\n",
       "      <td>0.211302</td>\n",
       "      <td>0.218988</td>\n",
       "      <td>0.203851</td>\n",
       "    </tr>\n",
       "    <tr>\n",
       "      <th>C6</th>\n",
       "      <td>0.108854</td>\n",
       "      <td>0.106808</td>\n",
       "      <td>0.105534</td>\n",
       "      <td>0.114150</td>\n",
       "      <td>0.118507</td>\n",
       "      <td>0.107143</td>\n",
       "      <td>0.106032</td>\n",
       "      <td>0.160755</td>\n",
       "      <td>0.108722</td>\n",
       "      <td>0.126126</td>\n",
       "      <td>0.121514</td>\n",
       "    </tr>\n",
       "  </tbody>\n",
       "</table>\n",
       "</div>"
      ],
      "text/plain": [
       "        FS01      FS02      FS03      FS04      FS05      FS06      FS07  \\\n",
       "C1  0.169968  0.150576  0.147826  0.157551  0.160363  0.266582  0.233192   \n",
       "C2  0.162858  0.151477  0.145652  0.119920  0.150782  0.204719  0.213984   \n",
       "C3  0.159810  0.145173  0.112846  0.178123  0.186586  0.110332  0.098348   \n",
       "C4  0.158795  0.253062  0.293478  0.247617  0.201210  0.118622  0.129850   \n",
       "C5  0.239716  0.192903  0.194664  0.182639  0.182552  0.192602  0.218594   \n",
       "C6  0.108854  0.106808  0.105534  0.114150  0.118507  0.107143  0.106032   \n",
       "\n",
       "        FS08      FS09      FS10      FS11  \n",
       "C1  0.201509  0.219902  0.191268  0.191899  \n",
       "C2  0.114717  0.170455  0.154539  0.140770  \n",
       "C3  0.206038  0.117936  0.162162  0.170651  \n",
       "C4  0.120755  0.171683  0.146916  0.171315  \n",
       "C5  0.196226  0.211302  0.218988  0.203851  \n",
       "C6  0.160755  0.108722  0.126126  0.121514  "
      ]
     },
     "metadata": {},
     "output_type": "display_data"
    }
   ],
   "source": [
    "col_sum = np.sum(X, axis=0)\n",
    "col_profile = X / col_sum[np.newaxis, :]\n",
    "\n",
    "print(\"Profil colonne:\")\n",
    "display(pd.DataFrame(col_profile, index=row_names, columns=col_names))"
   ]
  },
  {
   "cell_type": "code",
   "execution_count": 8,
   "id": "0a9d1540",
   "metadata": {},
   "outputs": [
    {
     "data": {
      "image/png": "[encoded data removed]",
      "text/plain": [
       "<Figure size 1000x600 with 1 Axes>"
      ]
     },
     "metadata": {},
     "output_type": "display_data"
    }
   ],
   "source": [
    "total_FS = data_pt[col_names].sum()\n",
    "\n",
    "prop_FS = total_FS\n",
    "prop_FS = prop_FS.sort_values(ascending=False)\n",
    "\n",
    "fig, ax = plt.subplots(figsize=(10,6))\n",
    "ax.bar(prop_FS.index, prop_FS)\n",
    "\n",
    "plt.show()"
   ]
  },
  {
   "cell_type": "code",
   "execution_count": 9,
   "id": "0c1763f2",
   "metadata": {},
   "outputs": [
    {
     "data": {
      "image/png": "[encoded data removed]",
      "text/plain": [
       "<Figure size 1000x600 with 1 Axes>"
      ]
     },
     "metadata": {},
     "output_type": "display_data"
    }
   ],
   "source": [
    "total_skill = data_pt[col_names].sum()\n",
    "\n",
    "prop_FS = total_FS / total_FS.sum()\n",
    "prop_FS = prop_FS.sort_values(ascending=False)\n",
    "\n",
    "fig, ax = plt.subplots(figsize=(10,6))\n",
    "ax.bar(prop_FS.index, prop_FS)\n",
    "\n",
    "plt.show()"
   ]
  },
  {
   "cell_type": "code",
   "execution_count": 10,
   "id": "414647cf",
   "metadata": {},
   "outputs": [
    {
     "data": {
      "application/vnd.microsoft.datawrangler.viewer.v0+json": {
       "columns": [
        {
         "name": "code",
         "rawType": "object",
         "type": "string"
        },
        {
         "name": "FS01",
         "rawType": "int64",
         "type": "integer"
        },
        {
         "name": "FS02",
         "rawType": "int64",
         "type": "integer"
        },
        {
         "name": "FS03",
         "rawType": "int64",
         "type": "integer"
        },
        {
         "name": "FS04",
         "rawType": "int64",
         "type": "integer"
        },
        {
         "name": "FS05",
         "rawType": "int64",
         "type": "integer"
        },
        {
         "name": "FS06",
         "rawType": "int64",
         "type": "integer"
        },
        {
         "name": "FS07",
         "rawType": "int64",
         "type": "integer"
        },
        {
         "name": "FS08",
         "rawType": "int64",
         "type": "integer"
        },
        {
         "name": "FS09",
         "rawType": "int64",
         "type": "integer"
        },
        {
         "name": "FS10",
         "rawType": "int64",
         "type": "integer"
        },
        {
         "name": "FS11",
         "rawType": "int64",
         "type": "integer"
        }
       ],
       "conversionMethod": "pd.DataFrame",
       "ref": "1d3f1796-396d-458a-bb41-ff44573992fc",
       "rows": [
        [
         "C1",
         "1004",
         "836",
         "748",
         "628",
         "318",
         "418",
         "607",
         "267",
         "716",
         "276",
         "289"
        ],
        [
         "C2",
         "962",
         "841",
         "737",
         "478",
         "299",
         "321",
         "557",
         "152",
         "555",
         "223",
         "212"
        ],
        [
         "C3",
         "944",
         "806",
         "571",
         "710",
         "370",
         "173",
         "256",
         "273",
         "384",
         "234",
         "257"
        ],
        [
         "C4",
         "938",
         "1405",
         "1485",
         "987",
         "399",
         "186",
         "338",
         "160",
         "559",
         "212",
         "258"
        ],
        [
         "C5",
         "1416",
         "1071",
         "985",
         "728",
         "362",
         "302",
         "569",
         "260",
         "688",
         "316",
         "307"
        ],
        [
         "C6",
         "643",
         "593",
         "534",
         "455",
         "235",
         "168",
         "276",
         "213",
         "354",
         "182",
         "183"
        ]
       ],
       "shape": {
        "columns": 11,
        "rows": 6
       }
      },
      "text/html": [
       "<div>\n",
       "<style scoped>\n",
       "    .dataframe tbody tr th:only-of-type {\n",
       "        vertical-align: middle;\n",
       "    }\n",
       "\n",
       "    .dataframe tbody tr th {\n",
       "        vertical-align: top;\n",
       "    }\n",
       "\n",
       "    .dataframe thead th {\n",
       "        text-align: right;\n",
       "    }\n",
       "</style>\n",
       "<table border=\"1\" class=\"dataframe\">\n",
       "  <thead>\n",
       "    <tr style=\"text-align: right;\">\n",
       "      <th>code.2</th>\n",
       "      <th>FS01</th>\n",
       "      <th>FS02</th>\n",
       "      <th>FS03</th>\n",
       "      <th>FS04</th>\n",
       "      <th>FS05</th>\n",
       "      <th>FS06</th>\n",
       "      <th>FS07</th>\n",
       "      <th>FS08</th>\n",
       "      <th>FS09</th>\n",
       "      <th>FS10</th>\n",
       "      <th>FS11</th>\n",
       "    </tr>\n",
       "    <tr>\n",
       "      <th>code</th>\n",
       "      <th></th>\n",
       "      <th></th>\n",
       "      <th></th>\n",
       "      <th></th>\n",
       "      <th></th>\n",
       "      <th></th>\n",
       "      <th></th>\n",
       "      <th></th>\n",
       "      <th></th>\n",
       "      <th></th>\n",
       "      <th></th>\n",
       "    </tr>\n",
       "  </thead>\n",
       "  <tbody>\n",
       "    <tr>\n",
       "      <th>C1</th>\n",
       "      <td>1004</td>\n",
       "      <td>836</td>\n",
       "      <td>748</td>\n",
       "      <td>628</td>\n",
       "      <td>318</td>\n",
       "      <td>418</td>\n",
       "      <td>607</td>\n",
       "      <td>267</td>\n",
       "      <td>716</td>\n",
       "      <td>276</td>\n",
       "      <td>289</td>\n",
       "    </tr>\n",
       "    <tr>\n",
       "      <th>C2</th>\n",
       "      <td>962</td>\n",
       "      <td>841</td>\n",
       "      <td>737</td>\n",
       "      <td>478</td>\n",
       "      <td>299</td>\n",
       "      <td>321</td>\n",
       "      <td>557</td>\n",
       "      <td>152</td>\n",
       "      <td>555</td>\n",
       "      <td>223</td>\n",
       "      <td>212</td>\n",
       "    </tr>\n",
       "    <tr>\n",
       "      <th>C3</th>\n",
       "      <td>944</td>\n",
       "      <td>806</td>\n",
       "      <td>571</td>\n",
       "      <td>710</td>\n",
       "      <td>370</td>\n",
       "      <td>173</td>\n",
       "      <td>256</td>\n",
       "      <td>273</td>\n",
       "      <td>384</td>\n",
       "      <td>234</td>\n",
       "      <td>257</td>\n",
       "    </tr>\n",
       "    <tr>\n",
       "      <th>C4</th>\n",
       "      <td>938</td>\n",
       "      <td>1405</td>\n",
       "      <td>1485</td>\n",
       "      <td>987</td>\n",
       "      <td>399</td>\n",
       "      <td>186</td>\n",
       "      <td>338</td>\n",
       "      <td>160</td>\n",
       "      <td>559</td>\n",
       "      <td>212</td>\n",
       "      <td>258</td>\n",
       "    </tr>\n",
       "    <tr>\n",
       "      <th>C5</th>\n",
       "      <td>1416</td>\n",
       "      <td>1071</td>\n",
       "      <td>985</td>\n",
       "      <td>728</td>\n",
       "      <td>362</td>\n",
       "      <td>302</td>\n",
       "      <td>569</td>\n",
       "      <td>260</td>\n",
       "      <td>688</td>\n",
       "      <td>316</td>\n",
       "      <td>307</td>\n",
       "    </tr>\n",
       "    <tr>\n",
       "      <th>C6</th>\n",
       "      <td>643</td>\n",
       "      <td>593</td>\n",
       "      <td>534</td>\n",
       "      <td>455</td>\n",
       "      <td>235</td>\n",
       "      <td>168</td>\n",
       "      <td>276</td>\n",
       "      <td>213</td>\n",
       "      <td>354</td>\n",
       "      <td>182</td>\n",
       "      <td>183</td>\n",
       "    </tr>\n",
       "  </tbody>\n",
       "</table>\n",
       "</div>"
      ],
      "text/plain": [
       "code.2  FS01  FS02  FS03  FS04  FS05  FS06  FS07  FS08  FS09  FS10  FS11\n",
       "code                                                                    \n",
       "C1      1004   836   748   628   318   418   607   267   716   276   289\n",
       "C2       962   841   737   478   299   321   557   152   555   223   212\n",
       "C3       944   806   571   710   370   173   256   273   384   234   257\n",
       "C4       938  1405  1485   987   399   186   338   160   559   212   258\n",
       "C5      1416  1071   985   728   362   302   569   260   688   316   307\n",
       "C6       643   593   534   455   235   168   276   213   354   182   183"
      ]
     },
     "execution_count": 10,
     "metadata": {},
     "output_type": "execute_result"
    }
   ],
   "source": [
    "data_pt"
   ]
  },
  {
   "cell_type": "code",
   "execution_count": 11,
   "id": "9ca2f3d0",
   "metadata": {},
   "outputs": [],
   "source": [
    "my_ca = CA(row_labels=data_pt.index.values, col_labels=data_pt.columns.values,stats=True)"
   ]
  },
  {
   "cell_type": "code",
   "execution_count": 12,
   "id": "4b480922",
   "metadata": {},
   "outputs": [
    {
     "data": {
      "text/html": [
       "<style>#sk-container-id-1 {color: black;background-color: white;}#sk-container-id-1 pre{padding: 0;}#sk-container-id-1 div.sk-toggleable {background-color: white;}#sk-container-id-1 label.sk-toggleable__label {cursor: pointer;display: block;width: 100%;margin-bottom: 0;padding: 0.3em;box-sizing: border-box;text-align: center;}#sk-container-id-1 label.sk-toggleable__label-arrow:before {content: \"▸\";float: left;margin-right: 0.25em;color: #696969;}#sk-container-id-1 label.sk-toggleable__label-arrow:hover:before {color: black;}#sk-container-id-1 div.sk-estimator:hover label.sk-toggleable__label-arrow:before {color: black;}#sk-container-id-1 div.sk-toggleable__content {max-height: 0;max-width: 0;overflow: hidden;text-align: left;background-color: #f0f8ff;}#sk-container-id-1 div.sk-toggleable__content pre {margin: 0.2em;color: black;border-radius: 0.25em;background-color: #f0f8ff;}#sk-container-id-1 input.sk-toggleable__control:checked~div.sk-toggleable__content {max-height: 200px;max-width: 100%;overflow: auto;}#sk-container-id-1 input.sk-toggleable__control:checked~label.sk-toggleable__label-arrow:before {content: \"▾\";}#sk-container-id-1 div.sk-estimator input.sk-toggleable__control:checked~label.sk-toggleable__label {background-color: #d4ebff;}#sk-container-id-1 div.sk-label input.sk-toggleable__control:checked~label.sk-toggleable__label {background-color: #d4ebff;}#sk-container-id-1 input.sk-hidden--visually {border: 0;clip: rect(1px 1px 1px 1px);clip: rect(1px, 1px, 1px, 1px);height: 1px;margin: -1px;overflow: hidden;padding: 0;position: absolute;width: 1px;}#sk-container-id-1 div.sk-estimator {font-family: monospace;background-color: #f0f8ff;border: 1px dotted black;border-radius: 0.25em;box-sizing: border-box;margin-bottom: 0.5em;}#sk-container-id-1 div.sk-estimator:hover {background-color: #d4ebff;}#sk-container-id-1 div.sk-parallel-item::after {content: \"\";width: 100%;border-bottom: 1px solid gray;flex-grow: 1;}#sk-container-id-1 div.sk-label:hover label.sk-toggleable__label {background-color: #d4ebff;}#sk-container-id-1 div.sk-serial::before {content: \"\";position: absolute;border-left: 1px solid gray;box-sizing: border-box;top: 0;bottom: 0;left: 50%;z-index: 0;}#sk-container-id-1 div.sk-serial {display: flex;flex-direction: column;align-items: center;background-color: white;padding-right: 0.2em;padding-left: 0.2em;position: relative;}#sk-container-id-1 div.sk-item {position: relative;z-index: 1;}#sk-container-id-1 div.sk-parallel {display: flex;align-items: stretch;justify-content: center;background-color: white;position: relative;}#sk-container-id-1 div.sk-item::before, #sk-container-id-1 div.sk-parallel-item::before {content: \"\";position: absolute;border-left: 1px solid gray;box-sizing: border-box;top: 0;bottom: 0;left: 50%;z-index: -1;}#sk-container-id-1 div.sk-parallel-item {display: flex;flex-direction: column;z-index: 1;position: relative;background-color: white;}#sk-container-id-1 div.sk-parallel-item:first-child::after {align-self: flex-end;width: 50%;}#sk-container-id-1 div.sk-parallel-item:last-child::after {align-self: flex-start;width: 50%;}#sk-container-id-1 div.sk-parallel-item:only-child::after {width: 0;}#sk-container-id-1 div.sk-dashed-wrapped {border: 1px dashed gray;margin: 0 0.4em 0.5em 0.4em;box-sizing: border-box;padding-bottom: 0.4em;background-color: white;}#sk-container-id-1 div.sk-label label {font-family: monospace;font-weight: bold;display: inline-block;line-height: 1.2em;}#sk-container-id-1 div.sk-label-container {text-align: center;}#sk-container-id-1 div.sk-container {/* jupyter's `normalize.less` sets `[hidden] { display: none; }` but bootstrap.min.css set `[hidden] { display: none !important; }` so we also need the `!important` here to be able to override the default hidden behavior on the sphinx rendered scikit-learn.org. See: https://github.com/scikit-learn/scikit-learn/issues/21755 */display: inline-block !important;position: relative;}#sk-container-id-1 div.sk-text-repr-fallback {display: none;}</style><div id=\"sk-container-id-1\" class=\"sk-top-container\"><div class=\"sk-text-repr-fallback\"><pre>CA(col_labels=array([&#x27;FS01&#x27;, &#x27;FS02&#x27;, &#x27;FS03&#x27;, &#x27;FS04&#x27;, &#x27;FS05&#x27;, &#x27;FS06&#x27;, &#x27;FS07&#x27;, &#x27;FS08&#x27;,\n",
       "       &#x27;FS09&#x27;, &#x27;FS10&#x27;, &#x27;FS11&#x27;], dtype=object),\n",
       "   row_labels=array([&#x27;C1&#x27;, &#x27;C2&#x27;, &#x27;C3&#x27;, &#x27;C4&#x27;, &#x27;C5&#x27;, &#x27;C6&#x27;], dtype=object))</pre><b>In a Jupyter environment, please rerun this cell to show the HTML representation or trust the notebook. <br />On GitHub, the HTML representation is unable to render, please try loading this page with nbviewer.org.</b></div><div class=\"sk-container\" hidden><div class=\"sk-item\"><div class=\"sk-estimator sk-toggleable\"><input class=\"sk-toggleable__control sk-hidden--visually\" id=\"sk-estimator-id-1\" type=\"checkbox\" checked><label for=\"sk-estimator-id-1\" class=\"sk-toggleable__label sk-toggleable__label-arrow\">CA</label><div class=\"sk-toggleable__content\"><pre>CA(col_labels=array([&#x27;FS01&#x27;, &#x27;FS02&#x27;, &#x27;FS03&#x27;, &#x27;FS04&#x27;, &#x27;FS05&#x27;, &#x27;FS06&#x27;, &#x27;FS07&#x27;, &#x27;FS08&#x27;,\n",
       "       &#x27;FS09&#x27;, &#x27;FS10&#x27;, &#x27;FS11&#x27;], dtype=object),\n",
       "   row_labels=array([&#x27;C1&#x27;, &#x27;C2&#x27;, &#x27;C3&#x27;, &#x27;C4&#x27;, &#x27;C5&#x27;, &#x27;C6&#x27;], dtype=object))</pre></div></div></div></div></div>"
      ],
      "text/plain": [
       "CA(col_labels=array(['FS01', 'FS02', 'FS03', 'FS04', 'FS05', 'FS06', 'FS07', 'FS08',\n",
       "       'FS09', 'FS10', 'FS11'], dtype=object),\n",
       "   row_labels=array(['C1', 'C2', 'C3', 'C4', 'C5', 'C6'], dtype=object))"
      ]
     },
     "execution_count": 12,
     "metadata": {},
     "output_type": "execute_result"
    }
   ],
   "source": [
    "my_ca.fit(data_pt.values)\n"
   ]
  },
  {
   "cell_type": "code",
   "execution_count": 13,
   "id": "dacb9ccf",
   "metadata": {},
   "outputs": [
    {
     "data": {
      "text/plain": [
       "array([[2.39409187e-02, 9.50991120e-03, 2.23951274e-03, 6.21508581e-04,\n",
       "        2.52672198e-04],\n",
       "       [6.54758123e+01, 2.60085742e+01, 6.12482410e+00, 1.69975846e+00,\n",
       "        6.91031016e-01],\n",
       "       [6.54758123e+01, 9.14843864e+01, 9.76092105e+01, 9.93089690e+01,\n",
       "        1.00000000e+02]])"
      ]
     },
     "execution_count": 13,
     "metadata": {},
     "output_type": "execute_result"
    }
   ],
   "source": [
    "my_ca.eig_"
   ]
  },
  {
   "cell_type": "code",
   "execution_count": 14,
   "id": "8ea9f53c",
   "metadata": {},
   "outputs": [
    {
     "data": {
      "image/png": "[encoded data removed]",
      "text/plain": [
       "<Figure size 640x480 with 1 Axes>"
      ]
     },
     "metadata": {},
     "output_type": "display_data"
    }
   ],
   "source": [
    "# Graphique des valeurs propres\n",
    "my_ca.plot_eigenvalues(type=\"percentage\")"
   ]
  },
  {
   "cell_type": "code",
   "execution_count": 15,
   "id": "187e6d11",
   "metadata": {},
   "outputs": [
    {
     "data": {
      "image/png": "[encoded data removed]",
      "text/plain": [
       "<Figure size 640x480 with 1 Axes>"
      ]
     },
     "metadata": {},
     "output_type": "display_data"
    }
   ],
   "source": [
    "my_ca.plot_eigenvalues(type=\"cumulative\")\n"
   ]
  },
  {
   "cell_type": "code",
   "execution_count": 16,
   "id": "a0c85a3b",
   "metadata": {},
   "outputs": [
    {
     "name": "stdout",
     "output_type": "stream",
     "text": [
      "Premier axe factoriel\n"
     ]
    },
    {
     "data": {
      "image/png": "[encoded data removed]",
      "text/plain": [
       "<Figure size 640x480 with 1 Axes>"
      ]
     },
     "metadata": {},
     "output_type": "display_data"
    },
    {
     "name": "stdout",
     "output_type": "stream",
     "text": [
      "Second axe factoriel\n"
     ]
    },
    {
     "data": {
      "image/png": "[encoded data removed]",
      "text/plain": [
       "<Figure size 640x480 with 1 Axes>"
      ]
     },
     "metadata": {},
     "output_type": "display_data"
    }
   ],
   "source": [
    "# Classement des points colonnes en fonction de leur contribution au 1er axe\n",
    "print(\"Premier axe factoriel\")\n",
    "my_ca.plot_row_cos2(num_axis=1)\n",
    "print(\"Second axe factoriel\")\n",
    "my_ca.plot_row_cos2(num_axis=2)"
   ]
  },
  {
   "cell_type": "code",
   "execution_count": 17,
   "id": "6dc2b22c",
   "metadata": {},
   "outputs": [
    {
     "name": "stdout",
     "output_type": "stream",
     "text": [
      "Premier axe factoriel\n"
     ]
    },
    {
     "data": {
      "image/png": "[encoded data removed]",
      "text/plain": [
       "<Figure size 640x480 with 1 Axes>"
      ]
     },
     "metadata": {},
     "output_type": "display_data"
    },
    {
     "name": "stdout",
     "output_type": "stream",
     "text": [
      "Second axe factoriel\n"
     ]
    },
    {
     "data": {
      "image/png": "[encoded data removed]",
      "text/plain": [
       "<Figure size 640x480 with 1 Axes>"
      ]
     },
     "metadata": {},
     "output_type": "display_data"
    }
   ],
   "source": [
    "#### Profil colonne (les Candidats)\n",
    "\n",
    "print(\"Premier axe factoriel\")\n",
    "my_ca.plot_col_cos2(num_axis=1)\n",
    "print(\"Second axe factoriel\")\n",
    "my_ca.plot_col_cos2(num_axis=2)"
   ]
  },
  {
   "cell_type": "code",
   "execution_count": 18,
   "id": "8fdc9537",
   "metadata": {},
   "outputs": [
    {
     "name": "stdout",
     "output_type": "stream",
     "text": [
      "Premier axe\n"
     ]
    },
    {
     "data": {
      "image/png": "[encoded data removed]",
      "text/plain": [
       "<Figure size 640x480 with 1 Axes>"
      ]
     },
     "metadata": {},
     "output_type": "display_data"
    },
    {
     "name": "stdout",
     "output_type": "stream",
     "text": [
      "Second axe\n"
     ]
    },
    {
     "data": {
      "image/png": "[encoded data removed]",
      "text/plain": [
       "<Figure size 640x480 with 1 Axes>"
      ]
     },
     "metadata": {},
     "output_type": "display_data"
    }
   ],
   "source": [
    "# Analyse  du premier plan factoriel - les départements\n",
    "print(\"Premier axe\")\n",
    "my_ca.plot_row_contrib(num_axis=1)\n",
    "print(\"Second axe\")\n",
    "my_ca.plot_row_contrib(num_axis=2)"
   ]
  },
  {
   "cell_type": "code",
   "execution_count": 19,
   "id": "d9f1c5d7",
   "metadata": {},
   "outputs": [
    {
     "name": "stdout",
     "output_type": "stream",
     "text": [
      "Premier axe\n"
     ]
    },
    {
     "data": {
      "image/png": "[encoded data removed]",
      "text/plain": [
       "<Figure size 640x480 with 1 Axes>"
      ]
     },
     "metadata": {},
     "output_type": "display_data"
    },
    {
     "name": "stdout",
     "output_type": "stream",
     "text": [
      "Second axe\n"
     ]
    },
    {
     "data": {
      "image/png": "[encoded data removed]",
      "text/plain": [
       "<Figure size 640x480 with 1 Axes>"
      ]
     },
     "metadata": {},
     "output_type": "display_data"
    }
   ],
   "source": [
    "# Analyse  du premier plan factoriel - les départements\n",
    "print(\"Premier axe\")\n",
    "my_ca.plot_col_contrib(num_axis=1)\n",
    "print(\"Second axe\")\n",
    "my_ca.plot_col_contrib(num_axis=2)"
   ]
  },
  {
   "cell_type": "code",
   "execution_count": 20,
   "id": "bbe077b1",
   "metadata": {},
   "outputs": [
    {
     "data": {
      "application/vnd.microsoft.datawrangler.viewer.v0+json": {
       "columns": [
        {
         "name": "index",
         "rawType": "object",
         "type": "string"
        },
        {
         "name": "row_coord_dim1",
         "rawType": "float64",
         "type": "float"
        },
        {
         "name": "row_coord_dim2",
         "rawType": "float64",
         "type": "float"
        },
        {
         "name": "row_coord_dim3",
         "rawType": "float64",
         "type": "float"
        },
        {
         "name": "row_coord_dim4",
         "rawType": "float64",
         "type": "float"
        },
        {
         "name": "row_coord_dim5",
         "rawType": "float64",
         "type": "float"
        },
        {
         "name": "row_contrib_dim1",
         "rawType": "float64",
         "type": "float"
        },
        {
         "name": "row_contrib_dim2",
         "rawType": "float64",
         "type": "float"
        },
        {
         "name": "row_contrib_dim3",
         "rawType": "float64",
         "type": "float"
        },
        {
         "name": "row_contrib_dim4",
         "rawType": "float64",
         "type": "float"
        },
        {
         "name": "row_contrib_dim5",
         "rawType": "float64",
         "type": "float"
        },
        {
         "name": "row_cos2_dim1",
         "rawType": "float64",
         "type": "float"
        },
        {
         "name": "row_cos2_dim2",
         "rawType": "float64",
         "type": "float"
        },
        {
         "name": "row_cos2_dim3",
         "rawType": "float64",
         "type": "float"
        },
        {
         "name": "row_cos2_dim4",
         "rawType": "float64",
         "type": "float"
        },
        {
         "name": "row_cos2_dim5",
         "rawType": "float64",
         "type": "float"
        }
       ],
       "conversionMethod": "pd.DataFrame",
       "ref": "c10a7ff1-d15c-4591-ad86-daf16e7fa246",
       "rows": [
        [
         "C1",
         "-0.16866493738267274",
         "0.04544692846836006",
         "-0.06790612915329566",
         "0.007042539257505727",
         "0.016319600365193306",
         "21.225128507794093",
         "3.879485507229724",
         "36.77950958621846",
         "1.4254531412133837",
         "18.827952872332745",
         "0.8026946128441658",
         "0.058278692938525944",
         "0.13011239758560914",
         "0.0013994561099958042",
         "0.007514840521703529"
        ],
        [
         "C2",
         "-0.11432120435336234",
         "0.10337684236459906",
         "0.02874057017828681",
         "-0.03897949379978753",
         "-0.015270145400143932",
         "8.521647673426495",
         "17.542071152086834",
         "5.757686657575937",
         "38.16243388328683",
         "14.405876624147226",
         "0.4962780596538425",
         "0.40580558387326043",
         "0.031366224969188686",
         "0.057695757992080494",
         "0.008854373511628303"
        ],
        [
         "C3",
         "0.02768787537768104",
         "-0.2014336512018343",
         "0.0012428743484325373",
         "-0.02856670532639679",
         "0.008036781770907341",
         "0.466237224650464",
         "62.12352384009472",
         "0.01004313743053555",
         "19.117965536444125",
         "3.7219915881227146",
         "0.01815584815856778",
         "0.960951189313309",
         "3.658404548996724e-05",
         "0.019326694812813572",
         "0.0015296836698198485"
        ],
        [
         "C4",
         "0.28174876840765967",
         "0.06744912881880209",
         "-0.01468506070433483",
         "-7.666495798714631e-05",
         "0.003378208112606785",
         "67.18031406226508",
         "9.692482314191366",
         "1.9509976386336652",
         "0.0001916043937805601",
         "0.915111751015414",
         "0.9432447602842396",
         "0.054057136673209445",
         "0.0025624290014000027",
         "6.983837936276042e-08",
         "0.00013560420277173492"
        ],
        [
         "C5",
         "-0.05315378089441855",
         "-0.0004773455327470537",
         "0.07233493415713699",
         "0.027028711184148096",
         "0.007971535507518385",
         "2.417615607357252",
         "0.0004908502345281031",
         "47.86327177631699",
         "24.08037716606826",
         "5.152123332948779",
         "0.31917387123543917",
         "2.5740959575187112e-05",
         "0.591092145461427",
         "0.0825295890750867",
         "0.007178653268472155"
        ],
        [
         "C6",
         "-0.020084942850774307",
         "-0.07570559733834482",
         "-0.039046711195645574",
         "0.030878987306800016",
         "-0.03582054623981495",
         "0.18905692450667386",
         "6.761946336162855",
         "7.638491203824459",
         "17.213578668593605",
         "56.97694383143311",
         "0.040764396004108874",
         "0.5791563097350233",
         "0.15406668272323665",
         "0.09635314819479872",
         "0.12965946334283243"
        ]
       ],
       "shape": {
        "columns": 15,
        "rows": 6
       }
      },
      "text/html": [
       "<div>\n",
       "<style scoped>\n",
       "    .dataframe tbody tr th:only-of-type {\n",
       "        vertical-align: middle;\n",
       "    }\n",
       "\n",
       "    .dataframe tbody tr th {\n",
       "        vertical-align: top;\n",
       "    }\n",
       "\n",
       "    .dataframe thead th {\n",
       "        text-align: right;\n",
       "    }\n",
       "</style>\n",
       "<table border=\"1\" class=\"dataframe\">\n",
       "  <thead>\n",
       "    <tr style=\"text-align: right;\">\n",
       "      <th></th>\n",
       "      <th>row_coord_dim1</th>\n",
       "      <th>row_coord_dim2</th>\n",
       "      <th>row_coord_dim3</th>\n",
       "      <th>row_coord_dim4</th>\n",
       "      <th>row_coord_dim5</th>\n",
       "      <th>row_contrib_dim1</th>\n",
       "      <th>row_contrib_dim2</th>\n",
       "      <th>row_contrib_dim3</th>\n",
       "      <th>row_contrib_dim4</th>\n",
       "      <th>row_contrib_dim5</th>\n",
       "      <th>row_cos2_dim1</th>\n",
       "      <th>row_cos2_dim2</th>\n",
       "      <th>row_cos2_dim3</th>\n",
       "      <th>row_cos2_dim4</th>\n",
       "      <th>row_cos2_dim5</th>\n",
       "    </tr>\n",
       "  </thead>\n",
       "  <tbody>\n",
       "    <tr>\n",
       "      <th>C1</th>\n",
       "      <td>-0.168665</td>\n",
       "      <td>0.045447</td>\n",
       "      <td>-0.067906</td>\n",
       "      <td>0.007043</td>\n",
       "      <td>0.016320</td>\n",
       "      <td>21.225129</td>\n",
       "      <td>3.879486</td>\n",
       "      <td>36.779510</td>\n",
       "      <td>1.425453</td>\n",
       "      <td>18.827953</td>\n",
       "      <td>0.802695</td>\n",
       "      <td>0.058279</td>\n",
       "      <td>0.130112</td>\n",
       "      <td>1.399456e-03</td>\n",
       "      <td>0.007515</td>\n",
       "    </tr>\n",
       "    <tr>\n",
       "      <th>C2</th>\n",
       "      <td>-0.114321</td>\n",
       "      <td>0.103377</td>\n",
       "      <td>0.028741</td>\n",
       "      <td>-0.038979</td>\n",
       "      <td>-0.015270</td>\n",
       "      <td>8.521648</td>\n",
       "      <td>17.542071</td>\n",
       "      <td>5.757687</td>\n",
       "      <td>38.162434</td>\n",
       "      <td>14.405877</td>\n",
       "      <td>0.496278</td>\n",
       "      <td>0.405806</td>\n",
       "      <td>0.031366</td>\n",
       "      <td>5.769576e-02</td>\n",
       "      <td>0.008854</td>\n",
       "    </tr>\n",
       "    <tr>\n",
       "      <th>C3</th>\n",
       "      <td>0.027688</td>\n",
       "      <td>-0.201434</td>\n",
       "      <td>0.001243</td>\n",
       "      <td>-0.028567</td>\n",
       "      <td>0.008037</td>\n",
       "      <td>0.466237</td>\n",
       "      <td>62.123524</td>\n",
       "      <td>0.010043</td>\n",
       "      <td>19.117966</td>\n",
       "      <td>3.721992</td>\n",
       "      <td>0.018156</td>\n",
       "      <td>0.960951</td>\n",
       "      <td>0.000037</td>\n",
       "      <td>1.932669e-02</td>\n",
       "      <td>0.001530</td>\n",
       "    </tr>\n",
       "    <tr>\n",
       "      <th>C4</th>\n",
       "      <td>0.281749</td>\n",
       "      <td>0.067449</td>\n",
       "      <td>-0.014685</td>\n",
       "      <td>-0.000077</td>\n",
       "      <td>0.003378</td>\n",
       "      <td>67.180314</td>\n",
       "      <td>9.692482</td>\n",
       "      <td>1.950998</td>\n",
       "      <td>0.000192</td>\n",
       "      <td>0.915112</td>\n",
       "      <td>0.943245</td>\n",
       "      <td>0.054057</td>\n",
       "      <td>0.002562</td>\n",
       "      <td>6.983838e-08</td>\n",
       "      <td>0.000136</td>\n",
       "    </tr>\n",
       "    <tr>\n",
       "      <th>C5</th>\n",
       "      <td>-0.053154</td>\n",
       "      <td>-0.000477</td>\n",
       "      <td>0.072335</td>\n",
       "      <td>0.027029</td>\n",
       "      <td>0.007972</td>\n",
       "      <td>2.417616</td>\n",
       "      <td>0.000491</td>\n",
       "      <td>47.863272</td>\n",
       "      <td>24.080377</td>\n",
       "      <td>5.152123</td>\n",
       "      <td>0.319174</td>\n",
       "      <td>0.000026</td>\n",
       "      <td>0.591092</td>\n",
       "      <td>8.252959e-02</td>\n",
       "      <td>0.007179</td>\n",
       "    </tr>\n",
       "    <tr>\n",
       "      <th>C6</th>\n",
       "      <td>-0.020085</td>\n",
       "      <td>-0.075706</td>\n",
       "      <td>-0.039047</td>\n",
       "      <td>0.030879</td>\n",
       "      <td>-0.035821</td>\n",
       "      <td>0.189057</td>\n",
       "      <td>6.761946</td>\n",
       "      <td>7.638491</td>\n",
       "      <td>17.213579</td>\n",
       "      <td>56.976944</td>\n",
       "      <td>0.040764</td>\n",
       "      <td>0.579156</td>\n",
       "      <td>0.154067</td>\n",
       "      <td>9.635315e-02</td>\n",
       "      <td>0.129659</td>\n",
       "    </tr>\n",
       "  </tbody>\n",
       "</table>\n",
       "</div>"
      ],
      "text/plain": [
       "    row_coord_dim1  row_coord_dim2  row_coord_dim3  row_coord_dim4  \\\n",
       "C1       -0.168665        0.045447       -0.067906        0.007043   \n",
       "C2       -0.114321        0.103377        0.028741       -0.038979   \n",
       "C3        0.027688       -0.201434        0.001243       -0.028567   \n",
       "C4        0.281749        0.067449       -0.014685       -0.000077   \n",
       "C5       -0.053154       -0.000477        0.072335        0.027029   \n",
       "C6       -0.020085       -0.075706       -0.039047        0.030879   \n",
       "\n",
       "    row_coord_dim5  row_contrib_dim1  row_contrib_dim2  row_contrib_dim3  \\\n",
       "C1        0.016320         21.225129          3.879486         36.779510   \n",
       "C2       -0.015270          8.521648         17.542071          5.757687   \n",
       "C3        0.008037          0.466237         62.123524          0.010043   \n",
       "C4        0.003378         67.180314          9.692482          1.950998   \n",
       "C5        0.007972          2.417616          0.000491         47.863272   \n",
       "C6       -0.035821          0.189057          6.761946          7.638491   \n",
       "\n",
       "    row_contrib_dim4  row_contrib_dim5  row_cos2_dim1  row_cos2_dim2  \\\n",
       "C1          1.425453         18.827953       0.802695       0.058279   \n",
       "C2         38.162434         14.405877       0.496278       0.405806   \n",
       "C3         19.117966          3.721992       0.018156       0.960951   \n",
       "C4          0.000192          0.915112       0.943245       0.054057   \n",
       "C5         24.080377          5.152123       0.319174       0.000026   \n",
       "C6         17.213579         56.976944       0.040764       0.579156   \n",
       "\n",
       "    row_cos2_dim3  row_cos2_dim4  row_cos2_dim5  \n",
       "C1       0.130112   1.399456e-03       0.007515  \n",
       "C2       0.031366   5.769576e-02       0.008854  \n",
       "C3       0.000037   1.932669e-02       0.001530  \n",
       "C4       0.002562   6.983838e-08       0.000136  \n",
       "C5       0.591092   8.252959e-02       0.007179  \n",
       "C6       0.154067   9.635315e-02       0.129659  "
      ]
     },
     "execution_count": 20,
     "metadata": {},
     "output_type": "execute_result"
    }
   ],
   "source": [
    "info_skill=my_ca.row_topandas()\n",
    "info_skill"
   ]
  },
  {
   "cell_type": "code",
   "execution_count": 21,
   "id": "c49bf58e",
   "metadata": {},
   "outputs": [
    {
     "data": {
      "application/vnd.microsoft.datawrangler.viewer.v0+json": {
       "columns": [
        {
         "name": "index",
         "rawType": "object",
         "type": "string"
        },
        {
         "name": "col_coord_dim1",
         "rawType": "float64",
         "type": "float"
        },
        {
         "name": "col_coord_dim2",
         "rawType": "float64",
         "type": "float"
        },
        {
         "name": "col_coord_dim3",
         "rawType": "float64",
         "type": "float"
        },
        {
         "name": "col_coord_dim4",
         "rawType": "float64",
         "type": "float"
        },
        {
         "name": "col_coord_dim5",
         "rawType": "float64",
         "type": "float"
        },
        {
         "name": "col_contrib_dim1",
         "rawType": "float64",
         "type": "float"
        },
        {
         "name": "col_contrib_dim2",
         "rawType": "float64",
         "type": "float"
        },
        {
         "name": "col_contrib_dim3",
         "rawType": "float64",
         "type": "float"
        },
        {
         "name": "col_contrib_dim4",
         "rawType": "float64",
         "type": "float"
        },
        {
         "name": "col_contrib_dim5",
         "rawType": "float64",
         "type": "float"
        },
        {
         "name": "col_cos2_dim1",
         "rawType": "float64",
         "type": "float"
        },
        {
         "name": "col_cos2_dim2",
         "rawType": "float64",
         "type": "float"
        },
        {
         "name": "col_cos2_dim3",
         "rawType": "float64",
         "type": "float"
        },
        {
         "name": "col_cos2_dim4",
         "rawType": "float64",
         "type": "float"
        },
        {
         "name": "col_cos2_dim5",
         "rawType": "float64",
         "type": "float"
        }
       ],
       "conversionMethod": "pd.DataFrame",
       "ref": "64dfe7c6-a5dd-4a5e-beaa-e87f61f94c4e",
       "rows": [
        [
         "FS01",
         "-0.08433351616997702",
         "-0.054099163323762835",
         "0.08653003170747622",
         "0.004491307583107709",
         "0.007514328622286356",
         "5.132632580716145",
         "5.317227084029201",
         "57.764465672974765",
         "0.5607625987939966",
         "3.8610327235843145",
         "0.40403137289697394",
         "0.16626306039323932",
         "0.4253519213752011",
         "0.0011459357538978743",
         "0.0032077095806869967"
        ],
        [
         "FS02",
         "0.13059424833179642",
         "0.022051845455232665",
         "0.007941526140682479",
         "-0.01999599510530844",
         "-0.00769434784691561",
         "11.568321427743902",
         "0.8303792306164203",
         "0.4573171211106614",
         "10.447249659139372",
         "3.804952443223733",
         "0.9441742538096484",
         "0.026921170215684596",
         "0.0034914995723787914",
         "0.02213553877896557",
         "0.0032775376233228166"
        ],
        [
         "FS03",
         "0.2052667644077885",
         "0.11030490346415832",
         "-0.001297318899774287",
         "0.025582670294198737",
         "-0.008921862452180681",
         "26.047172107526013",
         "18.935522565824282",
         "0.011122542422430963",
         "15.585069257487822",
         "4.662487787587554",
         "0.7655606191132772",
         "0.22107108841921697",
         "3.0579881761082166e-05",
         "0.011891429328636603",
         "0.0014462832571069146"
        ],
        [
         "FS04",
         "0.1448609776469081",
         "-0.08562776685838777",
         "-0.040423762410252397",
         "-0.008459904706112494",
         "0.023593945078137453",
         "10.219106085660998",
         "8.98884042212812",
         "8.506890126898902",
         "1.3425631069179382",
         "25.685886911681795",
         "0.6862423666190738",
         "0.23977502157682828",
         "0.053437750541990424",
         "0.00234048383042512",
         "0.018204377431681275"
        ],
        [
         "FS05",
         "0.03547003166117968",
         "-0.10456144548829124",
         "-0.014821914811168627",
         "-0.06017144879747226",
         "-0.01861479049993322",
         "0.3048025920947016",
         "6.668113928178208",
         "0.5689726670068765",
         "33.78859423069575",
         "7.954175396793414",
         "0.07681777180202896",
         "0.6675467876411199",
         "0.01341365645414463",
         "0.22106474644250124",
         "0.021157037660205553"
        ],
        [
         "FS06",
         "-0.2861763639172005",
         "0.1112789402588794",
         "-0.08611673778136157",
         "-0.030048208446469212",
         "0.013165337291520439",
         "15.688678761767171",
         "5.971853715276622",
         "15.187324129713273",
         "6.6626913843235505",
         "3.146054066950019",
         "0.7968778476247104",
         "0.12048977504643307",
         "0.07216047294963474",
         "0.008785397133064412",
         "0.0016865072461566685"
        ],
        [
         "FS07",
         "-0.24710918764735196",
         "0.13879385962751306",
         "0.004268345142164994",
         "-0.013465383258732701",
         "-0.018147780162276545",
         "19.41890529150356",
         "15.422394721906679",
         "0.06193744571439048",
         "2.2211509709281385",
         "9.923784642017413",
         "0.7552102552232403",
         "0.2382487323889318",
         "0.00022532488182622917",
         "0.0022424745909119066",
         "0.004073212915089197"
        ],
        [
         "FS08",
         "-0.13594031055749464",
         "-0.25230801855098534",
         "-0.08424618920820888",
         "0.05295376489297829",
         "-0.03733549777214754",
         "2.9914736604270122",
         "25.942697071611505",
         "12.282208691372302",
         "17.485418702025854",
         "21.380404308749952",
         "0.19778299371192154",
         "0.681325332267964",
         "0.07596140010824379",
         "0.030011390413813243",
         "0.0149188834980568"
        ],
        [
         "FS09",
         "-0.11862443708008394",
         "0.07287544706291588",
         "-0.028929162705002662",
         "0.02369383164348067",
         "0.01909697908412746",
         "5.597647095485726",
         "5.318436772152073",
         "3.558903303274578",
         "8.602436290840558",
         "13.745795692958925",
         "0.6654704835912295",
         "0.2511556383674479",
         "0.039577849846883624",
         "0.026549177120960745",
         "0.017246851073477672"
        ],
        [
         "FS10",
         "-0.1177369044361005",
         "-0.07937154202955628",
         "0.008727664635403753",
         "0.01977812349969367",
         "-0.013278717417003197",
         "2.443792607642362",
         "2.795973861953807",
         "0.14355637882316682",
         "2.656458111706739",
         "2.945335230699316",
         "0.6662653948274736",
         "0.3027970687385659",
         "0.0036611551268016045",
         "0.018801487041915466",
         "0.00847489426524234"
        ],
        [
         "FS11",
         "-0.056505815749820346",
         "-0.09067746712237632",
         "-0.027219632086894326",
         "0.009558937123956699",
         "0.012875532094548413",
         "0.587467789432373",
         "3.808560626322989",
         "1.4573019206886133",
         "0.6476056871402971",
         "2.8900907957535784",
         "0.2572151556087146",
         "0.6623827555631585",
         "0.05968631381323521",
         "0.007360875399450662",
         "0.013354899615441007"
        ]
       ],
       "shape": {
        "columns": 15,
        "rows": 11
       }
      },
      "text/html": [
       "<div>\n",
       "<style scoped>\n",
       "    .dataframe tbody tr th:only-of-type {\n",
       "        vertical-align: middle;\n",
       "    }\n",
       "\n",
       "    .dataframe tbody tr th {\n",
       "        vertical-align: top;\n",
       "    }\n",
       "\n",
       "    .dataframe thead th {\n",
       "        text-align: right;\n",
       "    }\n",
       "</style>\n",
       "<table border=\"1\" class=\"dataframe\">\n",
       "  <thead>\n",
       "    <tr style=\"text-align: right;\">\n",
       "      <th></th>\n",
       "      <th>col_coord_dim1</th>\n",
       "      <th>col_coord_dim2</th>\n",
       "      <th>col_coord_dim3</th>\n",
       "      <th>col_coord_dim4</th>\n",
       "      <th>col_coord_dim5</th>\n",
       "      <th>col_contrib_dim1</th>\n",
       "      <th>col_contrib_dim2</th>\n",
       "      <th>col_contrib_dim3</th>\n",
       "      <th>col_contrib_dim4</th>\n",
       "      <th>col_contrib_dim5</th>\n",
       "      <th>col_cos2_dim1</th>\n",
       "      <th>col_cos2_dim2</th>\n",
       "      <th>col_cos2_dim3</th>\n",
       "      <th>col_cos2_dim4</th>\n",
       "      <th>col_cos2_dim5</th>\n",
       "    </tr>\n",
       "  </thead>\n",
       "  <tbody>\n",
       "    <tr>\n",
       "      <th>FS01</th>\n",
       "      <td>-0.084334</td>\n",
       "      <td>-0.054099</td>\n",
       "      <td>0.086530</td>\n",
       "      <td>0.004491</td>\n",
       "      <td>0.007514</td>\n",
       "      <td>5.132633</td>\n",
       "      <td>5.317227</td>\n",
       "      <td>57.764466</td>\n",
       "      <td>0.560763</td>\n",
       "      <td>3.861033</td>\n",
       "      <td>0.404031</td>\n",
       "      <td>0.166263</td>\n",
       "      <td>0.425352</td>\n",
       "      <td>0.001146</td>\n",
       "      <td>0.003208</td>\n",
       "    </tr>\n",
       "    <tr>\n",
       "      <th>FS02</th>\n",
       "      <td>0.130594</td>\n",
       "      <td>0.022052</td>\n",
       "      <td>0.007942</td>\n",
       "      <td>-0.019996</td>\n",
       "      <td>-0.007694</td>\n",
       "      <td>11.568321</td>\n",
       "      <td>0.830379</td>\n",
       "      <td>0.457317</td>\n",
       "      <td>10.447250</td>\n",
       "      <td>3.804952</td>\n",
       "      <td>0.944174</td>\n",
       "      <td>0.026921</td>\n",
       "      <td>0.003491</td>\n",
       "      <td>0.022136</td>\n",
       "      <td>0.003278</td>\n",
       "    </tr>\n",
       "    <tr>\n",
       "      <th>FS03</th>\n",
       "      <td>0.205267</td>\n",
       "      <td>0.110305</td>\n",
       "      <td>-0.001297</td>\n",
       "      <td>0.025583</td>\n",
       "      <td>-0.008922</td>\n",
       "      <td>26.047172</td>\n",
       "      <td>18.935523</td>\n",
       "      <td>0.011123</td>\n",
       "      <td>15.585069</td>\n",
       "      <td>4.662488</td>\n",
       "      <td>0.765561</td>\n",
       "      <td>0.221071</td>\n",
       "      <td>0.000031</td>\n",
       "      <td>0.011891</td>\n",
       "      <td>0.001446</td>\n",
       "    </tr>\n",
       "    <tr>\n",
       "      <th>FS04</th>\n",
       "      <td>0.144861</td>\n",
       "      <td>-0.085628</td>\n",
       "      <td>-0.040424</td>\n",
       "      <td>-0.008460</td>\n",
       "      <td>0.023594</td>\n",
       "      <td>10.219106</td>\n",
       "      <td>8.988840</td>\n",
       "      <td>8.506890</td>\n",
       "      <td>1.342563</td>\n",
       "      <td>25.685887</td>\n",
       "      <td>0.686242</td>\n",
       "      <td>0.239775</td>\n",
       "      <td>0.053438</td>\n",
       "      <td>0.002340</td>\n",
       "      <td>0.018204</td>\n",
       "    </tr>\n",
       "    <tr>\n",
       "      <th>FS05</th>\n",
       "      <td>0.035470</td>\n",
       "      <td>-0.104561</td>\n",
       "      <td>-0.014822</td>\n",
       "      <td>-0.060171</td>\n",
       "      <td>-0.018615</td>\n",
       "      <td>0.304803</td>\n",
       "      <td>6.668114</td>\n",
       "      <td>0.568973</td>\n",
       "      <td>33.788594</td>\n",
       "      <td>7.954175</td>\n",
       "      <td>0.076818</td>\n",
       "      <td>0.667547</td>\n",
       "      <td>0.013414</td>\n",
       "      <td>0.221065</td>\n",
       "      <td>0.021157</td>\n",
       "    </tr>\n",
       "    <tr>\n",
       "      <th>FS06</th>\n",
       "      <td>-0.286176</td>\n",
       "      <td>0.111279</td>\n",
       "      <td>-0.086117</td>\n",
       "      <td>-0.030048</td>\n",
       "      <td>0.013165</td>\n",
       "      <td>15.688679</td>\n",
       "      <td>5.971854</td>\n",
       "      <td>15.187324</td>\n",
       "      <td>6.662691</td>\n",
       "      <td>3.146054</td>\n",
       "      <td>0.796878</td>\n",
       "      <td>0.120490</td>\n",
       "      <td>0.072160</td>\n",
       "      <td>0.008785</td>\n",
       "      <td>0.001687</td>\n",
       "    </tr>\n",
       "    <tr>\n",
       "      <th>FS07</th>\n",
       "      <td>-0.247109</td>\n",
       "      <td>0.138794</td>\n",
       "      <td>0.004268</td>\n",
       "      <td>-0.013465</td>\n",
       "      <td>-0.018148</td>\n",
       "      <td>19.418905</td>\n",
       "      <td>15.422395</td>\n",
       "      <td>0.061937</td>\n",
       "      <td>2.221151</td>\n",
       "      <td>9.923785</td>\n",
       "      <td>0.755210</td>\n",
       "      <td>0.238249</td>\n",
       "      <td>0.000225</td>\n",
       "      <td>0.002242</td>\n",
       "      <td>0.004073</td>\n",
       "    </tr>\n",
       "    <tr>\n",
       "      <th>FS08</th>\n",
       "      <td>-0.135940</td>\n",
       "      <td>-0.252308</td>\n",
       "      <td>-0.084246</td>\n",
       "      <td>0.052954</td>\n",
       "      <td>-0.037335</td>\n",
       "      <td>2.991474</td>\n",
       "      <td>25.942697</td>\n",
       "      <td>12.282209</td>\n",
       "      <td>17.485419</td>\n",
       "      <td>21.380404</td>\n",
       "      <td>0.197783</td>\n",
       "      <td>0.681325</td>\n",
       "      <td>0.075961</td>\n",
       "      <td>0.030011</td>\n",
       "      <td>0.014919</td>\n",
       "    </tr>\n",
       "    <tr>\n",
       "      <th>FS09</th>\n",
       "      <td>-0.118624</td>\n",
       "      <td>0.072875</td>\n",
       "      <td>-0.028929</td>\n",
       "      <td>0.023694</td>\n",
       "      <td>0.019097</td>\n",
       "      <td>5.597647</td>\n",
       "      <td>5.318437</td>\n",
       "      <td>3.558903</td>\n",
       "      <td>8.602436</td>\n",
       "      <td>13.745796</td>\n",
       "      <td>0.665470</td>\n",
       "      <td>0.251156</td>\n",
       "      <td>0.039578</td>\n",
       "      <td>0.026549</td>\n",
       "      <td>0.017247</td>\n",
       "    </tr>\n",
       "    <tr>\n",
       "      <th>FS10</th>\n",
       "      <td>-0.117737</td>\n",
       "      <td>-0.079372</td>\n",
       "      <td>0.008728</td>\n",
       "      <td>0.019778</td>\n",
       "      <td>-0.013279</td>\n",
       "      <td>2.443793</td>\n",
       "      <td>2.795974</td>\n",
       "      <td>0.143556</td>\n",
       "      <td>2.656458</td>\n",
       "      <td>2.945335</td>\n",
       "      <td>0.666265</td>\n",
       "      <td>0.302797</td>\n",
       "      <td>0.003661</td>\n",
       "      <td>0.018801</td>\n",
       "      <td>0.008475</td>\n",
       "    </tr>\n",
       "    <tr>\n",
       "      <th>FS11</th>\n",
       "      <td>-0.056506</td>\n",
       "      <td>-0.090677</td>\n",
       "      <td>-0.027220</td>\n",
       "      <td>0.009559</td>\n",
       "      <td>0.012876</td>\n",
       "      <td>0.587468</td>\n",
       "      <td>3.808561</td>\n",
       "      <td>1.457302</td>\n",
       "      <td>0.647606</td>\n",
       "      <td>2.890091</td>\n",
       "      <td>0.257215</td>\n",
       "      <td>0.662383</td>\n",
       "      <td>0.059686</td>\n",
       "      <td>0.007361</td>\n",
       "      <td>0.013355</td>\n",
       "    </tr>\n",
       "  </tbody>\n",
       "</table>\n",
       "</div>"
      ],
      "text/plain": [
       "      col_coord_dim1  col_coord_dim2  col_coord_dim3  col_coord_dim4  \\\n",
       "FS01       -0.084334       -0.054099        0.086530        0.004491   \n",
       "FS02        0.130594        0.022052        0.007942       -0.019996   \n",
       "FS03        0.205267        0.110305       -0.001297        0.025583   \n",
       "FS04        0.144861       -0.085628       -0.040424       -0.008460   \n",
       "FS05        0.035470       -0.104561       -0.014822       -0.060171   \n",
       "FS06       -0.286176        0.111279       -0.086117       -0.030048   \n",
       "FS07       -0.247109        0.138794        0.004268       -0.013465   \n",
       "FS08       -0.135940       -0.252308       -0.084246        0.052954   \n",
       "FS09       -0.118624        0.072875       -0.028929        0.023694   \n",
       "FS10       -0.117737       -0.079372        0.008728        0.019778   \n",
       "FS11       -0.056506       -0.090677       -0.027220        0.009559   \n",
       "\n",
       "      col_coord_dim5  col_contrib_dim1  col_contrib_dim2  col_contrib_dim3  \\\n",
       "FS01        0.007514          5.132633          5.317227         57.764466   \n",
       "FS02       -0.007694         11.568321          0.830379          0.457317   \n",
       "FS03       -0.008922         26.047172         18.935523          0.011123   \n",
       "FS04        0.023594         10.219106          8.988840          8.506890   \n",
       "FS05       -0.018615          0.304803          6.668114          0.568973   \n",
       "FS06        0.013165         15.688679          5.971854         15.187324   \n",
       "FS07       -0.018148         19.418905         15.422395          0.061937   \n",
       "FS08       -0.037335          2.991474         25.942697         12.282209   \n",
       "FS09        0.019097          5.597647          5.318437          3.558903   \n",
       "FS10       -0.013279          2.443793          2.795974          0.143556   \n",
       "FS11        0.012876          0.587468          3.808561          1.457302   \n",
       "\n",
       "      col_contrib_dim4  col_contrib_dim5  col_cos2_dim1  col_cos2_dim2  \\\n",
       "FS01          0.560763          3.861033       0.404031       0.166263   \n",
       "FS02         10.447250          3.804952       0.944174       0.026921   \n",
       "FS03         15.585069          4.662488       0.765561       0.221071   \n",
       "FS04          1.342563         25.685887       0.686242       0.239775   \n",
       "FS05         33.788594          7.954175       0.076818       0.667547   \n",
       "FS06          6.662691          3.146054       0.796878       0.120490   \n",
       "FS07          2.221151          9.923785       0.755210       0.238249   \n",
       "FS08         17.485419         21.380404       0.197783       0.681325   \n",
       "FS09          8.602436         13.745796       0.665470       0.251156   \n",
       "FS10          2.656458          2.945335       0.666265       0.302797   \n",
       "FS11          0.647606          2.890091       0.257215       0.662383   \n",
       "\n",
       "      col_cos2_dim3  col_cos2_dim4  col_cos2_dim5  \n",
       "FS01       0.425352       0.001146       0.003208  \n",
       "FS02       0.003491       0.022136       0.003278  \n",
       "FS03       0.000031       0.011891       0.001446  \n",
       "FS04       0.053438       0.002340       0.018204  \n",
       "FS05       0.013414       0.221065       0.021157  \n",
       "FS06       0.072160       0.008785       0.001687  \n",
       "FS07       0.000225       0.002242       0.004073  \n",
       "FS08       0.075961       0.030011       0.014919  \n",
       "FS09       0.039578       0.026549       0.017247  \n",
       "FS10       0.003661       0.018801       0.008475  \n",
       "FS11       0.059686       0.007361       0.013355  "
      ]
     },
     "execution_count": 21,
     "metadata": {},
     "output_type": "execute_result"
    }
   ],
   "source": [
    "info_FS=my_ca.col_topandas()\n",
    "info_FS"
   ]
  },
  {
   "cell_type": "code",
   "execution_count": 22,
   "id": "0ca80edd",
   "metadata": {},
   "outputs": [
    {
     "data": {
      "image/png": "[encoded data removed]",
      "text/plain": [
       "<Figure size 640x480 with 1 Axes>"
      ]
     },
     "metadata": {},
     "output_type": "display_data"
    }
   ],
   "source": [
    "# Graphique des compétences (en ligne)\n",
    "my_ca.mapping_row(num_x_axis=1,num_y_axis=2)"
   ]
  },
  {
   "cell_type": "code",
   "execution_count": 23,
   "id": "0a5a28de",
   "metadata": {},
   "outputs": [
    {
     "data": {
      "image/png": "[encoded data removed]",
      "text/plain": [
       "<Figure size 640x480 with 1 Axes>"
      ]
     },
     "metadata": {},
     "output_type": "display_data"
    }
   ],
   "source": [
    "# Graphique des familles de situation (en colonne)\n",
    "my_ca.mapping_col(num_x_axis=1,num_y_axis=2)"
   ]
  },
  {
   "cell_type": "code",
   "execution_count": 24,
   "id": "ec01cff8",
   "metadata": {},
   "outputs": [
    {
     "data": {
      "image/png": "[encoded data removed]",
      "text/plain": [
       "<Figure size 1000x800 with 1 Axes>"
      ]
     },
     "metadata": {},
     "output_type": "display_data"
    }
   ],
   "source": [
    "# Graphique profil ligne profil colonne\n",
    "\n",
    "my_ca.mapping(1, 2, figsize=(10, 8))"
   ]
  }
 ],
 "metadata": {
  "kernelspec": {
   "display_name": "Python 3",
   "language": "python",
   "name": "python3"
  },
  "language_info": {
   "codemirror_mode": {
    "name": "ipython",
    "version": 3
   },
   "file_extension": ".py",
   "mimetype": "text/x-python",
   "name": "python",
   "nbconvert_exporter": "python",
   "pygments_lexer": "ipython3",
   "version": "3.9.13"
  }
 },
 "nbformat": 4,
 "nbformat_minor": 5
}
