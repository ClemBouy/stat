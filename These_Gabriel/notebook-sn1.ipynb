{
 "cells": [
  {
   "cell_type": "markdown",
   "id": "815e26ca",
   "metadata": {},
   "source": [
    "# data-SN1.csv\n",
    "\n",
    "```\n",
    "SELECT tag.name as \"tag\", period.name, internship.type, skill_entry_with_workflow.id, skill_main.code, skill_descriptor.code, skill_situation_family.code ,skill_entry_with_workflow.workflow_state, skill_entry_with_workflow.created_at, skill_entry_with_workflow.updated_at\n",
    "FROM skill_entry_with_workflow\n",
    "LEFT JOIN skill_descriptor ON skill_entry_with_workflow.skill_descriptor_id = skill_descriptor.id\n",
    "LEFT JOIN skill_main ON skill_descriptor.skill_main_id = skill_main.id\n",
    "LEFT JOIN skill_container_with_situation_family ON skill_entry_with_workflow.skill_container_id = skill_container_with_situation_family.id\n",
    "LEFT JOIN skill_situation_family ON skill_container_with_situation_family.situation_family_id = skill_situation_family.id\n",
    "LEFT JOIN scoreboard_entry_abstract ON skill_container_with_situation_family.id = scoreboard_entry_abstract.skill_container_id\n",
    "LEFT JOIN internship_assignment ON scoreboard_entry_abstract.internship_assignment_id = internship_assignment.id\n",
    "LEFT JOIN period ON internship_assignment.period_id = period.id\n",
    "LEFT JOIN internship ON internship_assignment.internship_id = internship.id\n",
    "LEFT JOIN internship_tag_for_internship ON internship.id = internship_tag_for_internship.internship_id\n",
    "LEFT JOIN tag ON tag.id = internship_tag_for_internship.tag_for_internship_id\n",
    "\n",
    "WHERE (period.name = \"20222\" OR period.name = \"20231\" OR period.name = \"20232\" OR period.name = \"20241\") AND internship.type = \"internshipPractical\" AND tag.name = \"SN1\"\n",
    "```"
   ]
  },
  {
   "cell_type": "code",
   "execution_count": 1,
   "id": "baa64d21",
   "metadata": {},
   "outputs": [],
   "source": [
    "import pandas as pd\n",
    "import numpy as np\n",
    "from fanalysis.ca import CA\n",
    "import matplotlib.pyplot as plt"
   ]
  },
  {
   "cell_type": "code",
   "execution_count": 2,
   "id": "d544120a",
   "metadata": {},
   "outputs": [
    {
     "data": {
      "application/vnd.microsoft.datawrangler.viewer.v0+json": {
       "columns": [
        {
         "name": "index",
         "rawType": "int64",
         "type": "integer"
        },
        {
         "name": "tag",
         "rawType": "object",
         "type": "string"
        },
        {
         "name": "name",
         "rawType": "int64",
         "type": "integer"
        },
        {
         "name": "type",
         "rawType": "object",
         "type": "string"
        },
        {
         "name": "id",
         "rawType": "object",
         "type": "string"
        },
        {
         "name": "code",
         "rawType": "object",
         "type": "string"
        },
        {
         "name": "code.1",
         "rawType": "object",
         "type": "string"
        },
        {
         "name": "code.2",
         "rawType": "object",
         "type": "string"
        },
        {
         "name": "workflow_state",
         "rawType": "object",
         "type": "string"
        },
        {
         "name": "created_at",
         "rawType": "object",
         "type": "string"
        },
        {
         "name": "updated_at",
         "rawType": "object",
         "type": "string"
        }
       ],
       "conversionMethod": "pd.DataFrame",
       "ref": "2dab0075-c573-4129-a3b2-0ff55014cb15",
       "rows": [
        [
         "0",
         "SN1",
         "20232",
         "internshipPractical",
         "0190f492-94e0-7bfe-9601-b397d20f3994",
         "C4",
         "C4NiD1",
         "FS07",
         "certified",
         "2024-07-27 16:22:45",
         "2024-08-19 14:35:08"
        ],
        [
         "1",
         "SN1",
         "20232",
         "internshipPractical",
         "0190ea73-ad38-7cdb-85aa-b9c0eaebaefe",
         "C5",
         "C5NnD5",
         "FS05",
         "certified",
         "2024-07-25 17:12:47",
         "2024-08-19 14:35:21"
        ],
        [
         "2",
         "SN1",
         "20232",
         "internshipPractical",
         "0190eacb-bb9d-7217-b334-6409dbdcd9f6",
         "C2",
         "C2NnD2",
         "FS04",
         "certified",
         "2024-07-25 18:48:58",
         "2024-08-19 14:36:16"
        ],
        [
         "3",
         "SN1",
         "20232",
         "internshipPractical",
         "0190f493-1695-7f94-9391-0bebec751643",
         "C2",
         "C2NnD2",
         "FS07",
         "certified",
         "2024-07-27 16:23:18",
         "2024-08-19 14:36:37"
        ],
        [
         "4",
         "SN1",
         "20232",
         "internshipPractical",
         "0190ea63-7c39-7253-8b53-fbb67144d30c",
         "C1",
         "C1NnD1",
         "FS01",
         "certified",
         "2024-07-25 16:55:06",
         "2024-08-19 14:41:46"
        ],
        [
         "5",
         "SN1",
         "20232",
         "internshipPractical",
         "0190f494-3e59-780f-ba9e-704d920d4f5a",
         "C1",
         "C1NnD7",
         "FS02",
         "certified",
         "2024-07-27 16:24:34",
         "2024-08-19 14:42:15"
        ],
        [
         "6",
         "SN1",
         "20232",
         "internshipPractical",
         "0190f494-a17f-7739-858a-b51c6e1ef383",
         "C4",
         "C4NiD1",
         "FS02",
         "certified",
         "2024-07-27 16:24:59",
         "2024-08-19 14:42:46"
        ],
        [
         "7",
         "SN1",
         "20232",
         "internshipPractical",
         "0190ea5d-b1ee-763e-95ee-e862a5e20d42",
         "C4",
         "C4NnD1",
         "FS02",
         "certified",
         "2024-07-25 16:48:47",
         "2024-08-19 14:43:08"
        ],
        [
         "8",
         "SN1",
         "20232",
         "internshipPractical",
         "0190ea6a-9d94-70b4-b179-afa1a09b55ed",
         "C1",
         "C1NnD6",
         "FS04",
         "certified",
         "2024-07-25 17:02:54",
         "2024-08-19 14:43:46"
        ],
        [
         "9",
         "SN1",
         "20232",
         "internshipPractical",
         "0190eae7-0b49-726f-9597-65a288eea57a",
         "C4",
         "C4NnD2",
         "FS03",
         "certified",
         "2024-07-25 19:18:48",
         "2024-08-19 14:44:31"
        ],
        [
         "10",
         "SN1",
         "20232",
         "internshipPractical",
         "0190f494-f3a3-74a0-bdf4-1a9fb407be5b",
         "C3",
         "C3NnD1",
         "FS04",
         "certified",
         "2024-07-27 16:25:20",
         "2024-08-06 13:17:35"
        ],
        [
         "11",
         "SN1",
         "20232",
         "internshipPractical",
         "0190f495-4e4f-750a-b017-1f3e3e59a872",
         "C4",
         "C4NiD2",
         "FS02",
         "certified",
         "2024-07-27 16:25:44",
         "2024-08-06 13:18:37"
        ],
        [
         "12",
         "SN1",
         "20232",
         "internshipPractical",
         "0190f495-bb95-7d19-a49d-dd41a6f42a91",
         "C4",
         "C4NiD3",
         "FS04",
         "certified",
         "2024-07-27 16:26:11",
         "2024-09-11 00:10:15"
        ],
        [
         "13",
         "SN1",
         "20232",
         "internshipPractical",
         "0190f496-51da-7070-8264-5dd760090717",
         "C3",
         "C3NnD2",
         "FS04",
         "certified",
         "2024-07-27 16:26:50",
         "2024-09-11 00:09:56"
        ],
        [
         "14",
         "SN1",
         "20232",
         "internshipPractical",
         "0190f496-cf7d-774b-823a-d2619de8c28f",
         "C5",
         "C5NnD3",
         "FS01",
         "certified",
         "2024-07-27 16:27:22",
         "2024-09-11 00:09:38"
        ],
        [
         "15",
         "SN1",
         "20232",
         "internshipPractical",
         "0190f497-faa8-7695-b10f-35cfc9f33e15",
         "C5",
         "C5NnD1",
         "FS01",
         "certified",
         "2024-07-27 16:28:39",
         "2024-08-29 09:42:12"
        ],
        [
         "16",
         "SN1",
         "20232",
         "internshipPractical",
         "0190f498-d864-73d7-81ef-448dc704fcba",
         "C1",
         "C1NnD9",
         "FS08",
         "certified",
         "2024-07-27 16:29:35",
         "2024-08-29 09:41:56"
        ],
        [
         "17",
         "SN1",
         "20232",
         "internshipPractical",
         "0190ea75-f235-7bc1-ba42-62701f87c308",
         "C5",
         "C5NnD3",
         "FS05",
         "certified",
         "2024-07-25 17:15:16",
         "2024-08-29 09:41:13"
        ],
        [
         "18",
         "SN1",
         "20232",
         "internshipPractical",
         "0190f499-3b0d-7d24-a29b-77c1d507b4c5",
         "C5",
         "C5NnD7",
         "FS01",
         "rejected",
         "2024-07-27 16:30:01",
         "2024-08-29 09:40:35"
        ],
        [
         "19",
         "SN1",
         "20232",
         "internshipPractical",
         "0190ea7a-404f-7135-a418-120f028e3741",
         "C5",
         "C5NnD6",
         "FS10",
         "certified",
         "2024-07-25 17:19:58",
         "2024-08-29 09:39:50"
        ],
        [
         "20",
         "SN1",
         "20232",
         "internshipPractical",
         "0190ea7a-af56-7ac0-a2b8-e3f9645ef835",
         "C3",
         "C3NnD4",
         "FS10",
         "certified",
         "2024-07-25 17:20:27",
         "2024-08-29 09:40:04"
        ],
        [
         "21",
         "SN1",
         "20232",
         "internshipPractical",
         "0190ea7a-af59-7c81-bcc0-44bd0d595291",
         "C3",
         "C3NnD5",
         "FS10",
         "certified",
         "2024-07-25 17:20:27",
         "2024-08-29 09:40:12"
        ],
        [
         "22",
         "SN1",
         "20232",
         "internshipPractical",
         "0190ea69-abda-7f35-b6c8-79f46a55c95c",
         "C1",
         "C1NnD9",
         "FS01",
         "certified",
         "2024-07-25 17:01:52",
         "2024-08-19 14:44:51"
        ],
        [
         "23",
         "SN1",
         "20232",
         "internshipPractical",
         "0190f499-dd72-7e61-8ca7-d8696328ff43",
         "C2",
         "C2NnD2",
         "FS02",
         "certified",
         "2024-07-27 16:30:42",
         "2024-08-19 14:45:09"
        ],
        [
         "24",
         "SN1",
         "20232",
         "internshipPractical",
         "0190f49a-7770-775f-959a-9b2dd5c86aaa",
         "C4",
         "C4NiD5",
         "FS05",
         "certified",
         "2024-07-27 16:31:22",
         "2024-08-19 14:45:29"
        ],
        [
         "25",
         "SN1",
         "20232",
         "internshipPractical",
         "0190f49b-7b5e-768b-9dc5-9ffe47dd2813",
         "C1",
         "C1NnD6",
         "FS02",
         "certified",
         "2024-07-27 16:32:28",
         "2024-08-19 14:45:52"
        ],
        [
         "26",
         "SN1",
         "20232",
         "internshipPractical",
         "0190f49b-2535-7cb0-97fc-9171b22c4847",
         "C5",
         "C5NnD5",
         "FS01",
         "certified",
         "2024-07-27 16:32:06",
         "2024-08-19 14:46:15"
        ],
        [
         "27",
         "SN1",
         "20232",
         "internshipPractical",
         "0190ea68-dd3b-79eb-b1ba-7498d7b5e831",
         "C1",
         "C1NnD5",
         "FS09",
         "certified",
         "2024-07-25 17:00:59",
         "2024-08-29 09:39:28"
        ],
        [
         "28",
         "SN1",
         "20232",
         "internshipPractical",
         "0190ea67-7aad-7fd8-a343-06cb57e7d948",
         "C1",
         "C1NnD4",
         "FS11",
         "certified",
         "2024-07-25 16:59:28",
         "2024-08-29 09:38:55"
        ],
        [
         "29",
         "SN1",
         "20232",
         "internshipPractical",
         "0190f49c-96fc-7cd5-a610-577174033128",
         "C2",
         "C2NiD2",
         "FS01",
         "certified",
         "2024-07-27 16:33:41",
         "2024-08-29 09:38:26"
        ],
        [
         "30",
         "SN1",
         "20232",
         "internshipPractical",
         "0190f49c-96fe-72a6-bc3a-3bf0013abbc3",
         "C2",
         "C2NiD4",
         "FS01",
         "certified",
         "2024-07-27 16:33:41",
         "2024-08-29 09:38:35"
        ],
        [
         "31",
         "SN1",
         "20232",
         "internshipPractical",
         "0190f49c-ebe6-7b7d-9744-1558c71481bc",
         "C4",
         "C4NiD3",
         "FS02",
         "certified",
         "2024-07-27 16:34:03",
         "2024-08-29 09:37:35"
        ],
        [
         "32",
         "SN1",
         "20232",
         "internshipPractical",
         "0190f49d-3a4e-7faf-bd60-e2fdf59ca254",
         "C5",
         "C5NnD7",
         "FS01",
         "rejected",
         "2024-07-27 16:34:23",
         "2024-08-29 09:37:08"
        ],
        [
         "33",
         "SN1",
         "20232",
         "internshipPractical",
         "0190f49e-5cbc-759f-83d0-cc4645278651",
         "C1",
         "C1NiD3",
         "FS02",
         "certified",
         "2024-07-27 16:35:37",
         "2024-08-29 09:36:47"
        ],
        [
         "34",
         "SN1",
         "20232",
         "internshipPractical",
         "0190f49d-c7c8-74fa-910b-b2da6260253a",
         "C4",
         "C4NnD1",
         "FS03",
         "certified",
         "2024-07-27 16:34:59",
         "2024-08-29 09:36:21"
        ],
        [
         "35",
         "SN1",
         "20232",
         "internshipPractical",
         "0190ea61-2a6e-7a0c-9a67-d51126fb0ba2",
         "C4",
         "C4NnD3",
         "FS10",
         "certified",
         "2024-07-25 16:52:34",
         "2024-08-29 09:35:52"
        ],
        [
         "36",
         "SN1",
         "20232",
         "internshipPractical",
         "0190f49f-9866-7156-ba53-249a9a3df01e",
         "C5",
         "C5NnD4",
         "FS03",
         "certified",
         "2024-07-27 16:36:58",
         "2024-09-11 00:09:21"
        ],
        [
         "37",
         "SN1",
         "20232",
         "internshipPractical",
         "0190f49f-4ea9-72bb-b334-ebe811fdca14",
         "C5",
         "C5NnD7",
         "FS03",
         "certified",
         "2024-07-27 16:36:39",
         "2024-09-11 00:09:11"
        ],
        [
         "38",
         "SN1",
         "20232",
         "internshipPractical",
         "0190f4a0-835a-7a65-8d2f-38997d4fe688",
         "C4",
         "C4NiD1",
         "FS04",
         "certified",
         "2024-07-27 16:37:58",
         "2024-09-11 00:09:03"
        ],
        [
         "39",
         "SN1",
         "20232",
         "internshipPractical",
         "0190f49f-ff8b-78bd-a81b-f2cbbd7172b4",
         "C3",
         "C3NnD3",
         "FS02",
         "certified",
         "2024-07-27 16:37:24",
         "2024-09-11 00:08:16"
        ],
        [
         "40",
         "SN1",
         "20232",
         "internshipPractical",
         "0190f4a1-ba80-75f8-8048-13ec87e1fe9c",
         "C1",
         "C1NnD5",
         "FS01",
         "certified",
         "2024-07-27 16:39:18",
         "2024-09-11 00:08:00"
        ],
        [
         "41",
         "SN1",
         "20232",
         "internshipPractical",
         "0190f4a2-0d95-792e-a82b-ff47cb114148",
         "C1",
         "C1NnD8",
         "FS04",
         "certified",
         "2024-07-27 16:39:39",
         "2024-09-11 00:07:52"
        ],
        [
         "42",
         "SN1",
         "20232",
         "internshipPractical",
         "0190f4a2-60c8-7f77-b287-feed01d53cf2",
         "C1",
         "C1NiD4",
         "FS11",
         "certified",
         "2024-07-27 16:40:00",
         "2024-09-11 00:16:12"
        ],
        [
         "43",
         "SN1",
         "20232",
         "internshipPractical",
         "0190ea66-418b-7641-9b78-a7aeda190ed6",
         "C1",
         "C1NnD3",
         "FS09",
         "certified",
         "2024-07-25 16:58:08",
         "2024-09-11 00:15:35"
        ],
        [
         "44",
         "SN1",
         "20232",
         "internshipPractical",
         "0190f4a3-502f-7316-81bb-1dfc3d95f589",
         "C3",
         "C3NnD1",
         "FS04",
         "certified",
         "2024-07-27 16:41:01",
         "2024-09-11 00:15:14"
        ],
        [
         "45",
         "SN1",
         "20232",
         "internshipPractical",
         "0190ead0-25fa-7741-b72b-6c772b8c0b40",
         "C2",
         "C2NnD1",
         "FS01",
         "certified",
         "2024-07-25 18:53:48",
         "2024-09-11 00:14:36"
        ],
        [
         "46",
         "SN1",
         "20232",
         "internshipPractical",
         "0190f4a5-8163-796a-b0fc-226aa121074b",
         "C5",
         "C5NnD7",
         "FS01",
         "certified",
         "2024-07-27 16:43:25",
         "2024-09-11 00:14:12"
        ],
        [
         "47",
         "SN1",
         "20232",
         "internshipPractical",
         "0190f4a5-237e-74b8-b000-204b1c009d98",
         "C6",
         "C6NnD1",
         "FS04",
         "certified",
         "2024-07-27 16:43:01",
         "2024-08-29 09:35:38"
        ],
        [
         "48",
         "SN1",
         "20232",
         "internshipPractical",
         "0190f4a6-514c-736a-baad-62de7746e6e4",
         "C4",
         "C4NiD2",
         "FS02",
         "certified",
         "2024-07-27 16:44:18",
         "2024-08-22 09:29:54"
        ],
        [
         "49",
         "SN1",
         "20232",
         "internshipPractical",
         "0190ea7c-70ed-73d6-a4fb-8bf41d9e3d62",
         "C3",
         "C3NnD3",
         "FS01",
         "certified",
         "2024-07-25 17:22:22",
         "2024-08-22 09:29:37"
        ]
       ],
       "shape": {
        "columns": 10,
        "rows": 41465
       }
      },
      "text/html": [
       "<div>\n",
       "<style scoped>\n",
       "    .dataframe tbody tr th:only-of-type {\n",
       "        vertical-align: middle;\n",
       "    }\n",
       "\n",
       "    .dataframe tbody tr th {\n",
       "        vertical-align: top;\n",
       "    }\n",
       "\n",
       "    .dataframe thead th {\n",
       "        text-align: right;\n",
       "    }\n",
       "</style>\n",
       "<table border=\"1\" class=\"dataframe\">\n",
       "  <thead>\n",
       "    <tr style=\"text-align: right;\">\n",
       "      <th></th>\n",
       "      <th>tag</th>\n",
       "      <th>name</th>\n",
       "      <th>type</th>\n",
       "      <th>id</th>\n",
       "      <th>code</th>\n",
       "      <th>code.1</th>\n",
       "      <th>code.2</th>\n",
       "      <th>workflow_state</th>\n",
       "      <th>created_at</th>\n",
       "      <th>updated_at</th>\n",
       "    </tr>\n",
       "  </thead>\n",
       "  <tbody>\n",
       "    <tr>\n",
       "      <th>0</th>\n",
       "      <td>SN1</td>\n",
       "      <td>20232</td>\n",
       "      <td>internshipPractical</td>\n",
       "      <td>0190f492-94e0-7bfe-9601-b397d20f3994</td>\n",
       "      <td>C4</td>\n",
       "      <td>C4NiD1</td>\n",
       "      <td>FS07</td>\n",
       "      <td>certified</td>\n",
       "      <td>2024-07-27 16:22:45</td>\n",
       "      <td>2024-08-19 14:35:08</td>\n",
       "    </tr>\n",
       "    <tr>\n",
       "      <th>1</th>\n",
       "      <td>SN1</td>\n",
       "      <td>20232</td>\n",
       "      <td>internshipPractical</td>\n",
       "      <td>0190ea73-ad38-7cdb-85aa-b9c0eaebaefe</td>\n",
       "      <td>C5</td>\n",
       "      <td>C5NnD5</td>\n",
       "      <td>FS05</td>\n",
       "      <td>certified</td>\n",
       "      <td>2024-07-25 17:12:47</td>\n",
       "      <td>2024-08-19 14:35:21</td>\n",
       "    </tr>\n",
       "    <tr>\n",
       "      <th>2</th>\n",
       "      <td>SN1</td>\n",
       "      <td>20232</td>\n",
       "      <td>internshipPractical</td>\n",
       "      <td>0190eacb-bb9d-7217-b334-6409dbdcd9f6</td>\n",
       "      <td>C2</td>\n",
       "      <td>C2NnD2</td>\n",
       "      <td>FS04</td>\n",
       "      <td>certified</td>\n",
       "      <td>2024-07-25 18:48:58</td>\n",
       "      <td>2024-08-19 14:36:16</td>\n",
       "    </tr>\n",
       "    <tr>\n",
       "      <th>3</th>\n",
       "      <td>SN1</td>\n",
       "      <td>20232</td>\n",
       "      <td>internshipPractical</td>\n",
       "      <td>0190f493-1695-7f94-9391-0bebec751643</td>\n",
       "      <td>C2</td>\n",
       "      <td>C2NnD2</td>\n",
       "      <td>FS07</td>\n",
       "      <td>certified</td>\n",
       "      <td>2024-07-27 16:23:18</td>\n",
       "      <td>2024-08-19 14:36:37</td>\n",
       "    </tr>\n",
       "    <tr>\n",
       "      <th>4</th>\n",
       "      <td>SN1</td>\n",
       "      <td>20232</td>\n",
       "      <td>internshipPractical</td>\n",
       "      <td>0190ea63-7c39-7253-8b53-fbb67144d30c</td>\n",
       "      <td>C1</td>\n",
       "      <td>C1NnD1</td>\n",
       "      <td>FS01</td>\n",
       "      <td>certified</td>\n",
       "      <td>2024-07-25 16:55:06</td>\n",
       "      <td>2024-08-19 14:41:46</td>\n",
       "    </tr>\n",
       "    <tr>\n",
       "      <th>...</th>\n",
       "      <td>...</td>\n",
       "      <td>...</td>\n",
       "      <td>...</td>\n",
       "      <td>...</td>\n",
       "      <td>...</td>\n",
       "      <td>...</td>\n",
       "      <td>...</td>\n",
       "      <td>...</td>\n",
       "      <td>...</td>\n",
       "      <td>...</td>\n",
       "    </tr>\n",
       "    <tr>\n",
       "      <th>41460</th>\n",
       "      <td>SN1</td>\n",
       "      <td>20231</td>\n",
       "      <td>internshipPractical</td>\n",
       "      <td>018c78c2-6867-72f4-88a4-33cee2ac2cd7</td>\n",
       "      <td>C4</td>\n",
       "      <td>C4NnD1</td>\n",
       "      <td>FS02</td>\n",
       "      <td>certified</td>\n",
       "      <td>2023-12-17 18:10:55</td>\n",
       "      <td>2024-01-29 19:39:55</td>\n",
       "    </tr>\n",
       "    <tr>\n",
       "      <th>41461</th>\n",
       "      <td>SN1</td>\n",
       "      <td>20231</td>\n",
       "      <td>internshipPractical</td>\n",
       "      <td>018c78c4-a2f9-7d40-9152-45c50b78b4bc</td>\n",
       "      <td>C1</td>\n",
       "      <td>C1NnD7</td>\n",
       "      <td>FS04</td>\n",
       "      <td>certified</td>\n",
       "      <td>2023-12-17 18:13:21</td>\n",
       "      <td>2024-01-29 19:39:23</td>\n",
       "    </tr>\n",
       "    <tr>\n",
       "      <th>41462</th>\n",
       "      <td>SN1</td>\n",
       "      <td>20231</td>\n",
       "      <td>internshipPractical</td>\n",
       "      <td>018c78c4-ea33-767a-9b4c-e519acbd4da8</td>\n",
       "      <td>C1</td>\n",
       "      <td>C1NnD8</td>\n",
       "      <td>FS04</td>\n",
       "      <td>certified</td>\n",
       "      <td>2023-12-17 18:13:40</td>\n",
       "      <td>2024-01-29 19:39:31</td>\n",
       "    </tr>\n",
       "    <tr>\n",
       "      <th>41463</th>\n",
       "      <td>SN1</td>\n",
       "      <td>20231</td>\n",
       "      <td>internshipPractical</td>\n",
       "      <td>018c78cb-7d5d-7454-81ab-a0aabf2887b1</td>\n",
       "      <td>C1</td>\n",
       "      <td>C1NnD7</td>\n",
       "      <td>FS02</td>\n",
       "      <td>certified</td>\n",
       "      <td>2023-12-17 18:20:51</td>\n",
       "      <td>2024-01-29 19:39:04</td>\n",
       "    </tr>\n",
       "    <tr>\n",
       "      <th>41464</th>\n",
       "      <td>SN1</td>\n",
       "      <td>20231</td>\n",
       "      <td>internshipPractical</td>\n",
       "      <td>018c78df-a3bd-703c-aca8-9f1b112f5279</td>\n",
       "      <td>C5</td>\n",
       "      <td>C5NnD3</td>\n",
       "      <td>FS02</td>\n",
       "      <td>certified</td>\n",
       "      <td>2023-12-17 18:42:51</td>\n",
       "      <td>2024-01-29 19:39:11</td>\n",
       "    </tr>\n",
       "  </tbody>\n",
       "</table>\n",
       "<p>41465 rows × 10 columns</p>\n",
       "</div>"
      ],
      "text/plain": [
       "       tag   name                 type                                    id  \\\n",
       "0      SN1  20232  internshipPractical  0190f492-94e0-7bfe-9601-b397d20f3994   \n",
       "1      SN1  20232  internshipPractical  0190ea73-ad38-7cdb-85aa-b9c0eaebaefe   \n",
       "2      SN1  20232  internshipPractical  0190eacb-bb9d-7217-b334-6409dbdcd9f6   \n",
       "3      SN1  20232  internshipPractical  0190f493-1695-7f94-9391-0bebec751643   \n",
       "4      SN1  20232  internshipPractical  0190ea63-7c39-7253-8b53-fbb67144d30c   \n",
       "...    ...    ...                  ...                                   ...   \n",
       "41460  SN1  20231  internshipPractical  018c78c2-6867-72f4-88a4-33cee2ac2cd7   \n",
       "41461  SN1  20231  internshipPractical  018c78c4-a2f9-7d40-9152-45c50b78b4bc   \n",
       "41462  SN1  20231  internshipPractical  018c78c4-ea33-767a-9b4c-e519acbd4da8   \n",
       "41463  SN1  20231  internshipPractical  018c78cb-7d5d-7454-81ab-a0aabf2887b1   \n",
       "41464  SN1  20231  internshipPractical  018c78df-a3bd-703c-aca8-9f1b112f5279   \n",
       "\n",
       "      code  code.1 code.2 workflow_state           created_at  \\\n",
       "0       C4  C4NiD1   FS07      certified  2024-07-27 16:22:45   \n",
       "1       C5  C5NnD5   FS05      certified  2024-07-25 17:12:47   \n",
       "2       C2  C2NnD2   FS04      certified  2024-07-25 18:48:58   \n",
       "3       C2  C2NnD2   FS07      certified  2024-07-27 16:23:18   \n",
       "4       C1  C1NnD1   FS01      certified  2024-07-25 16:55:06   \n",
       "...    ...     ...    ...            ...                  ...   \n",
       "41460   C4  C4NnD1   FS02      certified  2023-12-17 18:10:55   \n",
       "41461   C1  C1NnD7   FS04      certified  2023-12-17 18:13:21   \n",
       "41462   C1  C1NnD8   FS04      certified  2023-12-17 18:13:40   \n",
       "41463   C1  C1NnD7   FS02      certified  2023-12-17 18:20:51   \n",
       "41464   C5  C5NnD3   FS02      certified  2023-12-17 18:42:51   \n",
       "\n",
       "                updated_at  \n",
       "0      2024-08-19 14:35:08  \n",
       "1      2024-08-19 14:35:21  \n",
       "2      2024-08-19 14:36:16  \n",
       "3      2024-08-19 14:36:37  \n",
       "4      2024-08-19 14:41:46  \n",
       "...                    ...  \n",
       "41460  2024-01-29 19:39:55  \n",
       "41461  2024-01-29 19:39:23  \n",
       "41462  2024-01-29 19:39:31  \n",
       "41463  2024-01-29 19:39:04  \n",
       "41464  2024-01-29 19:39:11  \n",
       "\n",
       "[41465 rows x 10 columns]"
      ]
     },
     "metadata": {},
     "output_type": "display_data"
    }
   ],
   "source": [
    "data = pd.read_csv('data/data-SN1.csv')\n",
    "display(data)"
   ]
  },
  {
   "cell_type": "code",
   "execution_count": 3,
   "id": "6141cb5b",
   "metadata": {},
   "outputs": [
    {
     "data": {
      "application/vnd.microsoft.datawrangler.viewer.v0+json": {
       "columns": [
        {
         "name": "code",
         "rawType": "object",
         "type": "string"
        },
        {
         "name": "FS01",
         "rawType": "int64",
         "type": "integer"
        },
        {
         "name": "FS02",
         "rawType": "int64",
         "type": "integer"
        },
        {
         "name": "FS03",
         "rawType": "int64",
         "type": "integer"
        },
        {
         "name": "FS04",
         "rawType": "int64",
         "type": "integer"
        },
        {
         "name": "FS05",
         "rawType": "int64",
         "type": "integer"
        },
        {
         "name": "FS06",
         "rawType": "int64",
         "type": "integer"
        },
        {
         "name": "FS07",
         "rawType": "int64",
         "type": "integer"
        },
        {
         "name": "FS08",
         "rawType": "int64",
         "type": "integer"
        },
        {
         "name": "FS09",
         "rawType": "int64",
         "type": "integer"
        },
        {
         "name": "FS10",
         "rawType": "int64",
         "type": "integer"
        },
        {
         "name": "FS11",
         "rawType": "int64",
         "type": "integer"
        }
       ],
       "conversionMethod": "pd.DataFrame",
       "ref": "e1e2ab8a-8908-4972-a772-787db60028bf",
       "rows": [
        [
         "C1",
         "2435",
         "2681",
         "1755",
         "1525",
         "496",
         "395",
         "687",
         "261",
         "910",
         "611",
         "301"
        ],
        [
         "C2",
         "1088",
         "1174",
         "835",
         "504",
         "222",
         "193",
         "343",
         "142",
         "442",
         "286",
         "134"
        ],
        [
         "C3",
         "1547",
         "1325",
         "583",
         "1033",
         "468",
         "66",
         "144",
         "200",
         "340",
         "252",
         "183"
        ],
        [
         "C4",
         "983",
         "1945",
         "1825",
         "826",
         "261",
         "71",
         "158",
         "89",
         "311",
         "216",
         "111"
        ],
        [
         "C5",
         "2078",
         "1883",
         "1305",
         "790",
         "350",
         "129",
         "344",
         "203",
         "453",
         "354",
         "145"
        ],
        [
         "C6",
         "600",
         "718",
         "480",
         "431",
         "171",
         "53",
         "136",
         "145",
         "157",
         "135",
         "48"
        ]
       ],
       "shape": {
        "columns": 11,
        "rows": 6
       }
      },
      "text/html": [
       "<div>\n",
       "<style scoped>\n",
       "    .dataframe tbody tr th:only-of-type {\n",
       "        vertical-align: middle;\n",
       "    }\n",
       "\n",
       "    .dataframe tbody tr th {\n",
       "        vertical-align: top;\n",
       "    }\n",
       "\n",
       "    .dataframe thead th {\n",
       "        text-align: right;\n",
       "    }\n",
       "</style>\n",
       "<table border=\"1\" class=\"dataframe\">\n",
       "  <thead>\n",
       "    <tr style=\"text-align: right;\">\n",
       "      <th>code.2</th>\n",
       "      <th>FS01</th>\n",
       "      <th>FS02</th>\n",
       "      <th>FS03</th>\n",
       "      <th>FS04</th>\n",
       "      <th>FS05</th>\n",
       "      <th>FS06</th>\n",
       "      <th>FS07</th>\n",
       "      <th>FS08</th>\n",
       "      <th>FS09</th>\n",
       "      <th>FS10</th>\n",
       "      <th>FS11</th>\n",
       "    </tr>\n",
       "    <tr>\n",
       "      <th>code</th>\n",
       "      <th></th>\n",
       "      <th></th>\n",
       "      <th></th>\n",
       "      <th></th>\n",
       "      <th></th>\n",
       "      <th></th>\n",
       "      <th></th>\n",
       "      <th></th>\n",
       "      <th></th>\n",
       "      <th></th>\n",
       "      <th></th>\n",
       "    </tr>\n",
       "  </thead>\n",
       "  <tbody>\n",
       "    <tr>\n",
       "      <th>C1</th>\n",
       "      <td>2435</td>\n",
       "      <td>2681</td>\n",
       "      <td>1755</td>\n",
       "      <td>1525</td>\n",
       "      <td>496</td>\n",
       "      <td>395</td>\n",
       "      <td>687</td>\n",
       "      <td>261</td>\n",
       "      <td>910</td>\n",
       "      <td>611</td>\n",
       "      <td>301</td>\n",
       "    </tr>\n",
       "    <tr>\n",
       "      <th>C2</th>\n",
       "      <td>1088</td>\n",
       "      <td>1174</td>\n",
       "      <td>835</td>\n",
       "      <td>504</td>\n",
       "      <td>222</td>\n",
       "      <td>193</td>\n",
       "      <td>343</td>\n",
       "      <td>142</td>\n",
       "      <td>442</td>\n",
       "      <td>286</td>\n",
       "      <td>134</td>\n",
       "    </tr>\n",
       "    <tr>\n",
       "      <th>C3</th>\n",
       "      <td>1547</td>\n",
       "      <td>1325</td>\n",
       "      <td>583</td>\n",
       "      <td>1033</td>\n",
       "      <td>468</td>\n",
       "      <td>66</td>\n",
       "      <td>144</td>\n",
       "      <td>200</td>\n",
       "      <td>340</td>\n",
       "      <td>252</td>\n",
       "      <td>183</td>\n",
       "    </tr>\n",
       "    <tr>\n",
       "      <th>C4</th>\n",
       "      <td>983</td>\n",
       "      <td>1945</td>\n",
       "      <td>1825</td>\n",
       "      <td>826</td>\n",
       "      <td>261</td>\n",
       "      <td>71</td>\n",
       "      <td>158</td>\n",
       "      <td>89</td>\n",
       "      <td>311</td>\n",
       "      <td>216</td>\n",
       "      <td>111</td>\n",
       "    </tr>\n",
       "    <tr>\n",
       "      <th>C5</th>\n",
       "      <td>2078</td>\n",
       "      <td>1883</td>\n",
       "      <td>1305</td>\n",
       "      <td>790</td>\n",
       "      <td>350</td>\n",
       "      <td>129</td>\n",
       "      <td>344</td>\n",
       "      <td>203</td>\n",
       "      <td>453</td>\n",
       "      <td>354</td>\n",
       "      <td>145</td>\n",
       "    </tr>\n",
       "    <tr>\n",
       "      <th>C6</th>\n",
       "      <td>600</td>\n",
       "      <td>718</td>\n",
       "      <td>480</td>\n",
       "      <td>431</td>\n",
       "      <td>171</td>\n",
       "      <td>53</td>\n",
       "      <td>136</td>\n",
       "      <td>145</td>\n",
       "      <td>157</td>\n",
       "      <td>135</td>\n",
       "      <td>48</td>\n",
       "    </tr>\n",
       "  </tbody>\n",
       "</table>\n",
       "</div>"
      ],
      "text/plain": [
       "code.2  FS01  FS02  FS03  FS04  FS05  FS06  FS07  FS08  FS09  FS10  FS11\n",
       "code                                                                    \n",
       "C1      2435  2681  1755  1525   496   395   687   261   910   611   301\n",
       "C2      1088  1174   835   504   222   193   343   142   442   286   134\n",
       "C3      1547  1325   583  1033   468    66   144   200   340   252   183\n",
       "C4       983  1945  1825   826   261    71   158    89   311   216   111\n",
       "C5      2078  1883  1305   790   350   129   344   203   453   354   145\n",
       "C6       600   718   480   431   171    53   136   145   157   135    48"
      ]
     },
     "metadata": {},
     "output_type": "display_data"
    }
   ],
   "source": [
    "# data_pt = pd.pivot_table(data, values=\"name\", index=[data['id']], columns=data['record'], aggfunc=\"count\", fill_value=0, dropna=False)\n",
    "\n",
    "\n",
    "data_pt = pd.pivot_table(data, values=\"id\", index=[data['code']], columns=data['code.2'], aggfunc=\"count\")\n",
    "display(data_pt)"
   ]
  },
  {
   "cell_type": "code",
   "execution_count": 4,
   "id": "a1b4ec74",
   "metadata": {},
   "outputs": [],
   "source": [
    "col_names = list(data_pt.columns)[0:]\n",
    "row_names = list(data_pt.index)"
   ]
  },
  {
   "cell_type": "code",
   "execution_count": 5,
   "id": "68be935c",
   "metadata": {},
   "outputs": [],
   "source": [
    "X = data_pt[col_names].values "
   ]
  },
  {
   "cell_type": "code",
   "execution_count": 6,
   "id": "bf61f53e",
   "metadata": {},
   "outputs": [
    {
     "name": "stdout",
     "output_type": "stream",
     "text": [
      "Profil ligne:\n"
     ]
    },
    {
     "data": {
      "application/vnd.microsoft.datawrangler.viewer.v0+json": {
       "columns": [
        {
         "name": "index",
         "rawType": "object",
         "type": "string"
        },
        {
         "name": "FS01",
         "rawType": "float64",
         "type": "float"
        },
        {
         "name": "FS02",
         "rawType": "float64",
         "type": "float"
        },
        {
         "name": "FS03",
         "rawType": "float64",
         "type": "float"
        },
        {
         "name": "FS04",
         "rawType": "float64",
         "type": "float"
        },
        {
         "name": "FS05",
         "rawType": "float64",
         "type": "float"
        },
        {
         "name": "FS06",
         "rawType": "float64",
         "type": "float"
        },
        {
         "name": "FS07",
         "rawType": "float64",
         "type": "float"
        },
        {
         "name": "FS08",
         "rawType": "float64",
         "type": "float"
        },
        {
         "name": "FS09",
         "rawType": "float64",
         "type": "float"
        },
        {
         "name": "FS10",
         "rawType": "float64",
         "type": "float"
        },
        {
         "name": "FS11",
         "rawType": "float64",
         "type": "float"
        }
       ],
       "conversionMethod": "pd.DataFrame",
       "ref": "e6d28a11-78c1-42a2-9cf1-3b949a07f3e0",
       "rows": [
        [
         "C1",
         "0.20195736916314175",
         "0.22236045450775482",
         "0.1455585966658373",
         "0.12648254126233724",
         "0.041137928174504436",
         "0.03276105167122833",
         "0.05697934809654143",
         "0.02164717591440657",
         "0.07547482790080451",
         "0.05067595587625446",
         "0.024964750767189185"
        ],
        [
         "C2",
         "0.2028715271303375",
         "0.2189073279880664",
         "0.1556964385605072",
         "0.09397725153831811",
         "0.04139474174902107",
         "0.035987320529554355",
         "0.06395674063024427",
         "0.026477717695319782",
         "0.0824165578966996",
         "0.0533283609919821",
         "0.024986015289949655"
        ],
        [
         "C3",
         "0.2519133691581176",
         "0.21576290506432177",
         "0.09493567822830158",
         "0.16821364598599578",
         "0.07620908646800195",
         "0.01074743527112848",
         "0.02344894968246214",
         "0.03256798567008631",
         "0.05536557563914672",
         "0.04103566194430874",
         "0.02979970688812897"
        ],
        [
         "C4",
         "0.14464390818128312",
         "0.28619776339022956",
         "0.26854031783402",
         "0.12154208357857563",
         "0.03840494408475574",
         "0.010447321954090642",
         "0.023248969982342556",
         "0.013095938787522072",
         "0.04576221306650971",
         "0.031783402001177165",
         "0.01633313713949382"
        ],
        [
         "C5",
         "0.25865073437888975",
         "0.23437888971869555",
         "0.16243465272591487",
         "0.09833208862335076",
         "0.04356484939009211",
         "0.016056758775205376",
         "0.042818023400547675",
         "0.025267612646253424",
         "0.05638536221060493",
         "0.044062733383121735",
         "0.018048294747323872"
        ],
        [
         "C6",
         "0.1951854261548471",
         "0.2335718932986337",
         "0.1561483409238777",
         "0.1402081977878985",
         "0.05562784645413142",
         "0.017241379310344827",
         "0.04424202992843201",
         "0.04716981132075472",
         "0.05107351984385166",
         "0.043916720884840596",
         "0.015614834092387769"
        ]
       ],
       "shape": {
        "columns": 11,
        "rows": 6
       }
      },
      "text/html": [
       "<div>\n",
       "<style scoped>\n",
       "    .dataframe tbody tr th:only-of-type {\n",
       "        vertical-align: middle;\n",
       "    }\n",
       "\n",
       "    .dataframe tbody tr th {\n",
       "        vertical-align: top;\n",
       "    }\n",
       "\n",
       "    .dataframe thead th {\n",
       "        text-align: right;\n",
       "    }\n",
       "</style>\n",
       "<table border=\"1\" class=\"dataframe\">\n",
       "  <thead>\n",
       "    <tr style=\"text-align: right;\">\n",
       "      <th></th>\n",
       "      <th>FS01</th>\n",
       "      <th>FS02</th>\n",
       "      <th>FS03</th>\n",
       "      <th>FS04</th>\n",
       "      <th>FS05</th>\n",
       "      <th>FS06</th>\n",
       "      <th>FS07</th>\n",
       "      <th>FS08</th>\n",
       "      <th>FS09</th>\n",
       "      <th>FS10</th>\n",
       "      <th>FS11</th>\n",
       "    </tr>\n",
       "  </thead>\n",
       "  <tbody>\n",
       "    <tr>\n",
       "      <th>C1</th>\n",
       "      <td>0.201957</td>\n",
       "      <td>0.222360</td>\n",
       "      <td>0.145559</td>\n",
       "      <td>0.126483</td>\n",
       "      <td>0.041138</td>\n",
       "      <td>0.032761</td>\n",
       "      <td>0.056979</td>\n",
       "      <td>0.021647</td>\n",
       "      <td>0.075475</td>\n",
       "      <td>0.050676</td>\n",
       "      <td>0.024965</td>\n",
       "    </tr>\n",
       "    <tr>\n",
       "      <th>C2</th>\n",
       "      <td>0.202872</td>\n",
       "      <td>0.218907</td>\n",
       "      <td>0.155696</td>\n",
       "      <td>0.093977</td>\n",
       "      <td>0.041395</td>\n",
       "      <td>0.035987</td>\n",
       "      <td>0.063957</td>\n",
       "      <td>0.026478</td>\n",
       "      <td>0.082417</td>\n",
       "      <td>0.053328</td>\n",
       "      <td>0.024986</td>\n",
       "    </tr>\n",
       "    <tr>\n",
       "      <th>C3</th>\n",
       "      <td>0.251913</td>\n",
       "      <td>0.215763</td>\n",
       "      <td>0.094936</td>\n",
       "      <td>0.168214</td>\n",
       "      <td>0.076209</td>\n",
       "      <td>0.010747</td>\n",
       "      <td>0.023449</td>\n",
       "      <td>0.032568</td>\n",
       "      <td>0.055366</td>\n",
       "      <td>0.041036</td>\n",
       "      <td>0.029800</td>\n",
       "    </tr>\n",
       "    <tr>\n",
       "      <th>C4</th>\n",
       "      <td>0.144644</td>\n",
       "      <td>0.286198</td>\n",
       "      <td>0.268540</td>\n",
       "      <td>0.121542</td>\n",
       "      <td>0.038405</td>\n",
       "      <td>0.010447</td>\n",
       "      <td>0.023249</td>\n",
       "      <td>0.013096</td>\n",
       "      <td>0.045762</td>\n",
       "      <td>0.031783</td>\n",
       "      <td>0.016333</td>\n",
       "    </tr>\n",
       "    <tr>\n",
       "      <th>C5</th>\n",
       "      <td>0.258651</td>\n",
       "      <td>0.234379</td>\n",
       "      <td>0.162435</td>\n",
       "      <td>0.098332</td>\n",
       "      <td>0.043565</td>\n",
       "      <td>0.016057</td>\n",
       "      <td>0.042818</td>\n",
       "      <td>0.025268</td>\n",
       "      <td>0.056385</td>\n",
       "      <td>0.044063</td>\n",
       "      <td>0.018048</td>\n",
       "    </tr>\n",
       "    <tr>\n",
       "      <th>C6</th>\n",
       "      <td>0.195185</td>\n",
       "      <td>0.233572</td>\n",
       "      <td>0.156148</td>\n",
       "      <td>0.140208</td>\n",
       "      <td>0.055628</td>\n",
       "      <td>0.017241</td>\n",
       "      <td>0.044242</td>\n",
       "      <td>0.047170</td>\n",
       "      <td>0.051074</td>\n",
       "      <td>0.043917</td>\n",
       "      <td>0.015615</td>\n",
       "    </tr>\n",
       "  </tbody>\n",
       "</table>\n",
       "</div>"
      ],
      "text/plain": [
       "        FS01      FS02      FS03      FS04      FS05      FS06      FS07  \\\n",
       "C1  0.201957  0.222360  0.145559  0.126483  0.041138  0.032761  0.056979   \n",
       "C2  0.202872  0.218907  0.155696  0.093977  0.041395  0.035987  0.063957   \n",
       "C3  0.251913  0.215763  0.094936  0.168214  0.076209  0.010747  0.023449   \n",
       "C4  0.144644  0.286198  0.268540  0.121542  0.038405  0.010447  0.023249   \n",
       "C5  0.258651  0.234379  0.162435  0.098332  0.043565  0.016057  0.042818   \n",
       "C6  0.195185  0.233572  0.156148  0.140208  0.055628  0.017241  0.044242   \n",
       "\n",
       "        FS08      FS09      FS10      FS11  \n",
       "C1  0.021647  0.075475  0.050676  0.024965  \n",
       "C2  0.026478  0.082417  0.053328  0.024986  \n",
       "C3  0.032568  0.055366  0.041036  0.029800  \n",
       "C4  0.013096  0.045762  0.031783  0.016333  \n",
       "C5  0.025268  0.056385  0.044063  0.018048  \n",
       "C6  0.047170  0.051074  0.043917  0.015615  "
      ]
     },
     "metadata": {},
     "output_type": "display_data"
    }
   ],
   "source": [
    "row_sum = np.sum(X, axis=1)\n",
    "row_profile = X / row_sum[:, np.newaxis]\n",
    "\n",
    "print(\"Profil ligne:\")\n",
    "display(pd.DataFrame(row_profile, index=row_names, columns=col_names))"
   ]
  },
  {
   "cell_type": "code",
   "execution_count": 7,
   "id": "a8a3395b",
   "metadata": {},
   "outputs": [
    {
     "name": "stdout",
     "output_type": "stream",
     "text": [
      "Profil colonne:\n"
     ]
    },
    {
     "data": {
      "application/vnd.microsoft.datawrangler.viewer.v0+json": {
       "columns": [
        {
         "name": "index",
         "rawType": "object",
         "type": "string"
        },
        {
         "name": "FS01",
         "rawType": "float64",
         "type": "float"
        },
        {
         "name": "FS02",
         "rawType": "float64",
         "type": "float"
        },
        {
         "name": "FS03",
         "rawType": "float64",
         "type": "float"
        },
        {
         "name": "FS04",
         "rawType": "float64",
         "type": "float"
        },
        {
         "name": "FS05",
         "rawType": "float64",
         "type": "float"
        },
        {
         "name": "FS06",
         "rawType": "float64",
         "type": "float"
        },
        {
         "name": "FS07",
         "rawType": "float64",
         "type": "float"
        },
        {
         "name": "FS08",
         "rawType": "float64",
         "type": "float"
        },
        {
         "name": "FS09",
         "rawType": "float64",
         "type": "float"
        },
        {
         "name": "FS10",
         "rawType": "float64",
         "type": "float"
        },
        {
         "name": "FS11",
         "rawType": "float64",
         "type": "float"
        }
       ],
       "conversionMethod": "pd.DataFrame",
       "ref": "d6f311e7-1989-46ac-8cc3-1a7feceeb942",
       "rows": [
        [
         "C1",
         "0.27889130683770474",
         "0.27565288916306807",
         "0.25873507297655907",
         "0.29849285574476414",
         "0.25203252032520324",
         "0.4355016538037486",
         "0.3791390728476821",
         "0.25096153846153846",
         "0.3482587064676617",
         "0.3295577130528587",
         "0.3264642082429501"
        ],
        [
         "C2",
         "0.12461344634062536",
         "0.12070738227431627",
         "0.12310187232787852",
         "0.09864944216089254",
         "0.11280487804878049",
         "0.2127894156560088",
         "0.18929359823399558",
         "0.13653846153846153",
         "0.1691542288557214",
         "0.15426105717367852",
         "0.14533622559652928"
        ],
        [
         "C3",
         "0.17718474401557668",
         "0.13623277812050175",
         "0.08595016954150081",
         "0.2021922098257976",
         "0.23780487804878048",
         "0.07276736493936053",
         "0.07947019867549669",
         "0.19230769230769232",
         "0.13011863758132414",
         "0.13592233009708737",
         "0.1984815618221258"
        ],
        [
         "C4",
         "0.11258733249341427",
         "0.19997943656179312",
         "0.26905499041721953",
         "0.1616754746525739",
         "0.1326219512195122",
         "0.0782800441014333",
         "0.08719646799116998",
         "0.08557692307692308",
         "0.11902028319938768",
         "0.11650485436893204",
         "0.12039045553145336"
        ],
        [
         "C5",
         "0.23800251975718703",
         "0.193604770717664",
         "0.19239274657231314",
         "0.15462908592679586",
         "0.17784552845528456",
         "0.1422271223814774",
         "0.18984547461368653",
         "0.1951923076923077",
         "0.17336394948335246",
         "0.19093851132686085",
         "0.15726681127982647"
        ],
        [
         "C6",
         "0.06872065055549192",
         "0.0738227431626568",
         "0.07076514816452897",
         "0.08436093168917597",
         "0.08689024390243902",
         "0.05843439911797133",
         "0.07505518763796909",
         "0.13942307692307693",
         "0.060084194412552624",
         "0.07281553398058252",
         "0.052060737527114966"
        ]
       ],
       "shape": {
        "columns": 11,
        "rows": 6
       }
      },
      "text/html": [
       "<div>\n",
       "<style scoped>\n",
       "    .dataframe tbody tr th:only-of-type {\n",
       "        vertical-align: middle;\n",
       "    }\n",
       "\n",
       "    .dataframe tbody tr th {\n",
       "        vertical-align: top;\n",
       "    }\n",
       "\n",
       "    .dataframe thead th {\n",
       "        text-align: right;\n",
       "    }\n",
       "</style>\n",
       "<table border=\"1\" class=\"dataframe\">\n",
       "  <thead>\n",
       "    <tr style=\"text-align: right;\">\n",
       "      <th></th>\n",
       "      <th>FS01</th>\n",
       "      <th>FS02</th>\n",
       "      <th>FS03</th>\n",
       "      <th>FS04</th>\n",
       "      <th>FS05</th>\n",
       "      <th>FS06</th>\n",
       "      <th>FS07</th>\n",
       "      <th>FS08</th>\n",
       "      <th>FS09</th>\n",
       "      <th>FS10</th>\n",
       "      <th>FS11</th>\n",
       "    </tr>\n",
       "  </thead>\n",
       "  <tbody>\n",
       "    <tr>\n",
       "      <th>C1</th>\n",
       "      <td>0.278891</td>\n",
       "      <td>0.275653</td>\n",
       "      <td>0.258735</td>\n",
       "      <td>0.298493</td>\n",
       "      <td>0.252033</td>\n",
       "      <td>0.435502</td>\n",
       "      <td>0.379139</td>\n",
       "      <td>0.250962</td>\n",
       "      <td>0.348259</td>\n",
       "      <td>0.329558</td>\n",
       "      <td>0.326464</td>\n",
       "    </tr>\n",
       "    <tr>\n",
       "      <th>C2</th>\n",
       "      <td>0.124613</td>\n",
       "      <td>0.120707</td>\n",
       "      <td>0.123102</td>\n",
       "      <td>0.098649</td>\n",
       "      <td>0.112805</td>\n",
       "      <td>0.212789</td>\n",
       "      <td>0.189294</td>\n",
       "      <td>0.136538</td>\n",
       "      <td>0.169154</td>\n",
       "      <td>0.154261</td>\n",
       "      <td>0.145336</td>\n",
       "    </tr>\n",
       "    <tr>\n",
       "      <th>C3</th>\n",
       "      <td>0.177185</td>\n",
       "      <td>0.136233</td>\n",
       "      <td>0.085950</td>\n",
       "      <td>0.202192</td>\n",
       "      <td>0.237805</td>\n",
       "      <td>0.072767</td>\n",
       "      <td>0.079470</td>\n",
       "      <td>0.192308</td>\n",
       "      <td>0.130119</td>\n",
       "      <td>0.135922</td>\n",
       "      <td>0.198482</td>\n",
       "    </tr>\n",
       "    <tr>\n",
       "      <th>C4</th>\n",
       "      <td>0.112587</td>\n",
       "      <td>0.199979</td>\n",
       "      <td>0.269055</td>\n",
       "      <td>0.161675</td>\n",
       "      <td>0.132622</td>\n",
       "      <td>0.078280</td>\n",
       "      <td>0.087196</td>\n",
       "      <td>0.085577</td>\n",
       "      <td>0.119020</td>\n",
       "      <td>0.116505</td>\n",
       "      <td>0.120390</td>\n",
       "    </tr>\n",
       "    <tr>\n",
       "      <th>C5</th>\n",
       "      <td>0.238003</td>\n",
       "      <td>0.193605</td>\n",
       "      <td>0.192393</td>\n",
       "      <td>0.154629</td>\n",
       "      <td>0.177846</td>\n",
       "      <td>0.142227</td>\n",
       "      <td>0.189845</td>\n",
       "      <td>0.195192</td>\n",
       "      <td>0.173364</td>\n",
       "      <td>0.190939</td>\n",
       "      <td>0.157267</td>\n",
       "    </tr>\n",
       "    <tr>\n",
       "      <th>C6</th>\n",
       "      <td>0.068721</td>\n",
       "      <td>0.073823</td>\n",
       "      <td>0.070765</td>\n",
       "      <td>0.084361</td>\n",
       "      <td>0.086890</td>\n",
       "      <td>0.058434</td>\n",
       "      <td>0.075055</td>\n",
       "      <td>0.139423</td>\n",
       "      <td>0.060084</td>\n",
       "      <td>0.072816</td>\n",
       "      <td>0.052061</td>\n",
       "    </tr>\n",
       "  </tbody>\n",
       "</table>\n",
       "</div>"
      ],
      "text/plain": [
       "        FS01      FS02      FS03      FS04      FS05      FS06      FS07  \\\n",
       "C1  0.278891  0.275653  0.258735  0.298493  0.252033  0.435502  0.379139   \n",
       "C2  0.124613  0.120707  0.123102  0.098649  0.112805  0.212789  0.189294   \n",
       "C3  0.177185  0.136233  0.085950  0.202192  0.237805  0.072767  0.079470   \n",
       "C4  0.112587  0.199979  0.269055  0.161675  0.132622  0.078280  0.087196   \n",
       "C5  0.238003  0.193605  0.192393  0.154629  0.177846  0.142227  0.189845   \n",
       "C6  0.068721  0.073823  0.070765  0.084361  0.086890  0.058434  0.075055   \n",
       "\n",
       "        FS08      FS09      FS10      FS11  \n",
       "C1  0.250962  0.348259  0.329558  0.326464  \n",
       "C2  0.136538  0.169154  0.154261  0.145336  \n",
       "C3  0.192308  0.130119  0.135922  0.198482  \n",
       "C4  0.085577  0.119020  0.116505  0.120390  \n",
       "C5  0.195192  0.173364  0.190939  0.157267  \n",
       "C6  0.139423  0.060084  0.072816  0.052061  "
      ]
     },
     "metadata": {},
     "output_type": "display_data"
    }
   ],
   "source": [
    "col_sum = np.sum(X, axis=0)\n",
    "col_profile = X / col_sum[np.newaxis, :]\n",
    "\n",
    "print(\"Profil colonne:\")\n",
    "display(pd.DataFrame(col_profile, index=row_names, columns=col_names))"
   ]
  },
  {
   "cell_type": "code",
   "execution_count": 8,
   "id": "0a9d1540",
   "metadata": {},
   "outputs": [
    {
     "data": {
      "image/png": "[encoded data removed]",
      "text/plain": [
       "<Figure size 1000x600 with 1 Axes>"
      ]
     },
     "metadata": {},
     "output_type": "display_data"
    }
   ],
   "source": [
    "total_FS = data_pt[col_names].sum()\n",
    "\n",
    "prop_FS = total_FS\n",
    "prop_FS = prop_FS.sort_values(ascending=False)\n",
    "\n",
    "fig, ax = plt.subplots(figsize=(10,6))\n",
    "ax.bar(prop_FS.index, prop_FS)\n",
    "\n",
    "plt.show()"
   ]
  },
  {
   "cell_type": "code",
   "execution_count": 9,
   "id": "0c1763f2",
   "metadata": {},
   "outputs": [
    {
     "data": {
      "image/png": "[encoded data removed]",
      "text/plain": [
       "<Figure size 1000x600 with 1 Axes>"
      ]
     },
     "metadata": {},
     "output_type": "display_data"
    }
   ],
   "source": [
    "total_skill = data_pt[col_names].sum()\n",
    "\n",
    "prop_FS = total_FS / total_FS.sum()\n",
    "prop_FS = prop_FS.sort_values(ascending=False)\n",
    "\n",
    "fig, ax = plt.subplots(figsize=(10,6))\n",
    "ax.bar(prop_FS.index, prop_FS)\n",
    "\n",
    "plt.show()"
   ]
  },
  {
   "cell_type": "code",
   "execution_count": 10,
   "id": "414647cf",
   "metadata": {},
   "outputs": [
    {
     "data": {
      "application/vnd.microsoft.datawrangler.viewer.v0+json": {
       "columns": [
        {
         "name": "code",
         "rawType": "object",
         "type": "string"
        },
        {
         "name": "FS01",
         "rawType": "int64",
         "type": "integer"
        },
        {
         "name": "FS02",
         "rawType": "int64",
         "type": "integer"
        },
        {
         "name": "FS03",
         "rawType": "int64",
         "type": "integer"
        },
        {
         "name": "FS04",
         "rawType": "int64",
         "type": "integer"
        },
        {
         "name": "FS05",
         "rawType": "int64",
         "type": "integer"
        },
        {
         "name": "FS06",
         "rawType": "int64",
         "type": "integer"
        },
        {
         "name": "FS07",
         "rawType": "int64",
         "type": "integer"
        },
        {
         "name": "FS08",
         "rawType": "int64",
         "type": "integer"
        },
        {
         "name": "FS09",
         "rawType": "int64",
         "type": "integer"
        },
        {
         "name": "FS10",
         "rawType": "int64",
         "type": "integer"
        },
        {
         "name": "FS11",
         "rawType": "int64",
         "type": "integer"
        }
       ],
       "conversionMethod": "pd.DataFrame",
       "ref": "4481a985-dfd5-4d69-9053-3ef2f1acb408",
       "rows": [
        [
         "C1",
         "2435",
         "2681",
         "1755",
         "1525",
         "496",
         "395",
         "687",
         "261",
         "910",
         "611",
         "301"
        ],
        [
         "C2",
         "1088",
         "1174",
         "835",
         "504",
         "222",
         "193",
         "343",
         "142",
         "442",
         "286",
         "134"
        ],
        [
         "C3",
         "1547",
         "1325",
         "583",
         "1033",
         "468",
         "66",
         "144",
         "200",
         "340",
         "252",
         "183"
        ],
        [
         "C4",
         "983",
         "1945",
         "1825",
         "826",
         "261",
         "71",
         "158",
         "89",
         "311",
         "216",
         "111"
        ],
        [
         "C5",
         "2078",
         "1883",
         "1305",
         "790",
         "350",
         "129",
         "344",
         "203",
         "453",
         "354",
         "145"
        ],
        [
         "C6",
         "600",
         "718",
         "480",
         "431",
         "171",
         "53",
         "136",
         "145",
         "157",
         "135",
         "48"
        ]
       ],
       "shape": {
        "columns": 11,
        "rows": 6
       }
      },
      "text/html": [
       "<div>\n",
       "<style scoped>\n",
       "    .dataframe tbody tr th:only-of-type {\n",
       "        vertical-align: middle;\n",
       "    }\n",
       "\n",
       "    .dataframe tbody tr th {\n",
       "        vertical-align: top;\n",
       "    }\n",
       "\n",
       "    .dataframe thead th {\n",
       "        text-align: right;\n",
       "    }\n",
       "</style>\n",
       "<table border=\"1\" class=\"dataframe\">\n",
       "  <thead>\n",
       "    <tr style=\"text-align: right;\">\n",
       "      <th>code.2</th>\n",
       "      <th>FS01</th>\n",
       "      <th>FS02</th>\n",
       "      <th>FS03</th>\n",
       "      <th>FS04</th>\n",
       "      <th>FS05</th>\n",
       "      <th>FS06</th>\n",
       "      <th>FS07</th>\n",
       "      <th>FS08</th>\n",
       "      <th>FS09</th>\n",
       "      <th>FS10</th>\n",
       "      <th>FS11</th>\n",
       "    </tr>\n",
       "    <tr>\n",
       "      <th>code</th>\n",
       "      <th></th>\n",
       "      <th></th>\n",
       "      <th></th>\n",
       "      <th></th>\n",
       "      <th></th>\n",
       "      <th></th>\n",
       "      <th></th>\n",
       "      <th></th>\n",
       "      <th></th>\n",
       "      <th></th>\n",
       "      <th></th>\n",
       "    </tr>\n",
       "  </thead>\n",
       "  <tbody>\n",
       "    <tr>\n",
       "      <th>C1</th>\n",
       "      <td>2435</td>\n",
       "      <td>2681</td>\n",
       "      <td>1755</td>\n",
       "      <td>1525</td>\n",
       "      <td>496</td>\n",
       "      <td>395</td>\n",
       "      <td>687</td>\n",
       "      <td>261</td>\n",
       "      <td>910</td>\n",
       "      <td>611</td>\n",
       "      <td>301</td>\n",
       "    </tr>\n",
       "    <tr>\n",
       "      <th>C2</th>\n",
       "      <td>1088</td>\n",
       "      <td>1174</td>\n",
       "      <td>835</td>\n",
       "      <td>504</td>\n",
       "      <td>222</td>\n",
       "      <td>193</td>\n",
       "      <td>343</td>\n",
       "      <td>142</td>\n",
       "      <td>442</td>\n",
       "      <td>286</td>\n",
       "      <td>134</td>\n",
       "    </tr>\n",
       "    <tr>\n",
       "      <th>C3</th>\n",
       "      <td>1547</td>\n",
       "      <td>1325</td>\n",
       "      <td>583</td>\n",
       "      <td>1033</td>\n",
       "      <td>468</td>\n",
       "      <td>66</td>\n",
       "      <td>144</td>\n",
       "      <td>200</td>\n",
       "      <td>340</td>\n",
       "      <td>252</td>\n",
       "      <td>183</td>\n",
       "    </tr>\n",
       "    <tr>\n",
       "      <th>C4</th>\n",
       "      <td>983</td>\n",
       "      <td>1945</td>\n",
       "      <td>1825</td>\n",
       "      <td>826</td>\n",
       "      <td>261</td>\n",
       "      <td>71</td>\n",
       "      <td>158</td>\n",
       "      <td>89</td>\n",
       "      <td>311</td>\n",
       "      <td>216</td>\n",
       "      <td>111</td>\n",
       "    </tr>\n",
       "    <tr>\n",
       "      <th>C5</th>\n",
       "      <td>2078</td>\n",
       "      <td>1883</td>\n",
       "      <td>1305</td>\n",
       "      <td>790</td>\n",
       "      <td>350</td>\n",
       "      <td>129</td>\n",
       "      <td>344</td>\n",
       "      <td>203</td>\n",
       "      <td>453</td>\n",
       "      <td>354</td>\n",
       "      <td>145</td>\n",
       "    </tr>\n",
       "    <tr>\n",
       "      <th>C6</th>\n",
       "      <td>600</td>\n",
       "      <td>718</td>\n",
       "      <td>480</td>\n",
       "      <td>431</td>\n",
       "      <td>171</td>\n",
       "      <td>53</td>\n",
       "      <td>136</td>\n",
       "      <td>145</td>\n",
       "      <td>157</td>\n",
       "      <td>135</td>\n",
       "      <td>48</td>\n",
       "    </tr>\n",
       "  </tbody>\n",
       "</table>\n",
       "</div>"
      ],
      "text/plain": [
       "code.2  FS01  FS02  FS03  FS04  FS05  FS06  FS07  FS08  FS09  FS10  FS11\n",
       "code                                                                    \n",
       "C1      2435  2681  1755  1525   496   395   687   261   910   611   301\n",
       "C2      1088  1174   835   504   222   193   343   142   442   286   134\n",
       "C3      1547  1325   583  1033   468    66   144   200   340   252   183\n",
       "C4       983  1945  1825   826   261    71   158    89   311   216   111\n",
       "C5      2078  1883  1305   790   350   129   344   203   453   354   145\n",
       "C6       600   718   480   431   171    53   136   145   157   135    48"
      ]
     },
     "execution_count": 10,
     "metadata": {},
     "output_type": "execute_result"
    }
   ],
   "source": [
    "data_pt"
   ]
  },
  {
   "cell_type": "code",
   "execution_count": 11,
   "id": "9ca2f3d0",
   "metadata": {},
   "outputs": [],
   "source": [
    "my_ca = CA(row_labels=data_pt.index.values, col_labels=data_pt.columns.values,stats=True)"
   ]
  },
  {
   "cell_type": "code",
   "execution_count": 12,
   "id": "4b480922",
   "metadata": {},
   "outputs": [
    {
     "data": {
      "text/html": [
       "<style>#sk-container-id-1 {color: black;background-color: white;}#sk-container-id-1 pre{padding: 0;}#sk-container-id-1 div.sk-toggleable {background-color: white;}#sk-container-id-1 label.sk-toggleable__label {cursor: pointer;display: block;width: 100%;margin-bottom: 0;padding: 0.3em;box-sizing: border-box;text-align: center;}#sk-container-id-1 label.sk-toggleable__label-arrow:before {content: \"▸\";float: left;margin-right: 0.25em;color: #696969;}#sk-container-id-1 label.sk-toggleable__label-arrow:hover:before {color: black;}#sk-container-id-1 div.sk-estimator:hover label.sk-toggleable__label-arrow:before {color: black;}#sk-container-id-1 div.sk-toggleable__content {max-height: 0;max-width: 0;overflow: hidden;text-align: left;background-color: #f0f8ff;}#sk-container-id-1 div.sk-toggleable__content pre {margin: 0.2em;color: black;border-radius: 0.25em;background-color: #f0f8ff;}#sk-container-id-1 input.sk-toggleable__control:checked~div.sk-toggleable__content {max-height: 200px;max-width: 100%;overflow: auto;}#sk-container-id-1 input.sk-toggleable__control:checked~label.sk-toggleable__label-arrow:before {content: \"▾\";}#sk-container-id-1 div.sk-estimator input.sk-toggleable__control:checked~label.sk-toggleable__label {background-color: #d4ebff;}#sk-container-id-1 div.sk-label input.sk-toggleable__control:checked~label.sk-toggleable__label {background-color: #d4ebff;}#sk-container-id-1 input.sk-hidden--visually {border: 0;clip: rect(1px 1px 1px 1px);clip: rect(1px, 1px, 1px, 1px);height: 1px;margin: -1px;overflow: hidden;padding: 0;position: absolute;width: 1px;}#sk-container-id-1 div.sk-estimator {font-family: monospace;background-color: #f0f8ff;border: 1px dotted black;border-radius: 0.25em;box-sizing: border-box;margin-bottom: 0.5em;}#sk-container-id-1 div.sk-estimator:hover {background-color: #d4ebff;}#sk-container-id-1 div.sk-parallel-item::after {content: \"\";width: 100%;border-bottom: 1px solid gray;flex-grow: 1;}#sk-container-id-1 div.sk-label:hover label.sk-toggleable__label {background-color: #d4ebff;}#sk-container-id-1 div.sk-serial::before {content: \"\";position: absolute;border-left: 1px solid gray;box-sizing: border-box;top: 0;bottom: 0;left: 50%;z-index: 0;}#sk-container-id-1 div.sk-serial {display: flex;flex-direction: column;align-items: center;background-color: white;padding-right: 0.2em;padding-left: 0.2em;position: relative;}#sk-container-id-1 div.sk-item {position: relative;z-index: 1;}#sk-container-id-1 div.sk-parallel {display: flex;align-items: stretch;justify-content: center;background-color: white;position: relative;}#sk-container-id-1 div.sk-item::before, #sk-container-id-1 div.sk-parallel-item::before {content: \"\";position: absolute;border-left: 1px solid gray;box-sizing: border-box;top: 0;bottom: 0;left: 50%;z-index: -1;}#sk-container-id-1 div.sk-parallel-item {display: flex;flex-direction: column;z-index: 1;position: relative;background-color: white;}#sk-container-id-1 div.sk-parallel-item:first-child::after {align-self: flex-end;width: 50%;}#sk-container-id-1 div.sk-parallel-item:last-child::after {align-self: flex-start;width: 50%;}#sk-container-id-1 div.sk-parallel-item:only-child::after {width: 0;}#sk-container-id-1 div.sk-dashed-wrapped {border: 1px dashed gray;margin: 0 0.4em 0.5em 0.4em;box-sizing: border-box;padding-bottom: 0.4em;background-color: white;}#sk-container-id-1 div.sk-label label {font-family: monospace;font-weight: bold;display: inline-block;line-height: 1.2em;}#sk-container-id-1 div.sk-label-container {text-align: center;}#sk-container-id-1 div.sk-container {/* jupyter's `normalize.less` sets `[hidden] { display: none; }` but bootstrap.min.css set `[hidden] { display: none !important; }` so we also need the `!important` here to be able to override the default hidden behavior on the sphinx rendered scikit-learn.org. See: https://github.com/scikit-learn/scikit-learn/issues/21755 */display: inline-block !important;position: relative;}#sk-container-id-1 div.sk-text-repr-fallback {display: none;}</style><div id=\"sk-container-id-1\" class=\"sk-top-container\"><div class=\"sk-text-repr-fallback\"><pre>CA(col_labels=array([&#x27;FS01&#x27;, &#x27;FS02&#x27;, &#x27;FS03&#x27;, &#x27;FS04&#x27;, &#x27;FS05&#x27;, &#x27;FS06&#x27;, &#x27;FS07&#x27;, &#x27;FS08&#x27;,\n",
       "       &#x27;FS09&#x27;, &#x27;FS10&#x27;, &#x27;FS11&#x27;], dtype=object),\n",
       "   row_labels=array([&#x27;C1&#x27;, &#x27;C2&#x27;, &#x27;C3&#x27;, &#x27;C4&#x27;, &#x27;C5&#x27;, &#x27;C6&#x27;], dtype=object))</pre><b>In a Jupyter environment, please rerun this cell to show the HTML representation or trust the notebook. <br />On GitHub, the HTML representation is unable to render, please try loading this page with nbviewer.org.</b></div><div class=\"sk-container\" hidden><div class=\"sk-item\"><div class=\"sk-estimator sk-toggleable\"><input class=\"sk-toggleable__control sk-hidden--visually\" id=\"sk-estimator-id-1\" type=\"checkbox\" checked><label for=\"sk-estimator-id-1\" class=\"sk-toggleable__label sk-toggleable__label-arrow\">CA</label><div class=\"sk-toggleable__content\"><pre>CA(col_labels=array([&#x27;FS01&#x27;, &#x27;FS02&#x27;, &#x27;FS03&#x27;, &#x27;FS04&#x27;, &#x27;FS05&#x27;, &#x27;FS06&#x27;, &#x27;FS07&#x27;, &#x27;FS08&#x27;,\n",
       "       &#x27;FS09&#x27;, &#x27;FS10&#x27;, &#x27;FS11&#x27;], dtype=object),\n",
       "   row_labels=array([&#x27;C1&#x27;, &#x27;C2&#x27;, &#x27;C3&#x27;, &#x27;C4&#x27;, &#x27;C5&#x27;, &#x27;C6&#x27;], dtype=object))</pre></div></div></div></div></div>"
      ],
      "text/plain": [
       "CA(col_labels=array(['FS01', 'FS02', 'FS03', 'FS04', 'FS05', 'FS06', 'FS07', 'FS08',\n",
       "       'FS09', 'FS10', 'FS11'], dtype=object),\n",
       "   row_labels=array(['C1', 'C2', 'C3', 'C4', 'C5', 'C6'], dtype=object))"
      ]
     },
     "execution_count": 12,
     "metadata": {},
     "output_type": "execute_result"
    }
   ],
   "source": [
    "my_ca.fit(data_pt.values)\n"
   ]
  },
  {
   "cell_type": "code",
   "execution_count": 13,
   "id": "dacb9ccf",
   "metadata": {},
   "outputs": [
    {
     "data": {
      "text/plain": [
       "array([[2.81565386e-02, 1.59919614e-02, 4.75539116e-03, 1.94720468e-03,\n",
       "        3.67286800e-04],\n",
       "       [5.49735019e+01, 3.12230894e+01, 9.28453988e+00, 3.80176917e+00,\n",
       "        7.17099567e-01],\n",
       "       [5.49735019e+01, 8.61965914e+01, 9.54811313e+01, 9.92829004e+01,\n",
       "        1.00000000e+02]])"
      ]
     },
     "execution_count": 13,
     "metadata": {},
     "output_type": "execute_result"
    }
   ],
   "source": [
    "my_ca.eig_"
   ]
  },
  {
   "cell_type": "code",
   "execution_count": 14,
   "id": "8ea9f53c",
   "metadata": {},
   "outputs": [
    {
     "data": {
      "image/png": "[encoded data removed]",
      "text/plain": [
       "<Figure size 640x480 with 1 Axes>"
      ]
     },
     "metadata": {},
     "output_type": "display_data"
    }
   ],
   "source": [
    "# Graphique des valeurs propres\n",
    "my_ca.plot_eigenvalues(type=\"percentage\")"
   ]
  },
  {
   "cell_type": "code",
   "execution_count": 15,
   "id": "187e6d11",
   "metadata": {},
   "outputs": [
    {
     "data": {
      "image/png": "[encoded data removed]",
      "text/plain": [
       "<Figure size 640x480 with 1 Axes>"
      ]
     },
     "metadata": {},
     "output_type": "display_data"
    }
   ],
   "source": [
    "my_ca.plot_eigenvalues(type=\"cumulative\")\n"
   ]
  },
  {
   "cell_type": "code",
   "execution_count": 16,
   "id": "a0c85a3b",
   "metadata": {},
   "outputs": [
    {
     "name": "stdout",
     "output_type": "stream",
     "text": [
      "Premier axe factoriel\n"
     ]
    },
    {
     "data": {
      "image/png": "[encoded data removed]",
      "text/plain": [
       "<Figure size 640x480 with 1 Axes>"
      ]
     },
     "metadata": {},
     "output_type": "display_data"
    },
    {
     "name": "stdout",
     "output_type": "stream",
     "text": [
      "Second axe factoriel\n"
     ]
    },
    {
     "data": {
      "image/png": "[encoded data removed]",
      "text/plain": [
       "<Figure size 640x480 with 1 Axes>"
      ]
     },
     "metadata": {},
     "output_type": "display_data"
    }
   ],
   "source": [
    "# Classement des points colonnes en fonction de leur contribution au 1er axe\n",
    "print(\"Premier axe factoriel\")\n",
    "my_ca.plot_row_cos2(num_axis=1)\n",
    "print(\"Second axe factoriel\")\n",
    "my_ca.plot_row_cos2(num_axis=2)"
   ]
  },
  {
   "cell_type": "code",
   "execution_count": 17,
   "id": "6dc2b22c",
   "metadata": {},
   "outputs": [
    {
     "name": "stdout",
     "output_type": "stream",
     "text": [
      "Premier axe factoriel\n"
     ]
    },
    {
     "data": {
      "image/png": "[encoded data removed]",
      "text/plain": [
       "<Figure size 640x480 with 1 Axes>"
      ]
     },
     "metadata": {},
     "output_type": "display_data"
    },
    {
     "name": "stdout",
     "output_type": "stream",
     "text": [
      "Second axe factoriel\n"
     ]
    },
    {
     "data": {
      "image/png": "[encoded data removed]",
      "text/plain": [
       "<Figure size 640x480 with 1 Axes>"
      ]
     },
     "metadata": {},
     "output_type": "display_data"
    }
   ],
   "source": [
    "#### Profil colonne (les Candidats)\n",
    "\n",
    "print(\"Premier axe factoriel\")\n",
    "my_ca.plot_col_cos2(num_axis=1)\n",
    "print(\"Second axe factoriel\")\n",
    "my_ca.plot_col_cos2(num_axis=2)"
   ]
  },
  {
   "cell_type": "code",
   "execution_count": 18,
   "id": "8fdc9537",
   "metadata": {},
   "outputs": [
    {
     "name": "stdout",
     "output_type": "stream",
     "text": [
      "Premier axe\n"
     ]
    },
    {
     "data": {
      "image/png": "[encoded data removed]",
      "text/plain": [
       "<Figure size 640x480 with 1 Axes>"
      ]
     },
     "metadata": {},
     "output_type": "display_data"
    },
    {
     "name": "stdout",
     "output_type": "stream",
     "text": [
      "Second axe\n"
     ]
    },
    {
     "data": {
      "image/png": "[encoded data removed]",
      "text/plain": [
       "<Figure size 640x480 with 1 Axes>"
      ]
     },
     "metadata": {},
     "output_type": "display_data"
    }
   ],
   "source": [
    "# Analyse  du premier plan factoriel - les départements\n",
    "print(\"Premier axe\")\n",
    "my_ca.plot_row_contrib(num_axis=1)\n",
    "print(\"Second axe\")\n",
    "my_ca.plot_row_contrib(num_axis=2)"
   ]
  },
  {
   "cell_type": "code",
   "execution_count": 19,
   "id": "d9f1c5d7",
   "metadata": {},
   "outputs": [
    {
     "name": "stdout",
     "output_type": "stream",
     "text": [
      "Premier axe\n"
     ]
    },
    {
     "data": {
      "image/png": "[encoded data removed]",
      "text/plain": [
       "<Figure size 640x480 with 1 Axes>"
      ]
     },
     "metadata": {},
     "output_type": "display_data"
    },
    {
     "name": "stdout",
     "output_type": "stream",
     "text": [
      "Second axe\n"
     ]
    },
    {
     "data": {
      "image/png": "[encoded data removed]",
      "text/plain": [
       "<Figure size 640x480 with 1 Axes>"
      ]
     },
     "metadata": {},
     "output_type": "display_data"
    }
   ],
   "source": [
    "# Analyse  du premier plan factoriel - les départements\n",
    "print(\"Premier axe\")\n",
    "my_ca.plot_col_contrib(num_axis=1)\n",
    "print(\"Second axe\")\n",
    "my_ca.plot_col_contrib(num_axis=2)"
   ]
  },
  {
   "cell_type": "code",
   "execution_count": 20,
   "id": "bbe077b1",
   "metadata": {},
   "outputs": [
    {
     "data": {
      "application/vnd.microsoft.datawrangler.viewer.v0+json": {
       "columns": [
        {
         "name": "index",
         "rawType": "object",
         "type": "string"
        },
        {
         "name": "row_coord_dim1",
         "rawType": "float64",
         "type": "float"
        },
        {
         "name": "row_coord_dim2",
         "rawType": "float64",
         "type": "float"
        },
        {
         "name": "row_coord_dim3",
         "rawType": "float64",
         "type": "float"
        },
        {
         "name": "row_coord_dim4",
         "rawType": "float64",
         "type": "float"
        },
        {
         "name": "row_coord_dim5",
         "rawType": "float64",
         "type": "float"
        },
        {
         "name": "row_contrib_dim1",
         "rawType": "float64",
         "type": "float"
        },
        {
         "name": "row_contrib_dim2",
         "rawType": "float64",
         "type": "float"
        },
        {
         "name": "row_contrib_dim3",
         "rawType": "float64",
         "type": "float"
        },
        {
         "name": "row_contrib_dim4",
         "rawType": "float64",
         "type": "float"
        },
        {
         "name": "row_contrib_dim5",
         "rawType": "float64",
         "type": "float"
        },
        {
         "name": "row_cos2_dim1",
         "rawType": "float64",
         "type": "float"
        },
        {
         "name": "row_cos2_dim2",
         "rawType": "float64",
         "type": "float"
        },
        {
         "name": "row_cos2_dim3",
         "rawType": "float64",
         "type": "float"
        },
        {
         "name": "row_cos2_dim4",
         "rawType": "float64",
         "type": "float"
        },
        {
         "name": "row_cos2_dim5",
         "rawType": "float64",
         "type": "float"
        }
       ],
       "conversionMethod": "pd.DataFrame",
       "ref": "b498b5a6-dc1d-4cf3-a183-28da8cb7112f",
       "rows": [
        [
         "C1",
         "-0.059358243632254774",
         "0.10415290549099522",
         "-0.04785443096432763",
         "0.02030002428667204",
         "-0.018604739124172164",
         "3.6386510772730847",
         "19.7241654693875",
         "14.002824894337024",
         "6.153739417925369",
         "27.4030838703668",
         "0.20226760502917235",
         "0.6227403803589866",
         "0.13146452028471114",
         "0.023656874349430063",
         "0.01987061997770009"
        ],
        [
         "C2",
         "-0.052852085002505884",
         "0.1767245658898706",
         "0.0023227536960143155",
         "-0.016327599017298425",
         "0.040841443298069414",
         "1.283131341946926",
         "25.259121442085856",
         "0.014673921817318332",
         "1.7707578484606856",
         "58.7385158556735",
         "0.07766853254652371",
         "0.8683897671469293",
         "0.00015001240363730857",
         "0.007412513588722041",
         "0.04637917431418653"
        ],
        [
         "C3",
         "-0.1987955277520782",
         "-0.22662907698281548",
         "-0.03977944391252783",
         "0.027369603199804565",
         "0.012412256228018599",
         "20.786979320496563",
         "47.56494011329952",
         "4.928203094098054",
         "5.697480214383075",
         "6.212316466694236",
         "0.42327696553386185",
         "0.5501013048764044",
         "0.01694840489052678",
         "0.008023214762463256",
         "0.001650109936743491"
        ],
        [
         "C4",
         "0.35644672356159873",
         "-0.06602323828619579",
         "-0.027910428425699536",
         "0.01338311696318505",
         "0.004717214704481166",
         "73.9574095405991",
         "4.46749021977038",
         "2.684840314437887",
         "1.5075601302180726",
         "0.9929735198027272",
         "0.9596701317352319",
         "0.032925044260668744",
         "0.005883906056523035",
         "0.0013528426025496828",
         "0.0001680753450263574"
        ],
        [
         "C5",
         "-0.0155606701764238",
         "-0.016174799401136863",
         "0.13712588265813774",
         "0.005228427241623658",
         "-0.007856287912105698",
         "0.166620137724541",
         "0.31697589070067445",
         "76.61305558414404",
         "0.2720073823323549",
         "3.2559641812710463",
         "0.012483522979144263",
         "0.01348833602153433",
         "0.969436667316562",
         "0.0014093624866149516",
         "0.0031821111961417878"
        ],
        [
         "C6",
         "-0.025200422205331606",
         "-0.07585361120335579",
         "-0.03356556882316804",
         "-0.14906508129005966",
         "-0.01297324669143192",
         "0.1672085819597978",
         "2.6673068647560685",
         "1.756402191165689",
         "84.59845500668034",
         "3.3971461061916646",
         "0.021236536960909158",
         "0.19240687522647068",
         "0.03767524513337293",
         "0.7430531958778414",
         "0.005628146801405158"
        ]
       ],
       "shape": {
        "columns": 15,
        "rows": 6
       }
      },
      "text/html": [
       "<div>\n",
       "<style scoped>\n",
       "    .dataframe tbody tr th:only-of-type {\n",
       "        vertical-align: middle;\n",
       "    }\n",
       "\n",
       "    .dataframe tbody tr th {\n",
       "        vertical-align: top;\n",
       "    }\n",
       "\n",
       "    .dataframe thead th {\n",
       "        text-align: right;\n",
       "    }\n",
       "</style>\n",
       "<table border=\"1\" class=\"dataframe\">\n",
       "  <thead>\n",
       "    <tr style=\"text-align: right;\">\n",
       "      <th></th>\n",
       "      <th>row_coord_dim1</th>\n",
       "      <th>row_coord_dim2</th>\n",
       "      <th>row_coord_dim3</th>\n",
       "      <th>row_coord_dim4</th>\n",
       "      <th>row_coord_dim5</th>\n",
       "      <th>row_contrib_dim1</th>\n",
       "      <th>row_contrib_dim2</th>\n",
       "      <th>row_contrib_dim3</th>\n",
       "      <th>row_contrib_dim4</th>\n",
       "      <th>row_contrib_dim5</th>\n",
       "      <th>row_cos2_dim1</th>\n",
       "      <th>row_cos2_dim2</th>\n",
       "      <th>row_cos2_dim3</th>\n",
       "      <th>row_cos2_dim4</th>\n",
       "      <th>row_cos2_dim5</th>\n",
       "    </tr>\n",
       "  </thead>\n",
       "  <tbody>\n",
       "    <tr>\n",
       "      <th>C1</th>\n",
       "      <td>-0.059358</td>\n",
       "      <td>0.104153</td>\n",
       "      <td>-0.047854</td>\n",
       "      <td>0.020300</td>\n",
       "      <td>-0.018605</td>\n",
       "      <td>3.638651</td>\n",
       "      <td>19.724165</td>\n",
       "      <td>14.002825</td>\n",
       "      <td>6.153739</td>\n",
       "      <td>27.403084</td>\n",
       "      <td>0.202268</td>\n",
       "      <td>0.622740</td>\n",
       "      <td>0.131465</td>\n",
       "      <td>0.023657</td>\n",
       "      <td>0.019871</td>\n",
       "    </tr>\n",
       "    <tr>\n",
       "      <th>C2</th>\n",
       "      <td>-0.052852</td>\n",
       "      <td>0.176725</td>\n",
       "      <td>0.002323</td>\n",
       "      <td>-0.016328</td>\n",
       "      <td>0.040841</td>\n",
       "      <td>1.283131</td>\n",
       "      <td>25.259121</td>\n",
       "      <td>0.014674</td>\n",
       "      <td>1.770758</td>\n",
       "      <td>58.738516</td>\n",
       "      <td>0.077669</td>\n",
       "      <td>0.868390</td>\n",
       "      <td>0.000150</td>\n",
       "      <td>0.007413</td>\n",
       "      <td>0.046379</td>\n",
       "    </tr>\n",
       "    <tr>\n",
       "      <th>C3</th>\n",
       "      <td>-0.198796</td>\n",
       "      <td>-0.226629</td>\n",
       "      <td>-0.039779</td>\n",
       "      <td>0.027370</td>\n",
       "      <td>0.012412</td>\n",
       "      <td>20.786979</td>\n",
       "      <td>47.564940</td>\n",
       "      <td>4.928203</td>\n",
       "      <td>5.697480</td>\n",
       "      <td>6.212316</td>\n",
       "      <td>0.423277</td>\n",
       "      <td>0.550101</td>\n",
       "      <td>0.016948</td>\n",
       "      <td>0.008023</td>\n",
       "      <td>0.001650</td>\n",
       "    </tr>\n",
       "    <tr>\n",
       "      <th>C4</th>\n",
       "      <td>0.356447</td>\n",
       "      <td>-0.066023</td>\n",
       "      <td>-0.027910</td>\n",
       "      <td>0.013383</td>\n",
       "      <td>0.004717</td>\n",
       "      <td>73.957410</td>\n",
       "      <td>4.467490</td>\n",
       "      <td>2.684840</td>\n",
       "      <td>1.507560</td>\n",
       "      <td>0.992974</td>\n",
       "      <td>0.959670</td>\n",
       "      <td>0.032925</td>\n",
       "      <td>0.005884</td>\n",
       "      <td>0.001353</td>\n",
       "      <td>0.000168</td>\n",
       "    </tr>\n",
       "    <tr>\n",
       "      <th>C5</th>\n",
       "      <td>-0.015561</td>\n",
       "      <td>-0.016175</td>\n",
       "      <td>0.137126</td>\n",
       "      <td>0.005228</td>\n",
       "      <td>-0.007856</td>\n",
       "      <td>0.166620</td>\n",
       "      <td>0.316976</td>\n",
       "      <td>76.613056</td>\n",
       "      <td>0.272007</td>\n",
       "      <td>3.255964</td>\n",
       "      <td>0.012484</td>\n",
       "      <td>0.013488</td>\n",
       "      <td>0.969437</td>\n",
       "      <td>0.001409</td>\n",
       "      <td>0.003182</td>\n",
       "    </tr>\n",
       "    <tr>\n",
       "      <th>C6</th>\n",
       "      <td>-0.025200</td>\n",
       "      <td>-0.075854</td>\n",
       "      <td>-0.033566</td>\n",
       "      <td>-0.149065</td>\n",
       "      <td>-0.012973</td>\n",
       "      <td>0.167209</td>\n",
       "      <td>2.667307</td>\n",
       "      <td>1.756402</td>\n",
       "      <td>84.598455</td>\n",
       "      <td>3.397146</td>\n",
       "      <td>0.021237</td>\n",
       "      <td>0.192407</td>\n",
       "      <td>0.037675</td>\n",
       "      <td>0.743053</td>\n",
       "      <td>0.005628</td>\n",
       "    </tr>\n",
       "  </tbody>\n",
       "</table>\n",
       "</div>"
      ],
      "text/plain": [
       "    row_coord_dim1  row_coord_dim2  row_coord_dim3  row_coord_dim4  \\\n",
       "C1       -0.059358        0.104153       -0.047854        0.020300   \n",
       "C2       -0.052852        0.176725        0.002323       -0.016328   \n",
       "C3       -0.198796       -0.226629       -0.039779        0.027370   \n",
       "C4        0.356447       -0.066023       -0.027910        0.013383   \n",
       "C5       -0.015561       -0.016175        0.137126        0.005228   \n",
       "C6       -0.025200       -0.075854       -0.033566       -0.149065   \n",
       "\n",
       "    row_coord_dim5  row_contrib_dim1  row_contrib_dim2  row_contrib_dim3  \\\n",
       "C1       -0.018605          3.638651         19.724165         14.002825   \n",
       "C2        0.040841          1.283131         25.259121          0.014674   \n",
       "C3        0.012412         20.786979         47.564940          4.928203   \n",
       "C4        0.004717         73.957410          4.467490          2.684840   \n",
       "C5       -0.007856          0.166620          0.316976         76.613056   \n",
       "C6       -0.012973          0.167209          2.667307          1.756402   \n",
       "\n",
       "    row_contrib_dim4  row_contrib_dim5  row_cos2_dim1  row_cos2_dim2  \\\n",
       "C1          6.153739         27.403084       0.202268       0.622740   \n",
       "C2          1.770758         58.738516       0.077669       0.868390   \n",
       "C3          5.697480          6.212316       0.423277       0.550101   \n",
       "C4          1.507560          0.992974       0.959670       0.032925   \n",
       "C5          0.272007          3.255964       0.012484       0.013488   \n",
       "C6         84.598455          3.397146       0.021237       0.192407   \n",
       "\n",
       "    row_cos2_dim3  row_cos2_dim4  row_cos2_dim5  \n",
       "C1       0.131465       0.023657       0.019871  \n",
       "C2       0.000150       0.007413       0.046379  \n",
       "C3       0.016948       0.008023       0.001650  \n",
       "C4       0.005884       0.001353       0.000168  \n",
       "C5       0.969437       0.001409       0.003182  \n",
       "C6       0.037675       0.743053       0.005628  "
      ]
     },
     "execution_count": 20,
     "metadata": {},
     "output_type": "execute_result"
    }
   ],
   "source": [
    "info_skill=my_ca.row_topandas()\n",
    "info_skill"
   ]
  },
  {
   "cell_type": "code",
   "execution_count": 21,
   "id": "c49bf58e",
   "metadata": {},
   "outputs": [
    {
     "data": {
      "application/vnd.microsoft.datawrangler.viewer.v0+json": {
       "columns": [
        {
         "name": "index",
         "rawType": "object",
         "type": "string"
        },
        {
         "name": "col_coord_dim1",
         "rawType": "float64",
         "type": "float"
        },
        {
         "name": "col_coord_dim2",
         "rawType": "float64",
         "type": "float"
        },
        {
         "name": "col_coord_dim3",
         "rawType": "float64",
         "type": "float"
        },
        {
         "name": "col_coord_dim4",
         "rawType": "float64",
         "type": "float"
        },
        {
         "name": "col_coord_dim5",
         "rawType": "float64",
         "type": "float"
        },
        {
         "name": "col_contrib_dim1",
         "rawType": "float64",
         "type": "float"
        },
        {
         "name": "col_contrib_dim2",
         "rawType": "float64",
         "type": "float"
        },
        {
         "name": "col_contrib_dim3",
         "rawType": "float64",
         "type": "float"
        },
        {
         "name": "col_contrib_dim4",
         "rawType": "float64",
         "type": "float"
        },
        {
         "name": "col_contrib_dim5",
         "rawType": "float64",
         "type": "float"
        },
        {
         "name": "col_cos2_dim1",
         "rawType": "float64",
         "type": "float"
        },
        {
         "name": "col_cos2_dim2",
         "rawType": "float64",
         "type": "float"
        },
        {
         "name": "col_cos2_dim3",
         "rawType": "float64",
         "type": "float"
        },
        {
         "name": "col_cos2_dim4",
         "rawType": "float64",
         "type": "float"
        },
        {
         "name": "col_cos2_dim5",
         "rawType": "float64",
         "type": "float"
        }
       ],
       "conversionMethod": "pd.DataFrame",
       "ref": "3f0ae397-7c02-4577-97df-d259c7148313",
       "rows": [
        [
         "FS01",
         "-0.14104959666794292",
         "-0.04413553978560738",
         "0.10270179088189887",
         "0.02229097426007395",
         "-0.006798542266286657",
         "14.878075291576737",
         "2.5648234163525703",
         "46.70378796742752",
         "5.3731481475945895",
         "2.6497725793039653",
         "0.6040921192484773",
         "0.05914749521343001",
         "0.32026944440834476",
         "0.015087510093100666",
         "0.0014034310366463295"
        ],
        [
         "FS02",
         "0.09883637803454466",
         "-0.021879206202430054",
         "0.0023014743477668465",
         "0.000855236098704229",
         "-0.0022447369880101878",
         "8.137799315040809",
         "0.7021242691950318",
         "0.026126343150860383",
         "0.008810753250435125",
         "0.3217941912758215",
         "0.9522569898138548",
         "0.04666418102688578",
         "0.0005163364716800974",
         "7.130049960925028e-05",
         "0.0004911921879699882"
        ],
        [
         "FS03",
         "0.3109428960850916",
         "0.0235707335008718",
         "0.014248661880912589",
         "-0.007866233160982436",
         "0.006284396738839792",
         "56.1722942511409",
         "0.5683090986824931",
         "0.6983965140444557",
         "0.5198309979440987",
         "1.7589845132975221",
         "0.9911838530259427",
         "0.005695595461601294",
         "0.002081330755395059",
         "0.0006343465324859534",
         "0.0004048742245743067"
        ],
        [
         "FS04",
         "-0.05977456011465105",
         "-0.13343792332990037",
         "-0.1194698947926046",
         "0.008601141903213809",
         "-0.029289352134093668",
         "1.563535502268809",
         "13.718639651524429",
         "36.981536351594755",
         "0.46811747556263417",
         "28.778519169428495",
         "0.09766671652495788",
         "0.4867123415223366",
         "0.3901492462721282",
         "0.002022208983336354",
         "0.023449486697240146"
        ],
        [
         "FS05",
         "-0.15423880796670603",
         "-0.20506097447764654",
         "-0.05060128712798221",
         "-0.010526291481986751",
         "0.05066400056813168",
         "4.0100656351944695",
         "12.479802853871648",
         "2.555526014523828",
         "0.27007389248262553",
         "33.1693578247624",
         "0.3346984229661305",
         "0.5916057406558978",
         "0.03602379593130836",
         "0.001558895952508843",
         "0.0361131444941533"
        ],
        [
         "FS06",
         "-0.16296785623808857",
         "0.43153338558832016",
         "-0.11433208279716471",
         "0.009941602157879849",
         "-0.0007700577224883336",
         "2.063242423775948",
         "25.47139232131049",
         "6.012783983738408",
         "0.11102653143805181",
         "0.0035315621834301515",
         "0.11754115331596732",
         "0.8241662832300192",
         "0.05785251887193164",
         "0.0004374201665239598",
         "2.6244155566077134e-06"
        ],
        [
         "FS07",
         "-0.1315415908709613",
         "0.31955013097042206",
         "0.003113210238423679",
         "-0.050936079962318616",
         "-0.020361417354417734",
         "2.6854893839382328",
         "27.903121491185328",
         "0.008906502162264447",
         "5.822586601357034",
         "4.932728526553879",
         "0.14132639801815636",
         "0.83401739766049",
         "7.916149919422695e-05",
         "0.021190838793065797",
         "0.003386204029092336"
        ],
        [
         "FS08",
         "-0.21686717623296672",
         "-0.10040735806357327",
         "0.005151507064164962",
         "-0.23769298709721423",
         "0.018562956582749857",
         "4.189479361743449",
         "1.5811789215924628",
         "0.013996969715641145",
         "72.77342287509776",
         "2.353101424001218",
         "0.41262073095625934",
         "0.0884493151768001",
         "0.0002328262772616566",
         "0.4956739915371218",
         "0.003023136052555991"
        ],
        [
         "FS09",
         "-0.10290042194641143",
         "0.1696779732274405",
         "-0.04371921396313342",
         "0.031996205301187866",
         "0.024225044412194273",
         "2.369805961309288",
         "11.3450638018284",
         "2.532889152874235",
         "3.313165155679084",
         "10.068889694314482",
         "0.24681183114972624",
         "0.6710928301302661",
         "0.04455293847842788",
         "0.023863196225774545",
         "0.013679204015804068"
        ],
        [
         "FS10",
         "-0.10735502430866443",
         "0.11449071204898578",
         "-0.004822905651701983",
         "-0.00918460001966679",
         "-0.0020418584256858717",
         "1.8301789068080714",
         "3.664939750473596",
         "0.021870531944055402",
         "0.1937032697558052",
         "0.05075443440606587",
         "0.4657545435682242",
         "0.529727920236097",
         "0.0009400043930256973",
         "0.003409045886355281",
         "0.00016848591629633892"
        ],
        [
         "FS11",
         "-0.16307153745603895",
         "0.0020849569175834964",
         "-0.09749094979282837",
         "0.09879681011210154",
         "0.05126820884423912",
         "2.100033967203278",
         "0.0006044239834293874",
         "4.4441796688239545",
         "11.146114299837917",
         "15.91256608047268",
         "0.5484039655081594",
         "8.964755011487693e-05",
         "0.1960075760064087",
         "0.2012936616965682",
         "0.054205149238748584"
        ]
       ],
       "shape": {
        "columns": 15,
        "rows": 11
       }
      },
      "text/html": [
       "<div>\n",
       "<style scoped>\n",
       "    .dataframe tbody tr th:only-of-type {\n",
       "        vertical-align: middle;\n",
       "    }\n",
       "\n",
       "    .dataframe tbody tr th {\n",
       "        vertical-align: top;\n",
       "    }\n",
       "\n",
       "    .dataframe thead th {\n",
       "        text-align: right;\n",
       "    }\n",
       "</style>\n",
       "<table border=\"1\" class=\"dataframe\">\n",
       "  <thead>\n",
       "    <tr style=\"text-align: right;\">\n",
       "      <th></th>\n",
       "      <th>col_coord_dim1</th>\n",
       "      <th>col_coord_dim2</th>\n",
       "      <th>col_coord_dim3</th>\n",
       "      <th>col_coord_dim4</th>\n",
       "      <th>col_coord_dim5</th>\n",
       "      <th>col_contrib_dim1</th>\n",
       "      <th>col_contrib_dim2</th>\n",
       "      <th>col_contrib_dim3</th>\n",
       "      <th>col_contrib_dim4</th>\n",
       "      <th>col_contrib_dim5</th>\n",
       "      <th>col_cos2_dim1</th>\n",
       "      <th>col_cos2_dim2</th>\n",
       "      <th>col_cos2_dim3</th>\n",
       "      <th>col_cos2_dim4</th>\n",
       "      <th>col_cos2_dim5</th>\n",
       "    </tr>\n",
       "  </thead>\n",
       "  <tbody>\n",
       "    <tr>\n",
       "      <th>FS01</th>\n",
       "      <td>-0.141050</td>\n",
       "      <td>-0.044136</td>\n",
       "      <td>0.102702</td>\n",
       "      <td>0.022291</td>\n",
       "      <td>-0.006799</td>\n",
       "      <td>14.878075</td>\n",
       "      <td>2.564823</td>\n",
       "      <td>46.703788</td>\n",
       "      <td>5.373148</td>\n",
       "      <td>2.649773</td>\n",
       "      <td>0.604092</td>\n",
       "      <td>0.059147</td>\n",
       "      <td>0.320269</td>\n",
       "      <td>0.015088</td>\n",
       "      <td>0.001403</td>\n",
       "    </tr>\n",
       "    <tr>\n",
       "      <th>FS02</th>\n",
       "      <td>0.098836</td>\n",
       "      <td>-0.021879</td>\n",
       "      <td>0.002301</td>\n",
       "      <td>0.000855</td>\n",
       "      <td>-0.002245</td>\n",
       "      <td>8.137799</td>\n",
       "      <td>0.702124</td>\n",
       "      <td>0.026126</td>\n",
       "      <td>0.008811</td>\n",
       "      <td>0.321794</td>\n",
       "      <td>0.952257</td>\n",
       "      <td>0.046664</td>\n",
       "      <td>0.000516</td>\n",
       "      <td>0.000071</td>\n",
       "      <td>0.000491</td>\n",
       "    </tr>\n",
       "    <tr>\n",
       "      <th>FS03</th>\n",
       "      <td>0.310943</td>\n",
       "      <td>0.023571</td>\n",
       "      <td>0.014249</td>\n",
       "      <td>-0.007866</td>\n",
       "      <td>0.006284</td>\n",
       "      <td>56.172294</td>\n",
       "      <td>0.568309</td>\n",
       "      <td>0.698397</td>\n",
       "      <td>0.519831</td>\n",
       "      <td>1.758985</td>\n",
       "      <td>0.991184</td>\n",
       "      <td>0.005696</td>\n",
       "      <td>0.002081</td>\n",
       "      <td>0.000634</td>\n",
       "      <td>0.000405</td>\n",
       "    </tr>\n",
       "    <tr>\n",
       "      <th>FS04</th>\n",
       "      <td>-0.059775</td>\n",
       "      <td>-0.133438</td>\n",
       "      <td>-0.119470</td>\n",
       "      <td>0.008601</td>\n",
       "      <td>-0.029289</td>\n",
       "      <td>1.563536</td>\n",
       "      <td>13.718640</td>\n",
       "      <td>36.981536</td>\n",
       "      <td>0.468117</td>\n",
       "      <td>28.778519</td>\n",
       "      <td>0.097667</td>\n",
       "      <td>0.486712</td>\n",
       "      <td>0.390149</td>\n",
       "      <td>0.002022</td>\n",
       "      <td>0.023449</td>\n",
       "    </tr>\n",
       "    <tr>\n",
       "      <th>FS05</th>\n",
       "      <td>-0.154239</td>\n",
       "      <td>-0.205061</td>\n",
       "      <td>-0.050601</td>\n",
       "      <td>-0.010526</td>\n",
       "      <td>0.050664</td>\n",
       "      <td>4.010066</td>\n",
       "      <td>12.479803</td>\n",
       "      <td>2.555526</td>\n",
       "      <td>0.270074</td>\n",
       "      <td>33.169358</td>\n",
       "      <td>0.334698</td>\n",
       "      <td>0.591606</td>\n",
       "      <td>0.036024</td>\n",
       "      <td>0.001559</td>\n",
       "      <td>0.036113</td>\n",
       "    </tr>\n",
       "    <tr>\n",
       "      <th>FS06</th>\n",
       "      <td>-0.162968</td>\n",
       "      <td>0.431533</td>\n",
       "      <td>-0.114332</td>\n",
       "      <td>0.009942</td>\n",
       "      <td>-0.000770</td>\n",
       "      <td>2.063242</td>\n",
       "      <td>25.471392</td>\n",
       "      <td>6.012784</td>\n",
       "      <td>0.111027</td>\n",
       "      <td>0.003532</td>\n",
       "      <td>0.117541</td>\n",
       "      <td>0.824166</td>\n",
       "      <td>0.057853</td>\n",
       "      <td>0.000437</td>\n",
       "      <td>0.000003</td>\n",
       "    </tr>\n",
       "    <tr>\n",
       "      <th>FS07</th>\n",
       "      <td>-0.131542</td>\n",
       "      <td>0.319550</td>\n",
       "      <td>0.003113</td>\n",
       "      <td>-0.050936</td>\n",
       "      <td>-0.020361</td>\n",
       "      <td>2.685489</td>\n",
       "      <td>27.903121</td>\n",
       "      <td>0.008907</td>\n",
       "      <td>5.822587</td>\n",
       "      <td>4.932729</td>\n",
       "      <td>0.141326</td>\n",
       "      <td>0.834017</td>\n",
       "      <td>0.000079</td>\n",
       "      <td>0.021191</td>\n",
       "      <td>0.003386</td>\n",
       "    </tr>\n",
       "    <tr>\n",
       "      <th>FS08</th>\n",
       "      <td>-0.216867</td>\n",
       "      <td>-0.100407</td>\n",
       "      <td>0.005152</td>\n",
       "      <td>-0.237693</td>\n",
       "      <td>0.018563</td>\n",
       "      <td>4.189479</td>\n",
       "      <td>1.581179</td>\n",
       "      <td>0.013997</td>\n",
       "      <td>72.773423</td>\n",
       "      <td>2.353101</td>\n",
       "      <td>0.412621</td>\n",
       "      <td>0.088449</td>\n",
       "      <td>0.000233</td>\n",
       "      <td>0.495674</td>\n",
       "      <td>0.003023</td>\n",
       "    </tr>\n",
       "    <tr>\n",
       "      <th>FS09</th>\n",
       "      <td>-0.102900</td>\n",
       "      <td>0.169678</td>\n",
       "      <td>-0.043719</td>\n",
       "      <td>0.031996</td>\n",
       "      <td>0.024225</td>\n",
       "      <td>2.369806</td>\n",
       "      <td>11.345064</td>\n",
       "      <td>2.532889</td>\n",
       "      <td>3.313165</td>\n",
       "      <td>10.068890</td>\n",
       "      <td>0.246812</td>\n",
       "      <td>0.671093</td>\n",
       "      <td>0.044553</td>\n",
       "      <td>0.023863</td>\n",
       "      <td>0.013679</td>\n",
       "    </tr>\n",
       "    <tr>\n",
       "      <th>FS10</th>\n",
       "      <td>-0.107355</td>\n",
       "      <td>0.114491</td>\n",
       "      <td>-0.004823</td>\n",
       "      <td>-0.009185</td>\n",
       "      <td>-0.002042</td>\n",
       "      <td>1.830179</td>\n",
       "      <td>3.664940</td>\n",
       "      <td>0.021871</td>\n",
       "      <td>0.193703</td>\n",
       "      <td>0.050754</td>\n",
       "      <td>0.465755</td>\n",
       "      <td>0.529728</td>\n",
       "      <td>0.000940</td>\n",
       "      <td>0.003409</td>\n",
       "      <td>0.000168</td>\n",
       "    </tr>\n",
       "    <tr>\n",
       "      <th>FS11</th>\n",
       "      <td>-0.163072</td>\n",
       "      <td>0.002085</td>\n",
       "      <td>-0.097491</td>\n",
       "      <td>0.098797</td>\n",
       "      <td>0.051268</td>\n",
       "      <td>2.100034</td>\n",
       "      <td>0.000604</td>\n",
       "      <td>4.444180</td>\n",
       "      <td>11.146114</td>\n",
       "      <td>15.912566</td>\n",
       "      <td>0.548404</td>\n",
       "      <td>0.000090</td>\n",
       "      <td>0.196008</td>\n",
       "      <td>0.201294</td>\n",
       "      <td>0.054205</td>\n",
       "    </tr>\n",
       "  </tbody>\n",
       "</table>\n",
       "</div>"
      ],
      "text/plain": [
       "      col_coord_dim1  col_coord_dim2  col_coord_dim3  col_coord_dim4  \\\n",
       "FS01       -0.141050       -0.044136        0.102702        0.022291   \n",
       "FS02        0.098836       -0.021879        0.002301        0.000855   \n",
       "FS03        0.310943        0.023571        0.014249       -0.007866   \n",
       "FS04       -0.059775       -0.133438       -0.119470        0.008601   \n",
       "FS05       -0.154239       -0.205061       -0.050601       -0.010526   \n",
       "FS06       -0.162968        0.431533       -0.114332        0.009942   \n",
       "FS07       -0.131542        0.319550        0.003113       -0.050936   \n",
       "FS08       -0.216867       -0.100407        0.005152       -0.237693   \n",
       "FS09       -0.102900        0.169678       -0.043719        0.031996   \n",
       "FS10       -0.107355        0.114491       -0.004823       -0.009185   \n",
       "FS11       -0.163072        0.002085       -0.097491        0.098797   \n",
       "\n",
       "      col_coord_dim5  col_contrib_dim1  col_contrib_dim2  col_contrib_dim3  \\\n",
       "FS01       -0.006799         14.878075          2.564823         46.703788   \n",
       "FS02       -0.002245          8.137799          0.702124          0.026126   \n",
       "FS03        0.006284         56.172294          0.568309          0.698397   \n",
       "FS04       -0.029289          1.563536         13.718640         36.981536   \n",
       "FS05        0.050664          4.010066         12.479803          2.555526   \n",
       "FS06       -0.000770          2.063242         25.471392          6.012784   \n",
       "FS07       -0.020361          2.685489         27.903121          0.008907   \n",
       "FS08        0.018563          4.189479          1.581179          0.013997   \n",
       "FS09        0.024225          2.369806         11.345064          2.532889   \n",
       "FS10       -0.002042          1.830179          3.664940          0.021871   \n",
       "FS11        0.051268          2.100034          0.000604          4.444180   \n",
       "\n",
       "      col_contrib_dim4  col_contrib_dim5  col_cos2_dim1  col_cos2_dim2  \\\n",
       "FS01          5.373148          2.649773       0.604092       0.059147   \n",
       "FS02          0.008811          0.321794       0.952257       0.046664   \n",
       "FS03          0.519831          1.758985       0.991184       0.005696   \n",
       "FS04          0.468117         28.778519       0.097667       0.486712   \n",
       "FS05          0.270074         33.169358       0.334698       0.591606   \n",
       "FS06          0.111027          0.003532       0.117541       0.824166   \n",
       "FS07          5.822587          4.932729       0.141326       0.834017   \n",
       "FS08         72.773423          2.353101       0.412621       0.088449   \n",
       "FS09          3.313165         10.068890       0.246812       0.671093   \n",
       "FS10          0.193703          0.050754       0.465755       0.529728   \n",
       "FS11         11.146114         15.912566       0.548404       0.000090   \n",
       "\n",
       "      col_cos2_dim3  col_cos2_dim4  col_cos2_dim5  \n",
       "FS01       0.320269       0.015088       0.001403  \n",
       "FS02       0.000516       0.000071       0.000491  \n",
       "FS03       0.002081       0.000634       0.000405  \n",
       "FS04       0.390149       0.002022       0.023449  \n",
       "FS05       0.036024       0.001559       0.036113  \n",
       "FS06       0.057853       0.000437       0.000003  \n",
       "FS07       0.000079       0.021191       0.003386  \n",
       "FS08       0.000233       0.495674       0.003023  \n",
       "FS09       0.044553       0.023863       0.013679  \n",
       "FS10       0.000940       0.003409       0.000168  \n",
       "FS11       0.196008       0.201294       0.054205  "
      ]
     },
     "execution_count": 21,
     "metadata": {},
     "output_type": "execute_result"
    }
   ],
   "source": [
    "info_FS=my_ca.col_topandas()\n",
    "info_FS"
   ]
  },
  {
   "cell_type": "code",
   "execution_count": 22,
   "id": "0ca80edd",
   "metadata": {},
   "outputs": [
    {
     "data": {
      "image/png": "[encoded data removed]",
      "text/plain": [
       "<Figure size 640x480 with 1 Axes>"
      ]
     },
     "metadata": {},
     "output_type": "display_data"
    }
   ],
   "source": [
    "# Graphique des compétences (en ligne)\n",
    "my_ca.mapping_row(num_x_axis=1,num_y_axis=2)"
   ]
  },
  {
   "cell_type": "code",
   "execution_count": 23,
   "id": "0a5a28de",
   "metadata": {},
   "outputs": [
    {
     "data": {
      "image/png": "[encoded data removed]",
      "text/plain": [
       "<Figure size 640x480 with 1 Axes>"
      ]
     },
     "metadata": {},
     "output_type": "display_data"
    }
   ],
   "source": [
    "# Graphique des familles de situation (en colonne)\n",
    "my_ca.mapping_col(num_x_axis=1,num_y_axis=2)"
   ]
  },
  {
   "cell_type": "code",
   "execution_count": 24,
   "id": "ec01cff8",
   "metadata": {},
   "outputs": [
    {
     "data": {
      "image/png": "[encoded data removed]",
      "text/plain": [
       "<Figure size 1000x800 with 1 Axes>"
      ]
     },
     "metadata": {},
     "output_type": "display_data"
    }
   ],
   "source": [
    "# Graphique profil ligne profil colonne\n",
    "\n",
    "my_ca.mapping(1, 2, figsize=(10, 8))"
   ]
  }
 ],
 "metadata": {
  "kernelspec": {
   "display_name": "Python 3",
   "language": "python",
   "name": "python3"
  },
  "language_info": {
   "codemirror_mode": {
    "name": "ipython",
    "version": 3
   },
   "file_extension": ".py",
   "mimetype": "text/x-python",
   "name": "python",
   "nbconvert_exporter": "python",
   "pygments_lexer": "ipython3",
   "version": "3.9.13"
  }
 },
 "nbformat": 4,
 "nbformat_minor": 5
}
